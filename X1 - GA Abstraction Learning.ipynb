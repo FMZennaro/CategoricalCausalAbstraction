{
 "cells": [
  {
   "cell_type": "markdown",
   "metadata": {},
   "source": [
    "# Genetic Algorithm"
   ]
  },
  {
   "cell_type": "markdown",
   "metadata": {},
   "source": [
    "In this notebook we learn an abstraction using genetic algorithms.\n",
    "\n",
    "Code is cloned and adapted from https://github.com/chengxi600/RLStuff/blob/master/Genetic%20Algorithms/8Queens_GA.ipynb"
   ]
  },
  {
   "cell_type": "markdown",
   "metadata": {},
   "source": [
    "## Importing libraries\n",
    "\n",
    "We import the basic libraries."
   ]
  },
  {
   "cell_type": "code",
   "execution_count": 1,
   "metadata": {},
   "outputs": [],
   "source": [
    "import numpy as np\n",
    "import itertools\n",
    "from scipy.spatial import distance\n",
    "from scipy.sparse import coo_matrix\n",
    "\n",
    "from pgmpy.models import BayesianNetwork as BN\n",
    "from pgmpy.factors.discrete import TabularCPD as cpd"
   ]
  },
  {
   "cell_type": "markdown",
   "metadata": {},
   "source": [
    "## Defining constants\n",
    "\n",
    "We first define reproducibility and output constants"
   ]
  },
  {
   "cell_type": "code",
   "execution_count": 2,
   "metadata": {},
   "outputs": [],
   "source": [
    "np.random.seed(1985)\n",
    "\n",
    "np.set_printoptions(precision=4,suppress=True)"
   ]
  },
  {
   "cell_type": "markdown",
   "metadata": {},
   "source": [
    "We then specify GA constants."
   ]
  },
  {
   "cell_type": "code",
   "execution_count": 3,
   "metadata": {},
   "outputs": [],
   "source": [
    "POPULATION_SIZE = 10\n",
    "CROSSOVER_POINTS = 1\n",
    "PARENTS_PER_OFFSPRING = 2\n",
    "MUTATION_RATE = 0.1\n",
    "\n",
    "NON_SURJ_PENALTY = 100"
   ]
  },
  {
   "cell_type": "markdown",
   "metadata": {},
   "source": [
    "## Problem statement\n",
    "\n",
    "We want to learn an abstraction $(R,a,\\alpha_X)$ between two structural causal models $\\mathcal{M}$ and $\\mathcal{M'}$. We are given $R,a$, and we want to learn the collection of maps $\\alpha_X$, which have the form of binary matrices."
   ]
  },
  {
   "cell_type": "markdown",
   "metadata": {},
   "source": [
    "Our base model is:\n",
    "\n",
    "$$\n",
    "\\begin{array}{ccccc}\n",
    "S & \\overset{\\mu_T}{\\longrightarrow} & T & \\overset{\\mu_C}{\\longrightarrow} & C\n",
    "\\end{array}\n",
    "$$\n",
    "\n",
    "while the abstracted model is:\n",
    "$$\n",
    "\\begin{array}{ccc}\n",
    "S' & \\overset{\\mu_{T'}}{\\longrightarrow} & T' & \\overset{\\mu_{C'}}{\\longrightarrow} & C'\n",
    "\\end{array}\n",
    "$$\n",
    "\n",
    "where $\\mu_\\cdot$ are the mechanism of the structural causal model, expressed again as matrices."
   ]
  },
  {
   "cell_type": "markdown",
   "metadata": {},
   "source": [
    "The set of relevant variables $R$ includes all the base variables ($S,T,C$) and $a$ trivially maps every base variable to the corresponding abstracted variable ($S\\mapsto S', T\\mapsto T', C\\mapsto C'$)."
   ]
  },
  {
   "cell_type": "markdown",
   "metadata": {},
   "source": [
    "Our aim is to learn the abstractions $\\alpha_{S'},\\alpha_{T'},\\alpha_{C'}$ such that the following three diagrams commute:\n",
    "\n",
    "(i) $$\n",
    "\\begin{array}{ccc}\n",
    "S& \\overset{\\mu_T}{\\rightarrow} & T \\\\\n",
    "\\alpha_{S'}{\\downarrow}& &{\\downarrow}\\alpha_{T'} \\\\\n",
    "S'& \\overset{\\mu_{T'}}{\\rightarrow} & T'\n",
    "\\end{array}\n",
    "$$\n",
    "meaning that we want the following equation to hold: $\\alpha_{T'} \\cdot \\mu_T = \\mu_{T'} \\cdot \\alpha_{S'}$;\n",
    "\n",
    "(ii)\n",
    "$$\n",
    "\\begin{array}{ccc}\n",
    "T& \\overset{\\mu_C}{\\rightarrow} & C \\\\\n",
    "\\alpha_{T'}{\\downarrow}& &{\\downarrow}\\alpha_{C'} \\\\\n",
    "T'& \\overset{\\mu_{C'}}{\\rightarrow} & C'\n",
    "\\end{array}\n",
    "$$\n",
    "meaning that we want the following equation to hold: $\\alpha_{C'} \\cdot \\mu_C = \\mu_{C'} \\cdot \\alpha_{T'}$;\n",
    "\n",
    "(iii)\n",
    "$$\n",
    "\\begin{array}{ccc}\n",
    "S& \\overset{\\mu_C\\cdot\\mu_T}{\\rightarrow} & C \\\\\n",
    "\\alpha_{S'}{\\downarrow}& &{\\downarrow}\\alpha_{C'} \\\\\n",
    "S'& \\overset{\\mu_{C'} \\cdot \\mu_{T'}}{\\rightarrow} & C'\n",
    "\\end{array}\n",
    "$$\n",
    "meaning that we want the following equation to hold: $\\alpha_{C'} \\cdot (\\mu_C\\cdot\\mu_T) = (\\mu_{T'} \\cdot \\mu_{C'}) \\cdot \\alpha_{S'}$."
   ]
  },
  {
   "cell_type": "markdown",
   "metadata": {},
   "source": [
    "## Model definition"
   ]
  },
  {
   "cell_type": "markdown",
   "metadata": {},
   "source": [
    "We start defining the matrices for the mechanisms $\\mu_T, \\mu_C, \\mu_{T'}, \\mu_{C'}$."
   ]
  },
  {
   "cell_type": "code",
   "execution_count": 4,
   "metadata": {},
   "outputs": [],
   "source": [
    "mech_low_T = np.array([[.6,.55,.1,.1],[.3,.25,.4,.4],[.1,.2,.5,.5]], dtype=np.float32)\n",
    "mech_low_C = np.array([[.7,.7,.4],[.3,.3,.6]], dtype=np.float32)\n",
    "mech_high_T = np.array([[.9,.8,.5],[.1,.2,.5]], dtype=np.float32)\n",
    "mech_high_C = np.array([[.7,.4],[.3,.6]], dtype=np.float32)"
   ]
  },
  {
   "cell_type": "markdown",
   "metadata": {},
   "source": [
    "Then we implement the base model $\\mathcal{M}$:"
   ]
  },
  {
   "cell_type": "code",
   "execution_count": 5,
   "metadata": {},
   "outputs": [
    {
     "data": {
      "text/plain": [
       "True"
      ]
     },
     "execution_count": 5,
     "metadata": {},
     "output_type": "execute_result"
    }
   ],
   "source": [
    "M0 = BN([('S','T'),('T','C')])\n",
    "\n",
    "cpdS = cpd(variable='S',\n",
    "          variable_card=4,\n",
    "          values=[[.25],[.25],[.25],[.25]],\n",
    "          evidence=None,\n",
    "          evidence_card=None)\n",
    "cpdT = cpd(variable='T',\n",
    "          variable_card=3,\n",
    "          values=mech_low_T,\n",
    "          evidence=['S'],\n",
    "          evidence_card=[4])\n",
    "cpdC = cpd(variable='C',\n",
    "          variable_card=2,\n",
    "          values=mech_low_C,\n",
    "          evidence=['T'],\n",
    "          evidence_card=[3])\n",
    "\n",
    "M0.add_cpds(cpdS,cpdT,cpdC)\n",
    "M0.check_model()"
   ]
  },
  {
   "cell_type": "markdown",
   "metadata": {},
   "source": [
    "And model $\\mathcal{M'}$:"
   ]
  },
  {
   "cell_type": "code",
   "execution_count": 6,
   "metadata": {},
   "outputs": [
    {
     "data": {
      "text/plain": [
       "True"
      ]
     },
     "execution_count": 6,
     "metadata": {},
     "output_type": "execute_result"
    }
   ],
   "source": [
    "M1 = BN([('S_','T_'),('T_','C_')])\n",
    "\n",
    "cpdS = cpd(variable='S_',\n",
    "          variable_card=3,\n",
    "          values=[[.25],[.5],[.25]],\n",
    "          evidence=None,\n",
    "          evidence_card=None)\n",
    "cpdT = cpd(variable='T_',\n",
    "          variable_card=2,\n",
    "          values=mech_high_T,\n",
    "          evidence=['S_'],\n",
    "          evidence_card=[3])\n",
    "cpdC = cpd(variable='C_',\n",
    "          variable_card=2,\n",
    "          values=mech_high_C,\n",
    "          evidence=['T_'],\n",
    "          evidence_card=[2])\n",
    "\n",
    "M1.add_cpds(cpdS,cpdT,cpdC)\n",
    "M1.check_model()"
   ]
  },
  {
   "cell_type": "markdown",
   "metadata": {},
   "source": [
    "Notice that, for the sake of this problem, the complete definition of the two models is not required (and we will not be using the variables $M0$ and $M1$ later). Yet, this gives a full picture of the setting, and it allows to see how the abstracted models is a smaller version (fewer outcomes) of the base model."
   ]
  },
  {
   "cell_type": "markdown",
   "metadata": {},
   "source": [
    "For reference, we also formally define the unique solution of our learning problem. Again, this data is provided only for completeness, and it will not be used in learning."
   ]
  },
  {
   "cell_type": "code",
   "execution_count": 7,
   "metadata": {},
   "outputs": [],
   "source": [
    "R = ['S','T','C']\n",
    "a = {'S': 'S_',\n",
    "     'T': 'T_',\n",
    "     'C': 'C_'}\n",
    "alphas = {\"S_\": np.array([[1,0,0,0],\n",
    "                [0,1,0,0],\n",
    "                [0,0,1,1]]),\n",
    "         \"T_\": np.array([[1,1,0],\n",
    "                [0,0,1]]),\n",
    "         \"C_\": np.array([[1,0],\n",
    "                [0,1]])}\n",
    "\n",
    "from src.legacy.SCMMappings_1_0 import Abstraction\n",
    "A = Abstraction(M0,M1,R,a,alphas)"
   ]
  },
  {
   "cell_type": "markdown",
   "metadata": {},
   "source": [
    "A complete description of the model and the abstraction may be found in previous notebook."
   ]
  },
  {
   "cell_type": "markdown",
   "metadata": {},
   "source": [
    "## Learning setup\n",
    "\n",
    "The aim of our problem is to learn three abstraction maps ($\\alpha_{S'},\\alpha_{T'},\\alpha_{C'}$). Each one can be encoded as a matrix with following properties:\n",
    "- *large rectangular*: the number of rows is less or equal to the number of columns;\n",
    "- *binary*: values are in $\\{0,1\\}$;\n",
    "- *stochastic*: columns sum up to $1$;\n",
    "- *surjective*: every row contains at least a $1$.\n",
    "\n",
    "We then define, as constant for our problem, the matrices we want to learn and their dimensions."
   ]
  },
  {
   "cell_type": "code",
   "execution_count": 8,
   "metadata": {},
   "outputs": [],
   "source": [
    "MATRICES = [[3,4],[2,3],[2,2]]\n",
    "N_MATRICES = len(MATRICES)"
   ]
  },
  {
   "cell_type": "markdown",
   "metadata": {},
   "source": [
    "## Encoding\n",
    "\n",
    "We will consider two representations for our matrices $\\alpha_{S'},\\alpha_{T'},\\alpha_{C'}$:\n",
    "- **Binary matrix:** $\\alpha_{\\cdot}$ is represented as a binary matrix; this representation is useful to quickly assess the properties described above;\n",
    "- **Discrete vector:** in analogy with the *n-queens problem*, we also compress a matrix into a discrete vector; an $(m \\times n)$ matrix is translated into a $n$-values vector where each entry takes a value in $[0,m-1]$ representing the position of the zero.\n",
    "\n",
    "The two representations are equivalent; we have the following duality:\n",
    "$$\n",
    "\\left[\\begin{array}{cccc}\n",
    "0 & 1 & 1 & 0\\\\\n",
    "1 & 0 & 0 & 0\\\\\n",
    "0 & 0 & 0 & 1\n",
    "\\end{array}\\right]\\leftrightarrows\\left[\\begin{array}{cccc}\n",
    "1 & 0 & 0 & 2\\end{array}\\right]\n",
    "$$"
   ]
  },
  {
   "cell_type": "markdown",
   "metadata": {},
   "source": [
    "We implement two function to convert between these representations:"
   ]
  },
  {
   "cell_type": "code",
   "execution_count": 9,
   "metadata": {},
   "outputs": [],
   "source": [
    "def convert_population_vector2matrix(population):\n",
    "    \n",
    "    new_population = []\n",
    "    for ind in population:\n",
    "        \n",
    "        new_individual = []\n",
    "        for i in range(N_MATRICES):\n",
    "            rows = ind[i]\n",
    "            cols = np.arange(MATRICES[i][1])\n",
    "            data = np.ones(MATRICES[i][1])\n",
    "            new_matrix = coo_matrix((data, (rows,cols)), shape=(MATRICES[i][0],MATRICES[i][1])).toarray()\n",
    "        \n",
    "            new_individual.append(new_matrix)\n",
    "        \n",
    "        new_population.append(new_individual)\n",
    "    \n",
    "    return new_population\n",
    "\n",
    "def convert_population_matrix2vector(population):\n",
    "    \n",
    "    new_population = []\n",
    "    for ind in population:\n",
    "        \n",
    "        new_individual = []\n",
    "        for i in range(N_MATRICES):\n",
    "            matrix = coo_matrix(ind[i])\n",
    "            rows = matrix.row\n",
    "            cols = matrix.col\n",
    "            idxs = np.argsort(cols)\n",
    "            new_vector = matrix.row[idxs]\n",
    "            \n",
    "            new_individual.append(new_vector)\n",
    "        \n",
    "        new_population.append(new_individual)\n",
    "    \n",
    "    return new_population"
   ]
  },
  {
   "cell_type": "markdown",
   "metadata": {},
   "source": [
    "**TODO:** testing the conversion functions"
   ]
  },
  {
   "cell_type": "code",
   "execution_count": 10,
   "metadata": {},
   "outputs": [],
   "source": [
    "def test_conversion(population):\n",
    "    test_population = convert_population_matrix2vector(convert_population_vector2matrix(population))\n",
    "    \n",
    "    return False"
   ]
  },
  {
   "cell_type": "markdown",
   "metadata": {},
   "source": [
    "## Specifying individuals and populations\n",
    "\n",
    "In our implementation, we will define:\n",
    "- *individual* as a single solution for $\\alpha_{S'},\\alpha_{T'},\\alpha_{C'}$;\n",
    "- *population* as a collection of such individuals\n",
    "\n",
    "We define a function to generate a random starting population."
   ]
  },
  {
   "cell_type": "code",
   "execution_count": 11,
   "metadata": {},
   "outputs": [],
   "source": [
    "def generate_population():\n",
    "    new_population = []\n",
    "\n",
    "    for _ in range(POPULATION_SIZE):\n",
    "        new_individual = []\n",
    "        for i in range(N_MATRICES):\n",
    "            new_vector = np.random.randint(MATRICES[i][0],size=MATRICES[i][1])\n",
    "            new_individual.append(new_vector)\n",
    "        new_population.append(new_individual)\n",
    "    \n",
    "    return new_population"
   ]
  },
  {
   "cell_type": "markdown",
   "metadata": {},
   "source": [
    "We create a population and take a look at it."
   ]
  },
  {
   "cell_type": "code",
   "execution_count": 12,
   "metadata": {},
   "outputs": [
    {
     "data": {
      "text/plain": [
       "[[array([1, 1, 2, 0]), array([1, 0, 0]), array([0, 0])],\n",
       " [array([2, 2, 2, 1]), array([1, 1, 0]), array([1, 0])],\n",
       " [array([1, 0, 2, 1]), array([0, 0, 0]), array([0, 0])],\n",
       " [array([2, 0, 2, 2]), array([1, 1, 1]), array([1, 1])],\n",
       " [array([1, 1, 0, 1]), array([0, 1, 0]), array([1, 1])],\n",
       " [array([2, 0, 2, 0]), array([0, 1, 1]), array([0, 1])],\n",
       " [array([1, 0, 1, 0]), array([0, 0, 1]), array([0, 1])],\n",
       " [array([0, 0, 0, 0]), array([1, 0, 0]), array([0, 0])],\n",
       " [array([0, 1, 1, 0]), array([0, 0, 0]), array([0, 1])],\n",
       " [array([1, 2, 2, 0]), array([0, 0, 1]), array([0, 0])]]"
      ]
     },
     "execution_count": 12,
     "metadata": {},
     "output_type": "execute_result"
    }
   ],
   "source": [
    "pop = generate_population()\n",
    "pop"
   ]
  },
  {
   "cell_type": "markdown",
   "metadata": {},
   "source": [
    "## Fitness function\n",
    "\n",
    "We evaluate a candidate solution according to two criteria.\n",
    "\n",
    "(i) First, we want the solution to satisfy the properties listed above for the $\\alpha_\\cdot$ matrices. Notice that the first three properties (large rectangular, binary, stochastic) are trivially guaranteed by our encoding; surjectivity, however has to be checked. We then introduce a function that check for surjectivity and returns how many matrices $\\alpha_\\cdot$ do not satisfy this property."
   ]
  },
  {
   "cell_type": "code",
   "execution_count": 13,
   "metadata": {},
   "outputs": [],
   "source": [
    "def check_surjectivity(individual):\n",
    "    penalty = 0\n",
    "    for i in range(N_MATRICES): \n",
    "        if not np.all(np.sum(individual[i],axis=1)>=1): penalty+=1\n",
    "    \n",
    "    return penalty"
   ]
  },
  {
   "cell_type": "markdown",
   "metadata": {},
   "source": [
    "(ii) Second, we want the learned abstraction matrices to guarantee the following identities:\n",
    "\n",
    "$$\\alpha_{T'} \\cdot \\mu_T = \\mu_{T'} \\cdot \\alpha_{S'}$$\n",
    "$$\\alpha_{C'} \\cdot \\mu_C = \\mu_{C'} \\cdot \\alpha_{T'}$$\n",
    "$$\\alpha_{C'} \\cdot (\\mu_C\\cdot\\mu_T) = (\\mu_{T'} \\cdot \\mu_{C'}) \\cdot \\alpha_{S'}$$"
   ]
  },
  {
   "cell_type": "markdown",
   "metadata": {},
   "source": [
    "when this does not happen, we estimate the quality/fitness of the solution as the Jensen-Shannon distance between lhs and rhs:\n",
    "$$D_{JSD}(\\alpha_{T'} \\cdot \\mu_T, \\mu_{T'} \\cdot \\alpha_{S'}) +$$\n",
    "$$D_{JSD}(\\alpha_{C'} \\cdot \\mu_C, \\mu_{C'} \\cdot \\alpha_{T'}) +$$\n",
    "$$D_{JSD}(\\alpha_{C'} \\cdot (\\mu_C\\cdot\\mu_T), (\\mu_{T'} \\cdot \\mu_{C'}) \\cdot \\alpha_{S'})$$\n",
    "\n",
    "We implement it into a function."
   ]
  },
  {
   "cell_type": "code",
   "execution_count": 14,
   "metadata": {},
   "outputs": [],
   "source": [
    "def compute_jsd(individual):\n",
    "    jsd = 0\n",
    "    jsd += np.max(distance.jensenshannon(np.dot(individual[1],mech_low_T),np.dot(mech_high_T,individual[0])))\n",
    "    jsd += np.max(distance.jensenshannon(np.dot(individual[2],mech_low_C),np.dot(mech_high_C,individual[1])))\n",
    "    jsd += np.max(distance.jensenshannon(np.dot(individual[2],np.dot(mech_low_C,mech_low_T)),np.dot(np.dot(mech_high_C,mech_high_T),individual[0])))\n",
    "    return jsd"
   ]
  },
  {
   "cell_type": "markdown",
   "metadata": {},
   "source": [
    "The total fitness is the sum of the number of violation of surjectivity (scaled by a large number to penalize this violation) plus the JS distance."
   ]
  },
  {
   "cell_type": "code",
   "execution_count": 15,
   "metadata": {},
   "outputs": [],
   "source": [
    "def fitness_score(individual):\n",
    "    score = - NON_SURJ_PENALTY*check_surjectivity(individual) - compute_jsd(individual)\n",
    "    return score"
   ]
  },
  {
   "cell_type": "markdown",
   "metadata": {},
   "source": [
    "We use a helper printing function to compute the fitness over a population."
   ]
  },
  {
   "cell_type": "code",
   "execution_count": 16,
   "metadata": {},
   "outputs": [],
   "source": [
    "def print_fitnesses(population):\n",
    "    pop_matrix = convert_population_vector2matrix(population)\n",
    "    for ind in pop_matrix:\n",
    "        print(fitness_score(ind))"
   ]
  },
  {
   "cell_type": "code",
   "execution_count": 17,
   "metadata": {},
   "outputs": [
    {
     "name": "stdout",
     "output_type": "stream",
     "text": [
      "-101.27762383771446\n",
      "-100.55059013283281\n",
      "-201.24180851681268\n",
      "-301.69601475947366\n",
      "-201.40258316569674\n",
      "-100.90874367293848\n",
      "-100.40609848296018\n",
      "-201.27065315437133\n",
      "-200.5757060434273\n",
      "-101.27762383208756\n"
     ]
    }
   ],
   "source": [
    "print_fitnesses(pop)"
   ]
  },
  {
   "cell_type": "markdown",
   "metadata": {},
   "source": [
    "## Genetic operators\n",
    "\n",
    "Next we define genetic operators, most of which are just inherited from https://github.com/chengxi600/RLStuff/blob/master/Genetic%20Algorithms/8Queens_GA.ipynb."
   ]
  },
  {
   "cell_type": "markdown",
   "metadata": {},
   "source": [
    "### Selection operator\n",
    "\n",
    "We define a simple function to select parents proportionally to their fitness"
   ]
  },
  {
   "cell_type": "code",
   "execution_count": 18,
   "metadata": {},
   "outputs": [],
   "source": [
    "def selection(population):\n",
    "    parents = []\n",
    "    \n",
    "    pop_matrix = convert_population_vector2matrix(population)\n",
    "    for ind in pop_matrix:\n",
    "        if np.random.randint(N_MATRICES*NON_SURJ_PENALTY) > -fitness_score(ind):\n",
    "            parents.append(ind)\n",
    "    \n",
    "    return convert_population_matrix2vector(parents)"
   ]
  },
  {
   "cell_type": "markdown",
   "metadata": {},
   "source": [
    "We check the operator on our initial population."
   ]
  },
  {
   "cell_type": "code",
   "execution_count": 19,
   "metadata": {},
   "outputs": [
    {
     "name": "stdout",
     "output_type": "stream",
     "text": [
      "-200.5757060434273\n",
      "-101.27762383208756\n"
     ]
    }
   ],
   "source": [
    "sel = selection(pop)\n",
    "print_fitnesses(sel)"
   ]
  },
  {
   "cell_type": "markdown",
   "metadata": {},
   "source": [
    "### Crossover operator\n",
    "\n",
    "We define a crossover operator by allowing two parents to swap matrices. In other words, a cross-over point $p$ is selected in $[0,N_MATRICES-1]$. The new child will inherit matrices $0$ to $p$ from the first parent, and $p$ to $N_MATRICES-1$ from the second parent. \n",
    "\n",
    "Notice that this cross-over operator does not affect the internal structure of individual matrices."
   ]
  },
  {
   "cell_type": "code",
   "execution_count": 20,
   "metadata": {},
   "outputs": [],
   "source": [
    "def crossover(parents,verbose=False):\n",
    "    \n",
    "    offsprings = []\n",
    "    permutations = list(itertools.permutations(parents, PARENTS_PER_OFFSPRING))\n",
    "    for p in permutations:\n",
    "        if verbose: print(p)\n",
    "    \n",
    "    for perm in permutations:\n",
    "        if verbose: print('\\nCandidates in the perm: \\n {0} \\n {1}'.format(perm[0],perm[1]))\n",
    "        \n",
    "        offspring0 = perm[0]\n",
    "        offspring1 = perm[1]\n",
    "        offspring = []\n",
    "        crosspoint = np.random.randint(N_MATRICES)\n",
    "        if verbose: print('Crosspont: {0}'.format(crosspoint))\n",
    "        \n",
    "        for i in range(0,crosspoint):\n",
    "            offspring.append(offspring0[i])\n",
    "        for i in range(crosspoint,len(offspring1)):\n",
    "            offspring.append(offspring1[i])\n",
    "        \n",
    "        if verbose: print('Crossed-over offspring: {0}'.format(offspring))\n",
    "        offsprings.append(offspring)\n",
    "        if verbose: print(offsprings)\n",
    "        \n",
    "    return offsprings"
   ]
  },
  {
   "cell_type": "markdown",
   "metadata": {},
   "source": [
    "We run an instance of cross-over in verbose mode on a sub-population to examine its behaviour."
   ]
  },
  {
   "cell_type": "code",
   "execution_count": 21,
   "metadata": {},
   "outputs": [
    {
     "name": "stdout",
     "output_type": "stream",
     "text": [
      "([array([1, 1, 2, 0]), array([1, 0, 0]), array([0, 0])], [array([2, 2, 2, 1]), array([1, 1, 0]), array([1, 0])])\n",
      "([array([1, 1, 2, 0]), array([1, 0, 0]), array([0, 0])], [array([1, 0, 2, 1]), array([0, 0, 0]), array([0, 0])])\n",
      "([array([2, 2, 2, 1]), array([1, 1, 0]), array([1, 0])], [array([1, 1, 2, 0]), array([1, 0, 0]), array([0, 0])])\n",
      "([array([2, 2, 2, 1]), array([1, 1, 0]), array([1, 0])], [array([1, 0, 2, 1]), array([0, 0, 0]), array([0, 0])])\n",
      "([array([1, 0, 2, 1]), array([0, 0, 0]), array([0, 0])], [array([1, 1, 2, 0]), array([1, 0, 0]), array([0, 0])])\n",
      "([array([1, 0, 2, 1]), array([0, 0, 0]), array([0, 0])], [array([2, 2, 2, 1]), array([1, 1, 0]), array([1, 0])])\n",
      "\n",
      "Candidates in the perm: \n",
      " [array([1, 1, 2, 0]), array([1, 0, 0]), array([0, 0])] \n",
      " [array([2, 2, 2, 1]), array([1, 1, 0]), array([1, 0])]\n",
      "Crosspont: 1\n",
      "Crossed-over offspring: [array([1, 1, 2, 0]), array([1, 1, 0]), array([1, 0])]\n",
      "[[array([1, 1, 2, 0]), array([1, 1, 0]), array([1, 0])]]\n",
      "\n",
      "Candidates in the perm: \n",
      " [array([1, 1, 2, 0]), array([1, 0, 0]), array([0, 0])] \n",
      " [array([1, 0, 2, 1]), array([0, 0, 0]), array([0, 0])]\n",
      "Crosspont: 2\n",
      "Crossed-over offspring: [array([1, 1, 2, 0]), array([1, 0, 0]), array([0, 0])]\n",
      "[[array([1, 1, 2, 0]), array([1, 1, 0]), array([1, 0])], [array([1, 1, 2, 0]), array([1, 0, 0]), array([0, 0])]]\n",
      "\n",
      "Candidates in the perm: \n",
      " [array([2, 2, 2, 1]), array([1, 1, 0]), array([1, 0])] \n",
      " [array([1, 1, 2, 0]), array([1, 0, 0]), array([0, 0])]\n",
      "Crosspont: 1\n",
      "Crossed-over offspring: [array([2, 2, 2, 1]), array([1, 0, 0]), array([0, 0])]\n",
      "[[array([1, 1, 2, 0]), array([1, 1, 0]), array([1, 0])], [array([1, 1, 2, 0]), array([1, 0, 0]), array([0, 0])], [array([2, 2, 2, 1]), array([1, 0, 0]), array([0, 0])]]\n",
      "\n",
      "Candidates in the perm: \n",
      " [array([2, 2, 2, 1]), array([1, 1, 0]), array([1, 0])] \n",
      " [array([1, 0, 2, 1]), array([0, 0, 0]), array([0, 0])]\n",
      "Crosspont: 2\n",
      "Crossed-over offspring: [array([2, 2, 2, 1]), array([1, 1, 0]), array([0, 0])]\n",
      "[[array([1, 1, 2, 0]), array([1, 1, 0]), array([1, 0])], [array([1, 1, 2, 0]), array([1, 0, 0]), array([0, 0])], [array([2, 2, 2, 1]), array([1, 0, 0]), array([0, 0])], [array([2, 2, 2, 1]), array([1, 1, 0]), array([0, 0])]]\n",
      "\n",
      "Candidates in the perm: \n",
      " [array([1, 0, 2, 1]), array([0, 0, 0]), array([0, 0])] \n",
      " [array([1, 1, 2, 0]), array([1, 0, 0]), array([0, 0])]\n",
      "Crosspont: 2\n",
      "Crossed-over offspring: [array([1, 0, 2, 1]), array([0, 0, 0]), array([0, 0])]\n",
      "[[array([1, 1, 2, 0]), array([1, 1, 0]), array([1, 0])], [array([1, 1, 2, 0]), array([1, 0, 0]), array([0, 0])], [array([2, 2, 2, 1]), array([1, 0, 0]), array([0, 0])], [array([2, 2, 2, 1]), array([1, 1, 0]), array([0, 0])], [array([1, 0, 2, 1]), array([0, 0, 0]), array([0, 0])]]\n",
      "\n",
      "Candidates in the perm: \n",
      " [array([1, 0, 2, 1]), array([0, 0, 0]), array([0, 0])] \n",
      " [array([2, 2, 2, 1]), array([1, 1, 0]), array([1, 0])]\n",
      "Crosspont: 2\n",
      "Crossed-over offspring: [array([1, 0, 2, 1]), array([0, 0, 0]), array([1, 0])]\n",
      "[[array([1, 1, 2, 0]), array([1, 1, 0]), array([1, 0])], [array([1, 1, 2, 0]), array([1, 0, 0]), array([0, 0])], [array([2, 2, 2, 1]), array([1, 0, 0]), array([0, 0])], [array([2, 2, 2, 1]), array([1, 1, 0]), array([0, 0])], [array([1, 0, 2, 1]), array([0, 0, 0]), array([0, 0])], [array([1, 0, 2, 1]), array([0, 0, 0]), array([1, 0])]]\n"
     ]
    },
    {
     "data": {
      "text/plain": [
       "[[array([1, 1, 2, 0]), array([1, 1, 0]), array([1, 0])],\n",
       " [array([1, 1, 2, 0]), array([1, 0, 0]), array([0, 0])],\n",
       " [array([2, 2, 2, 1]), array([1, 0, 0]), array([0, 0])],\n",
       " [array([2, 2, 2, 1]), array([1, 1, 0]), array([0, 0])],\n",
       " [array([1, 0, 2, 1]), array([0, 0, 0]), array([0, 0])],\n",
       " [array([1, 0, 2, 1]), array([0, 0, 0]), array([1, 0])]]"
      ]
     },
     "execution_count": 21,
     "metadata": {},
     "output_type": "execute_result"
    }
   ],
   "source": [
    "sub_pop = pop[0:3]\n",
    "crossover(sub_pop,verbose=True)"
   ]
  },
  {
   "cell_type": "markdown",
   "metadata": {},
   "source": [
    "### Mutation operator\n",
    "\n",
    "Finally, we define a mutation operator than simply flip a value with a given probability. Since the mutation operator is the only operator changing the internal structure of a matrix, we may have to set its probability to a relatively high value."
   ]
  },
  {
   "cell_type": "code",
   "execution_count": 22,
   "metadata": {},
   "outputs": [],
   "source": [
    "def mutate(population,verbose=False):\n",
    "    for ind in population:\n",
    "        for i in range(N_MATRICES):\n",
    "            for j in range(len(ind[i])):\n",
    "                if np.random.rand() < MUTATION_RATE:\n",
    "                    if verbose: print('Mutation in {0},{1},{2}!'.format(ind,i,j))\n",
    "                    ind[i][j] = np.random.randint(MATRICES[i][0])\n",
    "    \n",
    "    return population"
   ]
  },
  {
   "cell_type": "markdown",
   "metadata": {},
   "source": [
    "**TODO:** make it efficient taking out the loops."
   ]
  },
  {
   "cell_type": "markdown",
   "metadata": {},
   "source": [
    "## Genetic algorithm\n",
    "\n",
    "We now bring all our functions togehter, and define a single step in the genetic algorithm. It starts from a given population, selects parents, performs crossover, performs mutation, subselects survivors according to fitness, returns a new generation."
   ]
  },
  {
   "cell_type": "code",
   "execution_count": 23,
   "metadata": {},
   "outputs": [],
   "source": [
    "def evolution_step(population):\n",
    "    parents = selection(population)\n",
    "\n",
    "    offsprings = crossover(parents)\n",
    "\n",
    "    offsprings = mutate(offsprings)\n",
    "\n",
    "    new_gen = offsprings\n",
    "    for ind in population:\n",
    "        new_gen.append(ind)\n",
    "    idxs = np.argsort(list(map(fitness_score,convert_population_vector2matrix(new_gen))))[::-1][0:POPULATION_SIZE]\n",
    "    new_gen = [new_gen[i] for i in idxs]\n",
    "\n",
    "    return new_gen"
   ]
  },
  {
   "cell_type": "markdown",
   "metadata": {},
   "source": [
    "## Simulation\n",
    "\n",
    "We are now ready to setup the simulation.\n",
    "\n",
    "We define a termination condition that let us run until we find the solution."
   ]
  },
  {
   "cell_type": "code",
   "execution_count": 24,
   "metadata": {},
   "outputs": [],
   "source": [
    "def print_found_goal(population, to_print=True):\n",
    "    for ind in convert_population_vector2matrix(population):\n",
    "        score = fitness_score(ind)\n",
    "        if to_print:\n",
    "            print('Score: {0}'.format(score))\n",
    "            #print(f'{ind}. Score: {score}')\n",
    "        if np.isclose(score,0):\n",
    "            if to_print:\n",
    "                print('Solution found')\n",
    "            return True\n",
    "    \n",
    "    if to_print:\n",
    "        print('Solution not found')\n",
    "    return False"
   ]
  },
  {
   "cell_type": "markdown",
   "metadata": {},
   "source": [
    "And, finally, we run the simulation by generating a starting population and taking one GA step at a time."
   ]
  },
  {
   "cell_type": "code",
   "execution_count": 25,
   "metadata": {},
   "outputs": [
    {
     "name": "stdout",
     "output_type": "stream",
     "text": [
      "Score: -0.5536314351129212\n",
      "Score: -100.28997681794073\n",
      "Score: -101.03276236101\n",
      "Score: -201.5031063807406\n",
      "Score: -100.90874367563687\n",
      "Score: -0.6634064438239131\n",
      "Score: -200.99418570294102\n",
      "Score: -1.0928541482958514\n",
      "Score: -201.25626034322113\n",
      "Score: -301.4246577740111\n",
      "Solution not found\n",
      "Generation: 0\n",
      "Score: -0.5536314351129212\n",
      "Score: -100.28997681794073\n",
      "Score: -101.03276236101\n",
      "Score: -201.5031063807406\n",
      "Score: -100.90874367563687\n",
      "Score: -0.6634064438239131\n",
      "Score: -200.99418570294102\n",
      "Score: -1.0928541482958514\n",
      "Score: -201.25626034322113\n",
      "Score: -301.4246577740111\n",
      "Solution not found\n",
      "Score: -0.4060984917401661\n",
      "Score: -0.4060984917401661\n",
      "Score: -0.5536314351129212\n",
      "Score: -0.6634064438239131\n",
      "Score: -0.7125686466322962\n",
      "Score: -0.8201327495941557\n",
      "Score: -1.0928541482958514\n",
      "Score: -100.28997681794073\n",
      "Score: -100.90874367563687\n",
      "Score: -101.03276236101\n",
      "Solution not found\n",
      "Generation: 1\n",
      "Score: -0.4060984917401661\n",
      "Score: -0.4060984917401661\n",
      "Score: -0.5536314351129212\n",
      "Score: -0.6634064438239131\n",
      "Score: -0.7125686466322962\n",
      "Score: -0.8201327495941557\n",
      "Score: -1.0928541482958514\n",
      "Score: -100.28997681794073\n",
      "Score: -100.90874367563687\n",
      "Score: -101.03276236101\n",
      "Solution not found\n",
      "Score: -0.406098482960175\n",
      "Score: -0.4060984917401661\n",
      "Score: -0.4060984917401661\n",
      "Score: -0.4598964782632999\n",
      "Score: -0.5536314351129212\n",
      "Score: -0.5536314351129212\n",
      "Score: -0.5536314351129212\n",
      "Score: -0.6634064438239131\n",
      "Score: -0.7027200259266776\n",
      "Score: -0.7027200259266776\n",
      "Solution not found\n",
      "Generation: 2\n",
      "Score: -0.406098482960175\n",
      "Score: -0.4060984917401661\n",
      "Score: -0.4060984917401661\n",
      "Score: -0.4598964782632999\n",
      "Score: -0.5536314351129212\n",
      "Score: -0.5536314351129212\n",
      "Score: -0.5536314351129212\n",
      "Score: -0.6634064438239131\n",
      "Score: -0.7027200259266776\n",
      "Score: -0.7027200259266776\n",
      "Solution not found\n",
      "Score: -0.406098482960175\n",
      "Score: -0.4060984917401661\n",
      "Score: -0.4060984917401661\n",
      "Score: -0.4598964782632999\n",
      "Score: -0.5536314351129212\n",
      "Score: -0.5536314351129212\n",
      "Score: -0.5536314351129212\n",
      "Score: -0.5536314351129212\n",
      "Score: -0.5536314351129212\n",
      "Score: -0.5536314351129212\n",
      "Solution not found\n",
      "Generation: 3\n",
      "Score: -0.406098482960175\n",
      "Score: -0.4060984917401661\n",
      "Score: -0.4060984917401661\n",
      "Score: -0.4598964782632999\n",
      "Score: -0.5536314351129212\n",
      "Score: -0.5536314351129212\n",
      "Score: -0.5536314351129212\n",
      "Score: -0.5536314351129212\n",
      "Score: -0.5536314351129212\n",
      "Score: -0.5536314351129212\n",
      "Solution not found\n",
      "Score: -0.406098482960175\n",
      "Score: -0.406098482960175\n",
      "Score: -0.4060984917401661\n",
      "Score: -0.4060984917401661\n",
      "Score: -0.4060984917401661\n",
      "Score: -0.4598964782632999\n",
      "Score: -0.5536314351129212\n",
      "Score: -0.5536314351129212\n",
      "Score: -0.5536314351129212\n",
      "Score: -0.5536314351129212\n",
      "Solution not found\n",
      "Generation: 4\n",
      "Score: -0.406098482960175\n",
      "Score: -0.406098482960175\n",
      "Score: -0.4060984917401661\n",
      "Score: -0.4060984917401661\n",
      "Score: -0.4060984917401661\n",
      "Score: -0.4598964782632999\n",
      "Score: -0.5536314351129212\n",
      "Score: -0.5536314351129212\n",
      "Score: -0.5536314351129212\n",
      "Score: -0.5536314351129212\n",
      "Solution not found\n",
      "Score: -0.2899768179407264\n",
      "Score: -0.406098482960175\n",
      "Score: -0.406098482960175\n",
      "Score: -0.4060984917401661\n",
      "Score: -0.4060984917401661\n",
      "Score: -0.4060984917401661\n",
      "Score: -0.4598964782632999\n",
      "Score: -0.4598964782632999\n",
      "Score: -0.5536314351129212\n",
      "Score: -0.5536314351129212\n",
      "Solution not found\n",
      "Generation: 5\n",
      "Score: -0.2899768179407264\n",
      "Score: -0.406098482960175\n",
      "Score: -0.406098482960175\n",
      "Score: -0.4060984917401661\n",
      "Score: -0.4060984917401661\n",
      "Score: -0.4060984917401661\n",
      "Score: -0.4598964782632999\n",
      "Score: -0.4598964782632999\n",
      "Score: -0.5536314351129212\n",
      "Score: -0.5536314351129212\n",
      "Solution not found\n",
      "Score: -0.2899768179407264\n",
      "Score: -0.406098482960175\n",
      "Score: -0.406098482960175\n",
      "Score: -0.406098482960175\n",
      "Score: -0.406098482960175\n",
      "Score: -0.406098482960175\n",
      "Score: -0.4060984917401661\n",
      "Score: -0.4060984917401661\n",
      "Score: -0.4060984917401661\n",
      "Score: -0.4598964782632999\n",
      "Solution not found\n",
      "Generation: 6\n",
      "Score: -0.2899768179407264\n",
      "Score: -0.406098482960175\n",
      "Score: -0.406098482960175\n",
      "Score: -0.406098482960175\n",
      "Score: -0.406098482960175\n",
      "Score: -0.406098482960175\n",
      "Score: -0.4060984917401661\n",
      "Score: -0.4060984917401661\n",
      "Score: -0.4060984917401661\n",
      "Score: -0.4598964782632999\n",
      "Solution not found\n",
      "Score: -0.2899768179407264\n",
      "Score: -0.406098482960175\n",
      "Score: -0.406098482960175\n",
      "Score: -0.406098482960175\n",
      "Score: -0.406098482960175\n",
      "Score: -0.406098482960175\n",
      "Score: -0.4060984917401661\n",
      "Score: -0.4060984917401661\n",
      "Score: -0.4060984917401661\n",
      "Score: -0.4598964782632999\n",
      "Solution not found\n",
      "Generation: 7\n",
      "Score: -0.2899768179407264\n",
      "Score: -0.406098482960175\n",
      "Score: -0.406098482960175\n",
      "Score: -0.406098482960175\n",
      "Score: -0.406098482960175\n",
      "Score: -0.406098482960175\n",
      "Score: -0.4060984917401661\n",
      "Score: -0.4060984917401661\n",
      "Score: -0.4060984917401661\n",
      "Score: -0.4598964782632999\n",
      "Solution not found\n",
      "Score: -0.2899768179407264\n",
      "Score: -0.2899768179407264\n",
      "Score: -0.406098482960175\n",
      "Score: -0.406098482960175\n",
      "Score: -0.406098482960175\n",
      "Score: -0.406098482960175\n",
      "Score: -0.406098482960175\n",
      "Score: -0.406098482960175\n",
      "Score: -0.4060984917401661\n",
      "Score: -0.4060984917401661\n",
      "Solution not found\n",
      "Generation: 8\n",
      "Score: -0.2899768179407264\n",
      "Score: -0.2899768179407264\n",
      "Score: -0.406098482960175\n",
      "Score: -0.406098482960175\n",
      "Score: -0.406098482960175\n",
      "Score: -0.406098482960175\n",
      "Score: -0.406098482960175\n",
      "Score: -0.406098482960175\n",
      "Score: -0.4060984917401661\n",
      "Score: -0.4060984917401661\n",
      "Solution not found\n",
      "Score: -0.2899768179407264\n",
      "Score: -0.2899768179407264\n",
      "Score: -0.406098482960175\n",
      "Score: -0.406098482960175\n",
      "Score: -0.406098482960175\n",
      "Score: -0.406098482960175\n",
      "Score: -0.406098482960175\n",
      "Score: -0.406098482960175\n",
      "Score: -0.406098482960175\n",
      "Score: -0.406098482960175\n",
      "Solution not found\n",
      "Generation: 9\n",
      "Score: -0.2899768179407264\n",
      "Score: -0.2899768179407264\n",
      "Score: -0.406098482960175\n",
      "Score: -0.406098482960175\n",
      "Score: -0.406098482960175\n",
      "Score: -0.406098482960175\n",
      "Score: -0.406098482960175\n",
      "Score: -0.406098482960175\n",
      "Score: -0.406098482960175\n",
      "Score: -0.406098482960175\n",
      "Solution not found\n",
      "Score: -0.2899768179407264\n",
      "Score: -0.2899768179407264\n",
      "Score: -0.2899768179407264\n",
      "Score: -0.406098482960175\n",
      "Score: -0.406098482960175\n",
      "Score: -0.406098482960175\n",
      "Score: -0.406098482960175\n",
      "Score: -0.406098482960175\n",
      "Score: -0.406098482960175\n",
      "Score: -0.406098482960175\n",
      "Solution not found\n",
      "Generation: 10\n",
      "Score: -0.2899768179407264\n",
      "Score: -0.2899768179407264\n",
      "Score: -0.2899768179407264\n",
      "Score: -0.406098482960175\n",
      "Score: -0.406098482960175\n",
      "Score: -0.406098482960175\n",
      "Score: -0.406098482960175\n",
      "Score: -0.406098482960175\n",
      "Score: -0.406098482960175\n",
      "Score: -0.406098482960175\n",
      "Solution not found\n",
      "Score: -0.2899768179407264\n",
      "Score: -0.2899768179407264\n",
      "Score: -0.2899768179407264\n",
      "Score: -0.406098482960175\n",
      "Score: -0.406098482960175\n",
      "Score: -0.406098482960175\n",
      "Score: -0.406098482960175\n",
      "Score: -0.406098482960175\n",
      "Score: -0.406098482960175\n",
      "Score: -0.406098482960175\n",
      "Solution not found\n",
      "Generation: 11\n",
      "Score: -0.2899768179407264\n",
      "Score: -0.2899768179407264\n",
      "Score: -0.2899768179407264\n",
      "Score: -0.406098482960175\n",
      "Score: -0.406098482960175\n",
      "Score: -0.406098482960175\n",
      "Score: -0.406098482960175\n",
      "Score: -0.406098482960175\n",
      "Score: -0.406098482960175\n",
      "Score: -0.406098482960175\n",
      "Solution not found\n",
      "Score: -0.2899768179407264\n",
      "Score: -0.2899768179407264\n",
      "Score: -0.2899768179407264\n",
      "Score: -0.2899768179407264\n",
      "Score: -0.2899768179407264\n",
      "Score: -0.406098482960175\n",
      "Score: -0.406098482960175\n",
      "Score: -0.406098482960175\n",
      "Score: -0.406098482960175\n",
      "Score: -0.406098482960175\n",
      "Solution not found\n",
      "Generation: 12\n",
      "Score: -0.2899768179407264\n",
      "Score: -0.2899768179407264\n",
      "Score: -0.2899768179407264\n",
      "Score: -0.2899768179407264\n",
      "Score: -0.2899768179407264\n",
      "Score: -0.406098482960175\n",
      "Score: -0.406098482960175\n",
      "Score: -0.406098482960175\n",
      "Score: -0.406098482960175\n",
      "Score: -0.406098482960175\n",
      "Solution not found\n",
      "Score: -7.0244747338250296e-09\n",
      "Solution found\n"
     ]
    }
   ],
   "source": [
    "generation = 0\n",
    "\n",
    "population = generate_population()\n",
    "    \n",
    "while not print_found_goal(population):\n",
    "    print(f'Generation: {generation}')\n",
    "    print_found_goal(population)\n",
    "    population = evolution_step(population)\n",
    "    generation += 1"
   ]
  },
  {
   "cell_type": "markdown",
   "metadata": {},
   "source": [
    "The algorithm converged to the exact solution in $12$ generations (this, of course, has little statistical value at the moment...)."
   ]
  },
  {
   "cell_type": "markdown",
   "metadata": {},
   "source": [
    "Let see the final population."
   ]
  },
  {
   "cell_type": "code",
   "execution_count": 26,
   "metadata": {},
   "outputs": [
    {
     "data": {
      "text/plain": [
       "[[array([0, 1, 2, 2], dtype=int32),\n",
       "  array([0, 0, 1], dtype=int32),\n",
       "  array([0, 1], dtype=int32)],\n",
       " [array([1, 0, 2, 2], dtype=int32),\n",
       "  array([0, 0, 1], dtype=int32),\n",
       "  array([0, 1], dtype=int32)],\n",
       " [array([1, 0, 2, 2], dtype=int32),\n",
       "  array([0, 0, 1], dtype=int32),\n",
       "  array([0, 1], dtype=int32)],\n",
       " [array([1, 0, 2, 2], dtype=int32),\n",
       "  array([0, 0, 1], dtype=int32),\n",
       "  array([0, 1], dtype=int32)],\n",
       " [array([1, 0, 2, 2], dtype=int32),\n",
       "  array([0, 0, 1], dtype=int32),\n",
       "  array([0, 1], dtype=int32)],\n",
       " [array([1, 0, 2, 2], dtype=int32),\n",
       "  array([0, 0, 1], dtype=int32),\n",
       "  array([0, 1], dtype=int32)],\n",
       " [array([1, 0, 2, 2], dtype=int32),\n",
       "  array([0, 0, 1], dtype=int32),\n",
       "  array([0, 1], dtype=int32)],\n",
       " [array([0, 0, 1, 2], dtype=int32),\n",
       "  array([0, 0, 1], dtype=int32),\n",
       "  array([0, 1], dtype=int32)],\n",
       " [array([0, 1, 1, 2], dtype=int32),\n",
       "  array([0, 0, 1], dtype=int32),\n",
       "  array([0, 1], dtype=int32)],\n",
       " [array([1, 0, 1, 2], dtype=int32),\n",
       "  array([0, 0, 1], dtype=int32),\n",
       "  array([0, 1], dtype=int32)]]"
      ]
     },
     "execution_count": 26,
     "metadata": {},
     "output_type": "execute_result"
    }
   ],
   "source": [
    "population"
   ]
  },
  {
   "cell_type": "markdown",
   "metadata": {},
   "source": [
    "The solution is the first individual:"
   ]
  },
  {
   "cell_type": "code",
   "execution_count": 27,
   "metadata": {},
   "outputs": [
    {
     "data": {
      "text/plain": [
       "[array([0, 1, 2, 2], dtype=int32),\n",
       " array([0, 0, 1], dtype=int32),\n",
       " array([0, 1], dtype=int32)]"
      ]
     },
     "execution_count": 27,
     "metadata": {},
     "output_type": "execute_result"
    }
   ],
   "source": [
    " population[0]"
   ]
  },
  {
   "cell_type": "markdown",
   "metadata": {},
   "source": [
    "Or, in a more familiar formatting, in matrix format:"
   ]
  },
  {
   "cell_type": "code",
   "execution_count": 28,
   "metadata": {},
   "outputs": [
    {
     "data": {
      "text/plain": [
       "[array([[1., 0., 0., 0.],\n",
       "        [0., 1., 0., 0.],\n",
       "        [0., 0., 1., 1.]]),\n",
       " array([[1., 1., 0.],\n",
       "        [0., 0., 1.]]),\n",
       " array([[1., 0.],\n",
       "        [0., 1.]])]"
      ]
     },
     "execution_count": 28,
     "metadata": {},
     "output_type": "execute_result"
    }
   ],
   "source": [
    "convert_population_vector2matrix(population)[0]"
   ]
  },
  {
   "cell_type": "markdown",
   "metadata": {},
   "source": [
    "which indeed correspond to the known solution we have written down above:"
   ]
  },
  {
   "cell_type": "code",
   "execution_count": 29,
   "metadata": {},
   "outputs": [
    {
     "data": {
      "text/plain": [
       "{'S_': array([[1, 0, 0, 0],\n",
       "        [0, 1, 0, 0],\n",
       "        [0, 0, 1, 1]]),\n",
       " 'T_': array([[1, 1, 0],\n",
       "        [0, 0, 1]]),\n",
       " 'C_': array([[1, 0],\n",
       "        [0, 1]])}"
      ]
     },
     "execution_count": 29,
     "metadata": {},
     "output_type": "execute_result"
    }
   ],
   "source": [
    "alphas"
   ]
  },
  {
   "cell_type": "code",
   "execution_count": null,
   "metadata": {},
   "outputs": [],
   "source": []
  }
 ],
 "metadata": {
  "kernelspec": {
   "display_name": "Python 3 (ipykernel)",
   "language": "python",
   "name": "python3"
  },
  "language_info": {
   "codemirror_mode": {
    "name": "ipython",
    "version": 3
   },
   "file_extension": ".py",
   "mimetype": "text/x-python",
   "name": "python",
   "nbconvert_exporter": "python",
   "pygments_lexer": "ipython3",
   "version": "3.9.10"
  },
  "toc": {
   "base_numbering": 1,
   "nav_menu": {},
   "number_sections": true,
   "sideBar": true,
   "skip_h1_title": false,
   "title_cell": "Table of Contents",
   "title_sidebar": "Contents",
   "toc_cell": false,
   "toc_position": {
    "height": "calc(100% - 180px)",
    "left": "10px",
    "top": "150px",
    "width": "165px"
   },
   "toc_section_display": true,
   "toc_window_display": true
  }
 },
 "nbformat": 4,
 "nbformat_minor": 2
}
