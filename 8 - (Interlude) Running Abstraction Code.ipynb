{
 "cells": [
  {
   "cell_type": "markdown",
   "id": "1a9afbc8",
   "metadata": {},
   "source": [
    "# (Interlude) Running Abstraction Code\n",
    "\n",
    "This notebook is also a brief *interlude* from the conceptual and practical study of abstractions. Here, we mean to offer a summary illustration or tutorial of how to use the code in *src/SCMMappings_1_1.py* to work with abstractions."
   ]
  },
  {
   "cell_type": "code",
   "execution_count": 1,
   "id": "d0d89c41",
   "metadata": {},
   "outputs": [],
   "source": [
    "import numpy as np"
   ]
  },
  {
   "cell_type": "markdown",
   "id": "5cf6819e",
   "metadata": {},
   "source": [
    "## Overview\n",
    "\n",
    "The code we provide is supposed to help the user work with $(R,a,\\alpha)$ abstractions [1], and allow for a simple computation of relevant quantities.\n",
    "\n",
    "The overall ideal workflow is as follows:\n",
    "1. Definition of SCMs using the *[pgmpy](https://pgmpy.org/index.html)* library.\n",
    "2. Definition of an abstraction between two models using a $\\mathtt{Abstraction}$ object from *src/SCMMappings_1_1.py*.\n",
    "3. (Optional) Use of the $\\mathtt{Abstraction}$ object to perform basic computations on the abstraction.\n",
    "4. (Optional) Instantiation of a $\\mathtt{AbstractionPrinter}$ object to print out and plot the abstraction.\n",
    "5. (Optional) Instantiation of a $\\mathtt{AbstractionErrorEvaluator}$ object to compute abstraction error."
   ]
  },
  {
   "cell_type": "markdown",
   "id": "5c4b1a96",
   "metadata": {},
   "source": [
    "## Defintion of SCMs\n",
    "\n",
    "Finite SCMs with finite domain are expected to be implemented using the *pgmpy* library. Transition function/mechanisms/structural funcitons are implemented as stochastic matrices."
   ]
  },
  {
   "cell_type": "code",
   "execution_count": 2,
   "id": "24c4f8a1",
   "metadata": {},
   "outputs": [],
   "source": [
    "from pgmpy.models import BayesianNetwork as BN\n",
    "from pgmpy.factors.discrete import TabularCPD as cpd"
   ]
  },
  {
   "cell_type": "markdown",
   "id": "389d8db0",
   "metadata": {},
   "source": [
    "The following code implements and verifies the lung cancer toy model $\\mathcal{M}$ (see first notebook for a complete description of the model)."
   ]
  },
  {
   "cell_type": "code",
   "execution_count": 3,
   "id": "64c42a98",
   "metadata": {},
   "outputs": [
    {
     "data": {
      "text/plain": [
       "True"
      ]
     },
     "execution_count": 3,
     "metadata": {},
     "output_type": "execute_result"
    }
   ],
   "source": [
    "M0 = BN([('Smoking','Tar'),('Tar','Cancer')])\n",
    "\n",
    "cpdS = cpd(variable='Smoking',\n",
    "          variable_card=2,\n",
    "          values=[[.8],[.2]],\n",
    "          evidence=None,\n",
    "          evidence_card=None)\n",
    "cpdT = cpd(variable='Tar',\n",
    "          variable_card=2,\n",
    "          values=[[1,.2],[0.,.8]],\n",
    "          evidence=['Smoking'],\n",
    "          evidence_card=[2])\n",
    "cpdC = cpd(variable='Cancer',\n",
    "          variable_card=2,\n",
    "          values=[[.9,.6],[.1,.4]],\n",
    "          evidence=['Tar'],\n",
    "          evidence_card=[2])\n",
    "\n",
    "M0.add_cpds(cpdS,cpdT,cpdC)\n",
    "M0.check_model()"
   ]
  },
  {
   "cell_type": "markdown",
   "id": "5a8247a1",
   "metadata": {},
   "source": [
    "Similarly, we implement a simpler lung cancer toy model $\\mathcal{M'}$ (see first notebook for a complete description of the model)."
   ]
  },
  {
   "cell_type": "code",
   "execution_count": 4,
   "id": "9b2a444d",
   "metadata": {},
   "outputs": [
    {
     "data": {
      "text/plain": [
       "True"
      ]
     },
     "execution_count": 4,
     "metadata": {},
     "output_type": "execute_result"
    }
   ],
   "source": [
    "M1 = BN([('Smoking','Cancer')])\n",
    "\n",
    "cpdS = cpd(variable='Smoking',\n",
    "          variable_card=2,\n",
    "          values=[[.8],[.2]],\n",
    "          evidence=None,\n",
    "          evidence_card=None)\n",
    "cpdC = cpd(variable='Cancer',\n",
    "          variable_card=2,\n",
    "          values=[[.9,.66],[.1,.34]],\n",
    "          evidence=['Smoking'],\n",
    "          evidence_card=[2])\n",
    "\n",
    "M1.add_cpds(cpdS,cpdC)\n",
    "M1.check_model()"
   ]
  },
  {
   "cell_type": "markdown",
   "id": "6571235d",
   "metadata": {},
   "source": [
    "## Definition of an abstraction\n",
    "\n",
    "An abstraction can be defined using the $\\mathtt{Abstraction}$ object from *src/SCMMappings_1_1.py*."
   ]
  },
  {
   "cell_type": "code",
   "execution_count": 5,
   "id": "18c63a92",
   "metadata": {},
   "outputs": [],
   "source": [
    "from src.SCMMappings_1_1 import Abstraction"
   ]
  },
  {
   "cell_type": "markdown",
   "id": "8f1a4064",
   "metadata": {},
   "source": [
    "An abstraction is made up of three elements:\n",
    "- A set of relevant variable $R$ implemented as a list of nodes in $\\mathcal{M}$;\n",
    "- A surjective map from $R$ to the nodes in $\\mathcal{M'}$ implemented as a dictionary indexed by $R$;\n",
    "- A collection of maps $\\alpha_{X'}$ from the outcomes in $\\mathcal{M}$ to the outcomes in $\\mathcal{M'}$ implemented as a dictionary of binary matrices indexed by the variables in $\\mathcal{M'}$.\n",
    "\n",
    "A more detailed explanation of each element is available in the first notebook."
   ]
  },
  {
   "cell_type": "code",
   "execution_count": 6,
   "id": "912962e8",
   "metadata": {},
   "outputs": [],
   "source": [
    "R = ['Smoking','Cancer']\n",
    "\n",
    "a = {'Smoking': 'Smoking',\n",
    "    'Cancer': 'Cancer'}\n",
    "\n",
    "alphas = {'Smoking': np.eye(2),\n",
    "         'Cancer': np.eye(2)}"
   ]
  },
  {
   "cell_type": "markdown",
   "id": "74daf8dc",
   "metadata": {},
   "source": [
    "We can now instatiate an $\\mathtt{Abstraction}$ object."
   ]
  },
  {
   "cell_type": "code",
   "execution_count": 7,
   "id": "bb18b8f3",
   "metadata": {},
   "outputs": [],
   "source": [
    "A = Abstraction(M0,M1,R,a,alphas)"
   ]
  },
  {
   "cell_type": "markdown",
   "id": "20b4dc9a",
   "metadata": {},
   "source": [
    "Initialization of this object verifies that the elements $R,a,\\alpha$ are defined on existing variables, and that surjectivity is respected."
   ]
  },
  {
   "cell_type": "markdown",
   "id": "eda474de",
   "metadata": {},
   "source": [
    "## Using an abstraction\n",
    "\n",
    "The $\\mathtt{Abstraction}$ object provides a few basic functions to work with the abstraction."
   ]
  },
  {
   "cell_type": "markdown",
   "id": "fa6d65bd",
   "metadata": {},
   "source": [
    "First, we can access the property fields of the abstraction object or query advanced properties. For instance, we can query the cardinality of domain and codomain of a specific $\\alpha_{X'}$ map."
   ]
  },
  {
   "cell_type": "code",
   "execution_count": 8,
   "id": "9251d931",
   "metadata": {},
   "outputs": [
    {
     "data": {
      "text/plain": [
       "(2, 2)"
      ]
     },
     "execution_count": 8,
     "metadata": {},
     "output_type": "execute_result"
    }
   ],
   "source": [
    "A.get_cardinalities_alpha('Smoking')"
   ]
  },
  {
   "cell_type": "markdown",
   "id": "26ddfc76",
   "metadata": {},
   "source": [
    "Second, elementary property of the abstraction may be verified. For instance, we can check whether there is an isomorphism between $R$ and the nodes in $\\mathcal{M'}$. Some of these properties are discussed in the second notebook."
   ]
  },
  {
   "cell_type": "code",
   "execution_count": 9,
   "id": "0df4cfd7",
   "metadata": {},
   "outputs": [
    {
     "data": {
      "text/plain": [
       "True"
      ]
     },
     "execution_count": 9,
     "metadata": {},
     "output_type": "execute_result"
    }
   ],
   "source": [
    "A.is_varlevel_isomorphic()"
   ]
  },
  {
   "cell_type": "markdown",
   "id": "1756e358",
   "metadata": {},
   "source": [
    "Third, we can compute statistical quantities from the models. For instance, we can compute the joint distributions over the variables in $\\mathcal{M}$ and $\\mathcal{M'}$."
   ]
  },
  {
   "cell_type": "code",
   "execution_count": 10,
   "id": "99d8e1bb",
   "metadata": {},
   "outputs": [
    {
     "data": {
      "text/plain": [
       "(array([[0.72 ],\n",
       "        [0.08 ],\n",
       "        [0.036],\n",
       "        [0.004],\n",
       "        [0.   ],\n",
       "        [0.   ],\n",
       "        [0.096],\n",
       "        [0.064]]),\n",
       " array([[0.72 ],\n",
       "        [0.08 ],\n",
       "        [0.132],\n",
       "        [0.068]]))"
      ]
     },
     "execution_count": 10,
     "metadata": {},
     "output_type": "execute_result"
    }
   ],
   "source": [
    "A.compute_joints()"
   ]
  },
  {
   "cell_type": "markdown",
   "id": "ad495fd9",
   "metadata": {},
   "source": [
    "Finally, we can produce deep copies of an abstraction."
   ]
  },
  {
   "cell_type": "code",
   "execution_count": 11,
   "id": "3581cdf0",
   "metadata": {},
   "outputs": [],
   "source": [
    "Acopy = A.copy()"
   ]
  },
  {
   "cell_type": "markdown",
   "id": "9ab6cfea",
   "metadata": {},
   "source": [
    "## Printing an abstraction\n",
    "\n",
    "The tasks of printing out the content of an abstraction or visualize it through a plot is delegated to the $\\mathtt{AbstractionPrinter}$ class in *src/printing*."
   ]
  },
  {
   "cell_type": "code",
   "execution_count": 12,
   "id": "4b9fcb1a",
   "metadata": {},
   "outputs": [],
   "source": [
    "from src.printing import AbstractionPrinter"
   ]
  },
  {
   "cell_type": "markdown",
   "id": "7b026e33",
   "metadata": {},
   "source": [
    " We then need to instantiate such an object with our abstraction."
   ]
  },
  {
   "cell_type": "code",
   "execution_count": 13,
   "id": "a7201b1f",
   "metadata": {},
   "outputs": [],
   "source": [
    "Ap = AbstractionPrinter(A)"
   ]
  },
  {
   "cell_type": "markdown",
   "id": "3b7800cb",
   "metadata": {},
   "source": [
    "The $\\mathtt{AbstractionPrinter}$ object allows for listing elements of the abstraction (for instance, the nodes in the DAGs) or printing propertie (for instance, the cardinalities of the nodes in $\\mathcal{M'}$)."
   ]
  },
  {
   "cell_type": "code",
   "execution_count": 15,
   "id": "f101a631",
   "metadata": {},
   "outputs": [
    {
     "name": "stdout",
     "output_type": "stream",
     "text": [
      "M0 - Nodes: ['Smoking', 'Tar', 'Cancer']\n",
      "M1 - Nodes: ['Smoking', 'Cancer']\n",
      "R  - Nodes: ['Smoking', 'Cancer']\n"
     ]
    }
   ],
   "source": [
    "Ap.list_DAG_nodes()"
   ]
  },
  {
   "cell_type": "code",
   "execution_count": 16,
   "id": "4e816c15",
   "metadata": {},
   "outputs": [
    {
     "name": "stdout",
     "output_type": "stream",
     "text": [
      "M1: cardinality of Smoking: 2\n",
      "M1: cardinality of Cancer: 2\n"
     ]
    }
   ],
   "source": [
    "Ap.print_M1_cardinalites()"
   ]
  },
  {
   "cell_type": "markdown",
   "id": "7cc629c3",
   "metadata": {},
   "source": [
    "Moreover, $\\mathtt{AbstractionPrinter}$ provides also plotting function, both of the individual SCMs or of the whole abstraction."
   ]
  },
  {
   "cell_type": "code",
   "execution_count": 17,
   "id": "4670bd30",
   "metadata": {},
   "outputs": [
    {
     "data": {
      "image/png": "[encoded data removed]",
      "text/plain": [
       "<Figure size 432x288 with 1 Axes>"
      ]
     },
     "metadata": {},
     "output_type": "display_data"
    }
   ],
   "source": [
    "Ap.plot_DAG_M0()"
   ]
  },
  {
   "cell_type": "code",
   "execution_count": 18,
   "id": "f1725724",
   "metadata": {},
   "outputs": [
    {
     "data": {
      "image/png": "[encoded data removed]",
      "text/plain": [
       "<Figure size 432x288 with 1 Axes>"
      ]
     },
     "metadata": {},
     "output_type": "display_data"
    }
   ],
   "source": [
    "Ap.plot_variable_level_mapping()"
   ]
  },
  {
   "cell_type": "markdown",
   "id": "62033267",
   "metadata": {},
   "source": [
    "## Evaluating abstraction error\n",
    "\n",
    "Last but not least, we can instantiate a $\\mathtt{AbstractionErrorEvaluator}$ class from *src/evaluating* to compute the abstraction error."
   ]
  },
  {
   "cell_type": "code",
   "execution_count": 19,
   "id": "c053efe8",
   "metadata": {},
   "outputs": [],
   "source": [
    "from src.evaluating import AbstractionErrorEvaluator"
   ]
  },
  {
   "cell_type": "markdown",
   "id": "b65fec49",
   "metadata": {},
   "source": [
    "As before, we instantiate it passing our abstration object."
   ]
  },
  {
   "cell_type": "code",
   "execution_count": 20,
   "id": "1c7419b6",
   "metadata": {},
   "outputs": [],
   "source": [
    "Ae = AbstractionErrorEvaluator(A)"
   ]
  },
  {
   "cell_type": "markdown",
   "id": "c0a9199c",
   "metadata": {},
   "source": [
    "The main function in the $\\mathtt{AbstractionErrorEvaluator}$ is *Ae.evaluate_overall_abstraction_error()* which computes the abstraction error using the algorithms detailed in the fourth notebook. The function takes two optional parameters:\n",
    "- *metric*: a function to compute distance between distribution (default: JSD [1]);\n",
    "- *J*/*J_algorithm*: either a set of nodes over which to compute the error or an algorithm to produce the set of nodes (default: enumerate all the disjoint set as detailed in the fourth notebook)."
   ]
  },
  {
   "cell_type": "code",
   "execution_count": 23,
   "id": "7e35f2b7",
   "metadata": {},
   "outputs": [
    {
     "data": {
      "text/plain": [
       "9.599401598218922e-09"
      ]
     },
     "execution_count": 23,
     "metadata": {},
     "output_type": "execute_result"
    }
   ],
   "source": [
    "Ae.evaluate_overall_abstraction_error()"
   ]
  },
  {
   "cell_type": "markdown",
   "id": "86610f90",
   "metadata": {},
   "source": [
    "It is also possible to get a more detailed outcome, by requiring the individual abstraction error for each diagram (remember we have a diagram for each element in *J*). This function takes the same parameters as the previous one."
   ]
  },
  {
   "cell_type": "code",
   "execution_count": 24,
   "id": "7db74e2d",
   "metadata": {},
   "outputs": [
    {
     "data": {
      "text/plain": [
       "[9.599401598218922e-09]"
      ]
     },
     "execution_count": 24,
     "metadata": {},
     "output_type": "execute_result"
    }
   ],
   "source": [
    "Ae.evaluate_abstraction_errors()"
   ]
  },
  {
   "cell_type": "markdown",
   "id": "b8d90ef6",
   "metadata": {},
   "source": [
    "Notice that in this case we have a single diagram, and so we get back a list with a single element. Notice, also, that *Ae.evaluate_overall_abstraction_error()* simply gets the maximum out of *Ae.evaluate_abstraction_errors()*."
   ]
  },
  {
   "cell_type": "markdown",
   "id": "282a8869",
   "metadata": {},
   "source": [
    "More simply, we could query whether the abstraction is exact."
   ]
  },
  {
   "cell_type": "code",
   "execution_count": 25,
   "id": "96628dc2",
   "metadata": {},
   "outputs": [
    {
     "data": {
      "text/plain": [
       "True"
      ]
     },
     "execution_count": 25,
     "metadata": {},
     "output_type": "execute_result"
    }
   ],
   "source": [
    "Ae.is_exact()"
   ]
  },
  {
   "cell_type": "markdown",
   "id": "3828704d",
   "metadata": {},
   "source": [
    "This function returns true if the error sufficiently close to $0$. The function *is_exact()* can be passed a *rtol*/*atol* parameter to be used in a $np.isclose()$ test."
   ]
  },
  {
   "cell_type": "markdown",
   "id": "39be596f",
   "metadata": {},
   "source": [
    "## Conclusion\n",
    "\n",
    "We have seen a basic workflow for abstraction using the code available in *src/SCMMappings_1_1.py*. Additional functions are available and explained throughout the previous notebooks."
   ]
  },
  {
   "cell_type": "markdown",
   "id": "8cb4ffb2",
   "metadata": {},
   "source": [
    "## Bibliography\n",
    "\n",
    "[Rischel2020] Rischel, Eigil Fjeldgren. \"The Category Theory of Causal Models.\" (2020)."
   ]
  },
  {
   "cell_type": "code",
   "execution_count": null,
   "id": "5b0cf646",
   "metadata": {},
   "outputs": [],
   "source": []
  }
 ],
 "metadata": {
  "kernelspec": {
   "display_name": "Python 3 (ipykernel)",
   "language": "python",
   "name": "python3"
  },
  "language_info": {
   "codemirror_mode": {
    "name": "ipython",
    "version": 3
   },
   "file_extension": ".py",
   "mimetype": "text/x-python",
   "name": "python",
   "nbconvert_exporter": "python",
   "pygments_lexer": "ipython3",
   "version": "3.9.10"
  },
  "toc": {
   "base_numbering": 1,
   "nav_menu": {},
   "number_sections": true,
   "sideBar": true,
   "skip_h1_title": false,
   "title_cell": "Table of Contents",
   "title_sidebar": "Contents",
   "toc_cell": false,
   "toc_position": {},
   "toc_section_display": true,
   "toc_window_display": false
  }
 },
 "nbformat": 4,
 "nbformat_minor": 5
}
