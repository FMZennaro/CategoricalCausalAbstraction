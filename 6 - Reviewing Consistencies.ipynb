{
 "cells": [
  {
   "cell_type": "markdown",
   "id": "b2985301",
   "metadata": {},
   "source": [
    "# Consistencies between SCMs\n",
    "\n",
    "In the previous notebooks we have discussed at length abstraction and (interventional) consistency, especially in the framework of [Rischel2020]. We have defined the notion of abstraction and abastraction error (first notebook), examined properties of this definition (second notebook), compared abstractions to transformations from [Rubenstein2017] (third notebook), implemented automated code to compute the abstraction error (fourth notebook), and then reviewed the compositionality of abstraction error from [Rischel2021] (fifth notebook).\n",
    "\n",
    "An underlying idea behind these explorations was that the quality of an abstraction could be assessed through a quantitative evaluation of interventional consistency, that is, the requirement that: (i) using a low-level mechanism under intervention and then abstracting; or (ii) abstracting to the intervened high-level model and then using a mechanism; would produce the same result. \n",
    "\n",
    "In this notebook we take a closer look at interventional consistency, and we explore other forms of consistency. We instantiate a series of models and abstractions to show how observational, interventional and counterfactual consistency are not strictly related to one another.\n",
    "\n",
    "The notebook aims at showing in a succint way the existence of models and abstractions that may guarantee different forms of consistency. We will go through the following steps: \n",
    "- Reviewing the definition and the relevance of consistency (Section 2)\n",
    "- Presenting the approach used to express the consistency problem as a commutativity problem on BNs in $\\mathtt{FinStoch}$ (Section 3)\n",
    "- Listing forms of consistency in the observational domain (Section 4)\n",
    "- Listing forms of consistency in the interventional domain (Section 5)\n",
    "- Listing forms of consistency in the counterfactual domain (Section 6)\n",
    "- Running a series of case studies in which we have models and abstractions satisfying different forms of consistency (Section 7).\n",
    "\n",
    "DISCLAIMER 1: the notebook refers to ideas from *causality* and *category theory* for which only a quick definition is offered. Useful references for causality are [Pearl2009,Peters2017], while for category theory are [Spivak2014,Fong2018].\n",
    "\n",
    "DISCLAIMER 2: mistakes are in all likelihood due to misunderstandings by the notebook author in reading [Rischel2020]. Feedback very welcome! :)"
   ]
  },
  {
   "cell_type": "markdown",
   "id": "17f68091",
   "metadata": {},
   "source": [
    "## Importing libraries and defining parameters\n",
    "\n",
    "We start by importing basic libraries."
   ]
  },
  {
   "cell_type": "code",
   "execution_count": 1,
   "id": "0a9f44a4",
   "metadata": {},
   "outputs": [],
   "source": [
    "import numpy as np\n",
    "import networkx as nx\n",
    "import scipy\n",
    "from tqdm import tqdm\n",
    "\n",
    "from pgmpy.models import BayesianNetwork as BN\n",
    "from pgmpy.factors.discrete import TabularCPD as cpd\n",
    "from pgmpy.inference import VariableElimination"
   ]
  },
  {
   "cell_type": "markdown",
   "id": "d49ca936",
   "metadata": {},
   "source": [
    "For reproducibility, and for discussing our results in this notebook, we set a random seed to $0$."
   ]
  },
  {
   "cell_type": "code",
   "execution_count": 2,
   "id": "55aa8bcb",
   "metadata": {},
   "outputs": [],
   "source": [
    "np.random.seed(0)"
   ]
  },
  {
   "cell_type": "markdown",
   "id": "3570793f",
   "metadata": {},
   "source": [
    "We set a verbose parameter to control the display of probability distributions."
   ]
  },
  {
   "cell_type": "code",
   "execution_count": 3,
   "id": "d51f1bbc",
   "metadata": {},
   "outputs": [],
   "source": [
    "verbose = False"
   ]
  },
  {
   "cell_type": "markdown",
   "id": "2d1aa800",
   "metadata": {},
   "source": [
    "We also set the number of samples in our empirical simulations."
   ]
  },
  {
   "cell_type": "code",
   "execution_count": 4,
   "id": "f5c1b448",
   "metadata": {},
   "outputs": [],
   "source": [
    "n_samples = 10**5"
   ]
  },
  {
   "cell_type": "markdown",
   "id": "0bff83ec",
   "metadata": {},
   "source": [
    "In this notebook we write implementations of our models directly in *pgmpy*, but we do not rely on our own Abstraction objects from *src.SCMMappings*. For the sake of simplicity and illustration we will mainly work with abstractions that are trivial identities."
   ]
  },
  {
   "cell_type": "markdown",
   "id": "9d2128f2",
   "metadata": {},
   "source": [
    "# A review of consistencies\n",
    "\n",
    "We are generically interested in working with forms of consistency. Following [Rischel2020] we will express consistency as a (category-theoretical) commuting diagram:\n",
    "$$\n",
    "\\begin{array}{ccc}\n",
    "A& \\overset{\\mu}{\\rightarrow} & B \\\\\n",
    "\\alpha_{X}{\\downarrow}& &{\\downarrow}\\alpha_{Y} \\\\\n",
    "X& \\overset{\\nu}{\\rightarrow} & Y\n",
    "\\end{array}\n",
    "$$\n",
    "where $A,B,X,Y$ are finite sets, and $\\mu,\\nu,\\alpha_X,\\alpha_Y$ are Markov kernels (column-stochastic matrices). In our abstraction setting $A,B,X,Y$ are outcomes, $\\mu,\\nu$ mechanisms, and $\\alpha_X,\\alpha_Y$ are abstractions with the added requirement of being binary matrices."
   ]
  },
  {
   "cell_type": "markdown",
   "id": "0707018e",
   "metadata": {},
   "source": [
    "Consisency tells us that starting from an element $a \\in A$ we arrive at the same result whether:\n",
    "1. we follow the upper path, computing $\\alpha_Y \\circ \\mu (a)$; or\n",
    "2. we follow the lower path, computing $\\nu \\circ \\alpha_X (a)$."
   ]
  },
  {
   "cell_type": "markdown",
   "id": "4f5eec38",
   "metadata": {},
   "source": [
    "**Meaning of consistency.** Why are we so interested in consistency? Consistency tells us something about the *alignment*, or about the *correspondance*, of the mechanisms $\\mu$ and $\\nu$ with respect to the abstraction. It says something about the *dynamics* of the model, and how their inputs and outputs are related.\n",
    "\n",
    "It is, however, a strongly *syntactical* property. It is concerned with the *replaceability* of one model with the other in the sense of maintaining an alignment between them, but it does not concern itself with the *quality* or *information* at different levels."
   ]
  },
  {
   "cell_type": "markdown",
   "id": "7e5c11d6",
   "metadata": {},
   "source": [
    "**Taxonomy of consistencies.** Now, we can have different forms of consistency with respect to two different parameters used to generate the diagrams above:\n",
    "\n",
    "- *Originating graph*: whether the graph from which we derive the diagram is the observational model $\\mathcal{M}$, a post-interventional model $\\mathcal{M}_\\iota$, or a counterfactual model $\\mathcal{M}_{\\iota\\bar{\\iota}}$.\n",
    "\n",
    "- *Distributions*: relating to the choice of the sets $A,B,X,Z$ and consequently $\\mu,\\nu$."
   ]
  },
  {
   "cell_type": "markdown",
   "id": "730f6238",
   "metadata": {},
   "source": [
    "**A note on the formalism.** Since $\\mu$ and $\\nu$ are matrices encoding distributions, in the following section we will use an explicit probability notation, instead of greek letters (normally used to denote mechanisms) or capital letters (sometimes used for matrices). We will then use symbols such as $p_\\mathcal{M}(A)$ to refer to a matrix encoding this discrete distribution. Every probability distribution thus correspond to a stochastic matrix. Moreover, the subscript will always make clear from which model the distribution is derived."
   ]
  },
  {
   "cell_type": "markdown",
   "id": "8eebdbd5",
   "metadata": {},
   "source": [
    "**A note on computing distributions in the models.** In the following diagram we will refer to different distributions such as $p_{\\mathcal{M'}}(X)$ or $p_{\\mathcal{M}}(B\\vert A)$. In the context of Markovian and semi-Markovian model, we assume that all these quantities are computable from the base SCMs $\\mathcal{M}$ and ${\\mathcal{M'}}$ and their joints."
   ]
  },
  {
   "cell_type": "markdown",
   "id": "252dd933",
   "metadata": {},
   "source": [
    "# Approach to causal consistencies\n",
    "\n",
    "As suggested above we want to consider different forms of consistencies, specifically observational, interventional and counterfactual.\n",
    "\n",
    "It is well-known that these three types of quantities live on three layers of a strict hierarchy; each layer is furthermore associated with a mathematical object that allows for the treatment of these quantities. Thus, Bayes networks (BN) deal only with observational quantities; casual Bayes networks enable us to evaluate not only observational quantities, but also interventional quantities; and, finally, structural causal models (SCM) add the possibility of considering counterfactual quantities [Bareinboim2022].\n",
    "\n",
    "Our discussion of causal models started from SCMs [Pearl2009] (see first notebook), but through the simplification of  our models and their embedding in $\\mathtt{FinStoch}$ following the approach of [Rischel2020] (see first notebook again) we dropped enough information that we have been left virtually with a BN or a CBN. If we were working with a CBN we would not be able to discuss counterfactual queries; with a BN we could not even assess an interventional query.\n",
    "\n",
    "The approach that we have implicitly followed, and which we will make explicit now, is that we are always given a completely defined SCM $\\mathcal{M}^*$ (here we use the star to identify this ground truth SCM and distinguish it from other CBNs or BNs). However, we do not work directly with the SCM $\\mathcal{M}^*$. For us, the SCM is a generator of BNs (or CBNs). For us, in a sense, a SCM is a more expressive object than a CBN or a BN because it is actually a set of CBNs or BNs; it is a set of rules for generating new models.\n",
    "\n",
    "So, if we will want to consider consistency in the observational domain, we will take our SCM $\\mathcal{M}^*$ and extract from it the base BN $\\mathcal{M}$. If we will want to consider consistency in the interventional domain, and thus work with an intervention $\\iota$, we will extract from $\\mathcal{M}^*$ the model $\\mathcal{M}_\\iota$ which, after edge removal and structrual function replacement, is again a BN. If we want to consider consistency in the counterfactual domain, assuming we have performed an intervention $\\iota$ and now we want to observe the effects had we performed $\\bar{\\iota}$, we will extract from $\\mathcal{M}^*$ the model $\\mathcal{M}_{\\iota\\bar{\\iota}}$ which, after factual intervention, abduction on the exogenous variables and counterfactual intervention [Pearl2009], provides us with a BN.\n",
    "\n",
    "Everytime we will have to evaluate one form of consistency (marginal, joint, conditional) we will therefore just evaluate it in the relative BN assuming it can be represented in $\\mathtt{FinStoch}$ and that commutativity is well-defined. "
   ]
  },
  {
   "cell_type": "markdown",
   "id": "9b59db39",
   "metadata": {},
   "source": [
    "# Observational consistencies\n",
    "\n",
    "Observational consistencies are consistencies evaluated out of the observational model $\\mathcal{M}$ on which no intervention has been applied. Both the base model $\\mathcal{M}$ and the abstracted model $\\mathcal{M'}$ are untouched."
   ]
  },
  {
   "cell_type": "markdown",
   "id": "bf6acf9a",
   "metadata": {},
   "source": [
    "## Marginal observational consistency\n",
    "\n",
    "In *marginal observational consistency* we are interested in considering the alignment of a single-variable marginal in the abstracted model with respect to the (possibly multi-varied) marginal in the base model.\n",
    "\n",
    "Here our focus is focus on: **$P_\\mathcal{M'}(X)$**"
   ]
  },
  {
   "cell_type": "markdown",
   "id": "196b6fb0",
   "metadata": {},
   "source": [
    "Consider, for instance, the following generic scenario in which two variables $A,B$ from $\\mathcal{M}$ are mapped onto $X$ in $\\mathcal{M'}$:\n",
    "\n",
    "<div style=\"max-width:300px;\">\n",
    "    <img src=\"img/ABXdiagram.png\" height=\"100px\">\n",
    "</div>\n",
    "\n",
    "We now want to consider whether the abstraction $\\alpha_X$ going from $A,B$ to $X$ guarantees consistency.\n",
    "We can then build the following diagram from $\\mathcal{M}$ and $\\mathcal{M'}$:\n",
    "$$\n",
    "\\begin{array}{ccc}\n",
    "\\{*\\}& \\overset{p_{\\mathcal{M}}(A,B)}{\\rightarrow} & A,B \\\\\n",
    "{\\downarrow}id& &\\alpha_{X}{\\downarrow} \\\\\n",
    "\\{*\\}& \\overset{p_{\\mathcal{M'}}(X)}{\\rightarrow} & X\n",
    "\\end{array}\n",
    "$$\n",
    "where we derive $p_{\\mathcal{M}}(A,B)$ and $p_{\\mathcal{M'}}(X)$ as matrices corresponding to the desired distributions in $\\mathcal{M}$ and $\\mathcal{M'}$. Consistency reduces to verifying:\n",
    "$$\\alpha_X \\cdot p_{\\mathcal{M}}(A,B) = p_{\\mathcal{M'}}(X).$$"
   ]
  },
  {
   "cell_type": "markdown",
   "id": "a5f4868a",
   "metadata": {},
   "source": [
    "Notice that, in the scenario above, evaluating marginal observation consistency wrt only to $A$ or only $B$ is not immediate, as it would likely violate the requirement of a binary $\\alpha$."
   ]
  },
  {
   "cell_type": "markdown",
   "id": "cb37f3bc",
   "metadata": {},
   "source": [
    "**Meaning of marginal observational consistency.** If commutativity holds, this means that the following two operations produce the same statistical result:\n",
    "1. Sampling from $p_{\\mathcal{M}}(A,B)$ and then project to $X$ via $\\alpha_X$; or\n",
    "2. Sampling from $p_{\\mathcal{M'}}(X)$.\n",
    "\n",
    "Again, beware that consistency does not tell us anything about information. Consistency may hold, and, still, $p_{\\mathcal{M}}(A,B)$ may be very informative and be defined on a domain with high resolution, while $p_{\\mathcal{M'}}(X)$ may be very simple and trivial."
   ]
  },
  {
   "cell_type": "markdown",
   "id": "9a015d84",
   "metadata": {},
   "source": [
    "## Joint observational consistency\n",
    "\n",
    "In *joint observational consistency* we consider the distribution over all the variables (or a subset) in the abstracted model. This may be considered as an extension of the case above.\n",
    "\n",
    "Here our focus is on: $P_\\mathcal{M'}(\\mathbf{X})$."
   ]
  },
  {
   "cell_type": "markdown",
   "id": "99b07dd1",
   "metadata": {},
   "source": [
    "The corresponding scenario is the one in which we consider all the abstracted variables (or a subset) $\\mathbf{X}$ and all the relevant variabled in the base model $\\mathbf{A}$. We can then build the following diagram from $\\mathcal{M}$ and $\\mathcal{M'}$:\n",
    "$$\n",
    "\\begin{array}{ccc}\n",
    "\\{*\\}& \\overset{p_{\\mathcal{M}}(\\mathbf{A})}{\\rightarrow} & \\mathbf{A} \\\\\n",
    "& &\\alpha_{\\mathbf{X}}{\\downarrow} \\\\\n",
    "\\{*\\}& \\overset{p_{\\mathcal{M'}}(\\mathbf{X})}{\\rightarrow} & \\mathbf{X}\n",
    "\\end{array}\n",
    "$$\n",
    "where $\\alpha_{\\mathbf{X}} = \\bigotimes_{X \\in \\mathbf{X}} \\alpha_X$, and $p_{\\mathcal{M}}(\\mathbf{A})$ and $p_{\\mathcal{M'}}(\\mathbf{X})$ stand for joint distributions over the variables in $\\mathcal{M}$ and $\\mathcal{M'}$. To assess consistency, we want the following identity to hold:\n",
    "$$\\alpha_\\mathbf{X} \\cdot p_{\\mathcal{M}}(\\mathbf{A}) = p_{\\mathcal{M'}}(\\mathbf{X}).$$"
   ]
  },
  {
   "cell_type": "markdown",
   "id": "b0f1ebe8",
   "metadata": {},
   "source": [
    "**Meaning of joint observational consistency.** The meaning of this consistency is similar to the previous one. If commutativity holds, then the following two operations produce the same statistical result:\n",
    "1. Sampling from the base model and then project to the abstracted model via $\\alpha$; or\n",
    "2. Sampling from the abstracted model.\n",
    "\n",
    "This is thus an extension from a marginal distribution over one variable to a joint distribution over all variables. As before, consistency does not tell us anything about information preservation."
   ]
  },
  {
   "cell_type": "markdown",
   "id": "5e73e2ae",
   "metadata": {},
   "source": [
    "## Conditional observational consistency\n",
    "\n",
    "In *conditional observational consistency* we focus on how the behaviour of one (or a set of) abstracted variable conditioned on another (or a set of) abstracted variable aligns with the corresponding variables in the base model. \n",
    "\n",
    "Here our focus is on: $P_\\mathcal{M'}(\\mathbf{Y} \\vert \\mathbf{X})$."
   ]
  },
  {
   "cell_type": "markdown",
   "id": "9c75519b",
   "metadata": {},
   "source": [
    "We refer to the generic scenario in which we want to evalute the behaviour of a set of variables $\\mathbf{Y}$ wrt $\\mathbf{X}$ in $\\mathcal{M'}$ and evaluate their alignment to the respective sets $\\mathbf{A}=a^{-1}(\\mathbf{X})$ and $\\mathbf{B}=a^{-1}(\\mathbf{Y})$.\n",
    "\n",
    "To evaluate if the abstraction preserves observational conditional consistency, we generate the following diagram from $\\mathcal{M}$ and $\\mathcal{M'}$:\n",
    "$$\n",
    "\\begin{array}{ccc}\n",
    "\\mathbf{A} & \\overset{p_{\\mathcal{M}}(\\mathbf{B} \\vert \\mathbf{A})}{\\rightarrow} & \\mathbf{B} \\\\\n",
    "\\alpha_{\\mathbf{X}}{\\downarrow} & &\\alpha_{\\mathbf{Y}}{\\downarrow} \\\\\n",
    "\\mathbf{X} & \\overset{p_{\\mathcal{M'}}(\\mathbf{Y} \\vert \\mathbf{X})}{\\rightarrow} & \\mathbf{Y}\n",
    "\\end{array}\n",
    "$$\n",
    "where we derive $p_{\\mathcal{M}}(\\mathbf{B} \\vert \\mathbf{A})$ and $p_{\\mathcal{M'}}(\\mathbf{Y} \\vert \\mathbf{X})$ from $\\mathcal{M}$ and $\\mathcal{M'}$. We can now ask whether:\n",
    "$$\\alpha_\\mathbf{Y} \\cdot p_{\\mathcal{M}}(\\mathbf{B} \\vert \\mathbf{A}) = p_{\\mathcal{M'}}(\\mathbf{Y} \\vert \\mathbf{X}) \\cdot \\alpha_{\\mathbf{X}}.$$"
   ]
  },
  {
   "cell_type": "markdown",
   "id": "44981e85",
   "metadata": {},
   "source": [
    "**Meaning of conditional observational consistency.** In the case of conditioning, if commutativity holds, then the following two operations produce the same statistical result:\n",
    "1. Given conditioning values in the base model, making a prediction based on them, and then projecting to the abstracted model via $\\alpha$; or\n",
    "2. Given conditioning values in the base model, projecting to the abstracted model via $\\alpha$, and then making a prediction based on them.\n",
    "\n",
    "As always, the actual granularity of this prediction process is not accounted by consistency."
   ]
  },
  {
   "cell_type": "markdown",
   "id": "451eead7",
   "metadata": {},
   "source": [
    "# Interventional consistency\n",
    "\n",
    "Interventional consistencies are consistencies evaluated out of an interventional model $\\mathcal{M}_\\iota$, for an intervention $\\iota$."
   ]
  },
  {
   "cell_type": "markdown",
   "id": "2c2179c5",
   "metadata": {},
   "source": [
    "## Marginal interventional consistency\n",
    "\n",
    "In *marginal interventional consistency* we are interested in considering the alignment of a single-variable marginal in the abstracted model with respect to the (possibly multi-varied) marginal in the base model when we perform an intervention.\n",
    "\n",
    "Here our focus is on: $P_\\mathcal{M'}(Y \\vert do(\\mathbf{X}))$."
   ]
  },
  {
   "cell_type": "markdown",
   "id": "eeb9fe45",
   "metadata": {},
   "source": [
    "In this scenario we consider a single abstracted variable $Y$ in the post-interventional model generated by executing $do(\\mathbf{X})$. Through the definition of abstraction, we can identify a corresponding (set) of variables $\\mathbf{B}=a^{-1}(Y)$ of interest and a corresponding set of intervened variables $\\mathbf{A}=a^{-1}(\\mathbf{X})$.\n",
    "\n",
    "We can then build a diagram from the post-interventional models $\\mathcal{M}_\\iota$ and $\\mathcal{M'}_{\\iota'}$ as follows:\n",
    "\n",
    "$$\n",
    "\\begin{array}{ccc}\n",
    "\\{*\\}& \\overset{p_{\\mathcal{M}_{do(\\mathbf{A})}}(\\mathbf{B})}{\\rightarrow} & \\mathbf{B} \\\\\n",
    "& &\\alpha_{Y}{\\downarrow} \\\\\n",
    "\\{*\\}& \\overset{p_{\\mathcal{M'}_{do(\\mathbf{X})}}(Y)}{\\rightarrow} & Y\n",
    "\\end{array}\n",
    "$$\n",
    "where $p_{\\mathcal{M}_{do(\\mathbf{A})}}(\\mathbf{B})$ and $p_{\\mathcal{M'}_{do(\\mathbf{X})}}(Y)$ are matrices corresponding to the desired distributions computed from $\\mathcal{M}_{\\iota}$ and $\\mathcal{M'}_{\\iota'}$. Consistency reduces to verifying:\n",
    "$$\\alpha_{Y} \\cdot p_{\\mathcal{M}_{do(\\mathbf{A})}}(\\mathbf{B}) = p_{\\mathcal{M'}_{do(\\mathbf{X})}}(Y).$$"
   ]
  },
  {
   "cell_type": "markdown",
   "id": "f9ad79e1",
   "metadata": {},
   "source": [
    "Notice that the two interventional quantities that we estimate on the post-interventional model may be expressed as quantities on the pre-interventional model using the $do$ notation:\n",
    "$$ p_{\\mathcal{M}_{do(\\mathbf{A})}}(\\mathbf{B}) = p_{\\mathcal{M}}(\\mathbf{B} \\vert do(\\mathbf{A})) $$\n",
    "$$ p_{\\mathcal{M'}_{do(\\mathbf{X})}}(Y) = p_{\\mathcal{M'}}(Y \\vert do(\\mathbf{X})).$$\n",
    "\n",
    "This may suggest that we could work with the following diagram:\n",
    "$$\n",
    "\\begin{array}{ccc}\n",
    "\\mathbf{A} & \\overset{p_{\\mathcal{M}}(\\mathbf{B} \\vert do(\\mathbf{A}))}{\\rightarrow} & \\mathbf{B} \\\\\n",
    "\\alpha_{\\mathbf{X}}{\\downarrow} & &\\alpha_{Y}{\\downarrow} \\\\\n",
    "\\mathbf{X} & \\overset{p_{\\mathcal{M'}}(\\mathbf{Y} \\vert do(\\mathbf{X}))}{\\rightarrow} & Y\n",
    "\\end{array}\n",
    "$$\n",
    "and evaluate $\\alpha_Y \\cdot p_{\\mathcal{M}}(\\mathbf{B} \\vert do(\\mathbf{A})) = p_{\\mathcal{M'}}(\\mathbf{Y} \\vert do(\\mathbf{X})) \\cdot \\alpha_{\\mathbf{X}}$, as in [Rischel2020]. This notation has some advantages and disadvantages:\n",
    "- *Pros:* \n",
    "    - it highlights the relation between $\\mathbf{A}$ and $\\mathbf{X}$, which is othewise packed into the intervention subscript.\n",
    "    - it tells us how an interventional distribution $p_{\\mathcal{M'}}(Y \\vert do(\\mathbf{X}))$ changes for varied values of the intervention $\\mathbf{X}=\\mathbf{x}$, thus giving something akin to $p_{\\mathcal{M'}_{do(\\mathbf{X})}}(Y \\vert \\mathbf{X})$: how the distribution of $Y$ changes in the post-interventional model according to different values of intervention performed.\n",
    "- *Cons:* \n",
    "    - it packs away that we are working with a post-interventional model, which is otherwise highlighted in the intervention subscript. It is particularly important when working with this last notation to pay attention that, in general $p_{\\mathcal{M}}(\\mathbf{B} \\vert do(\\mathbf{A})) \\neq p_{\\mathcal{M}}(\\mathbf{B} \\vert \\mathbf{A})$ and $p_{\\mathcal{M'}}(Y \\vert do(\\mathbf{X})) \\neq p_{\\mathcal{M'}}(Y \\vert \\mathbf{X})$. The matrix expressing an interventional distribution must be correctly derived from the post-interventional model (via direct intervention or via do-calculus).  "
   ]
  },
  {
   "cell_type": "markdown",
   "id": "1096a6a0",
   "metadata": {},
   "source": [
    "**Meaning of marginal interventional consistency.** If commutativity holds, this means that the following two operations produce the same statistical result:\n",
    "1. Sampling from $p_{\\mathcal{M}_{do(\\mathbf{A})}}(B)$ and then project to $Y$ via $\\alpha_Y$; or\n",
    "2. Sampling from $p_{\\mathcal{M}_{do(\\mathbf{X})}}(Y)$.\n",
    "\n",
    "In other words, starting from $\\mathcal{M}$ and $\\mathcal{M'}$ and performing $do(\\mathbf{A})$ and $do(\\mathbf{X})$, then the two operations above are (statistically) equivalent."
   ]
  },
  {
   "cell_type": "markdown",
   "id": "5200b3f5",
   "metadata": {},
   "source": [
    "## Joint interventional consistency\n",
    "\n",
    "*Joint interventional consistency* extends marginal interventional consistency by considering all (or a subset of) the variables in the abstracted model and partitioning them in intervened and non-intervened variables.\n",
    "\n",
    "Here our focus is on: $P_\\mathcal{M'}(\\mathbf{Y} \\vert do(\\mathbf{X}))$."
   ]
  },
  {
   "cell_type": "markdown",
   "id": "d8d09721",
   "metadata": {},
   "source": [
    "Assume we partition all the variables in the abstracted model in two sets: a set of variables $\\mathbf{X}$ on which we will intervene, and a set of variables $\\mathbf{Y}$ on which we do not intervene. As an immediated consequence, we will get through $a^{-1}$ a set of intervened variables $\\mathbf{A} = a^{-1}(\\mathbf{X})$ and a set of non-intervened variables $\\mathbf{B} = a^{-1}(\\mathbf{Y})$. (Remember that $\\mathbf{A}$ and $\\mathbf{B}$ do not necessarily form a partition of the variables in the base model since there may be non-relevant variables outside the domain of $a$).\n",
    "\n",
    "We can then build a diagram similar to the previous one:\n",
    "\n",
    "$$\n",
    "\\begin{array}{ccc}\n",
    "\\{*\\}& \\overset{p_{\\mathcal{M}_{do(\\mathbf{A})}}(\\mathbf{B})}{\\rightarrow} & \\mathbf{B} \\\\\n",
    "& &\\alpha_{\\mathbf{Y}}{\\downarrow} \\\\\n",
    "\\{*\\}& \\overset{p_{\\mathcal{M'}_{do(\\mathbf{X})}}(\\mathbf{Y})}{\\rightarrow} & \\mathbf{Y}\n",
    "\\end{array}\n",
    "$$\n",
    "where $p_{\\mathcal{M}_{do(\\mathbf{A})}}(\\mathbf{B})$ and $p_{\\mathcal{M'}_{do(\\mathbf{X})}}(\\mathbf{Y})$ are matrices corresponding to the desired distributions computed from $\\mathcal{M}_{\\iota}$ and $\\mathcal{M'}_{\\iota'}$. Consistency requires verifying:\n",
    "$$\\alpha_{\\mathbf{Y}} \\cdot p_{\\mathcal{M}_{do(\\mathbf{A})}}(\\mathbf{B}) = p_{\\mathcal{M'}_{do(\\mathbf{X})}}(\\mathbf{Y}).$$"
   ]
  },
  {
   "cell_type": "markdown",
   "id": "c7bfc336",
   "metadata": {},
   "source": [
    "Similarly to what we have done before, we can express our post-interventional distribution on the pre-interventional model using the $do$ notation:\n",
    "$$ p_{\\mathcal{M}_{do(\\mathbf{A})}}(\\mathbf{B}) = p_{\\mathcal{M}}(\\mathbf{B} \\vert do(\\mathbf{A})) $$\n",
    "$$ p_{\\mathcal{M'}_{do(\\mathbf{X})}}(\\mathbf{Y}) = p_{\\mathcal{M'}}(\\mathbf{Y} \\vert do(\\mathbf{X})),$$\n",
    "and consider an alternative diagram as we did before for marginal interventional consistency."
   ]
  },
  {
   "cell_type": "markdown",
   "id": "5520d006",
   "metadata": {},
   "source": [
    "**Meaning of joint interventional consistency.** If commutativity holds, this means that the following two operations produce the same statistical result:\n",
    "1. Sampling from $p_{\\mathcal{M}_{do(\\mathbf{A})}}(\\mathbf{B})$ and then project to $\\mathbf{Y}$ via $\\alpha_\\mathbf{Y}$; or\n",
    "2. Sampling from $p_{\\mathcal{M}_{do(\\mathbf{X})}}(\\mathbf{Y})$.\n",
    "\n",
    "Joint interventional consistency is analogous to marginal interventional consistency except we consider multivariate distributions instead of univariate."
   ]
  },
  {
   "cell_type": "markdown",
   "id": "fb54e1ae",
   "metadata": {},
   "source": [
    "## Conditional interventional consistency\n",
    "\n",
    "In *conditional interventional consistency* we are interested in considering the alignment of a set of variables conditioned on another set in the abstracted model wrt the corresponding sets in the base model, under the execution of an intervention.\n",
    "\n",
    "Here our focus is on: $P_\\mathcal{M'}(\\mathbf{Y} \\vert do(\\mathbf{X}),\\mathbf{Z})$."
   ]
  },
  {
   "cell_type": "markdown",
   "id": "62d60b55",
   "metadata": {},
   "source": [
    "In this scenario we assume that we have a set $\\mathbf{Y}$ of abstracted variables that we want to study, a set $\\mathbf{X}$ on which we intervene and a set $\\mathbf{Z}$ which we condition on. Via $a^{-1}$ we get corresponding sets on the base model, respecively $\\mathbf{B}$, $\\mathbf{A}$ and $\\mathbf{C}$.\n",
    "\n",
    "We then build the following diagram:\n",
    "$$\n",
    "\\begin{array}{ccc}\n",
    "\\mathbf{C}& \\overset{p_{\\mathcal{M}_{do(\\mathbf{A})}}(\\mathbf{B}\\vert\\mathbf{C})}{\\rightarrow} & \\mathbf{B} \\\\\n",
    "\\alpha_{\\mathbf{Z}}{\\downarrow}& &\\alpha_{\\mathbf{Y}}{\\downarrow} \\\\\n",
    "\\mathbf{Z}& \\overset{p_{\\mathcal{M'}_{do(\\mathbf{X})}}(\\mathbf{Y}\\vert\\mathbf{Z})}{\\rightarrow} & \\mathbf{Y}\n",
    "\\end{array}\n",
    "$$\n",
    "where $p_{\\mathcal{M}_{do(\\mathbf{A})}}(\\mathbf{B}\\vert\\mathbf{C})$ and $p_{\\mathcal{M'}_{do(\\mathbf{X})}}(\\mathbf{Y}\\vert\\mathbf{Z})$ are matrices corresponding to the desired distributions computed from $\\mathcal{M}_{\\iota}$ and $\\mathcal{M'}_{\\iota'}$. Consistency requires verifying:\n",
    "$$\\alpha_{\\mathbf{Y}} \\cdot p_{\\mathcal{M}_{do(\\mathbf{A})}}(\\mathbf{B}\\vert\\mathbf{C}) = p_{\\mathcal{M'}_{do(\\mathbf{X})}}(\\mathbf{Y}\\vert\\mathbf{Z})\\cdot\\alpha_{\\mathbf{X}}.$$"
   ]
  },
  {
   "cell_type": "markdown",
   "id": "f639f904",
   "metadata": {},
   "source": [
    "Similarly to what we have done before, we can express our post-interventional distribution on the pre-interventional model using the $do$ notation:\n",
    "$$ p_{\\mathcal{M}_{do(\\mathbf{A})}}(\\mathbf{B}\\vert\\mathbf{C}) = p_{\\mathcal{M}}(\\mathbf{B} \\vert do(\\mathbf{A}),\\mathbf{C}) $$\n",
    "$$ p_{\\mathcal{M'}_{do(\\mathbf{X})}}(\\mathbf{Y}\\vert\\mathbf{Z}) = p_{\\mathcal{M'}}(\\mathbf{Y} \\vert do(\\mathbf{X}),\\mathbf{Z});$$\n",
    "however, building up an alternative diagram is not straightforward anymore as we now have a conditioning and an intervening set of variables."
   ]
  },
  {
   "cell_type": "markdown",
   "id": "4a2d3893",
   "metadata": {},
   "source": [
    "**Meaning of conditional observational consistency.** When commutativity holds under intervention, then we can state that the following two operations produce the same statistical result:\n",
    "1. Given conditioning values in the base model, making a prediction based on them $p_{\\mathcal{M}_{do(\\mathbf{A})}}(\\mathbf{B}\\vert\\mathbf{C})$, and then projecting to the abstracted model via $\\alpha$; or\n",
    "2. Given conditioning values in the base model, projecting to the abstracted model via $\\alpha$, and then making a prediction based on them $p_{\\mathcal{M'}_{do(\\mathbf{X})}}(\\mathbf{Y}\\vert\\mathbf{Z})$."
   ]
  },
  {
   "cell_type": "markdown",
   "id": "705df79c",
   "metadata": {},
   "source": [
    "# Counterfactual consistency\n",
    "\n",
    "Counterfactual consistencies are consistencies evaluated out of a counterfactual model $\\mathcal{M}_{\\iota\\bar{\\iota}}$ for conflicting interventions $\\iota$ and $\\bar{\\iota}$ that force us to reason about two distinct worlds, a factual one and a counterfactual one.\n",
    "\n",
    "As briefly discussed above, we can not reason about counterfactula relying on our objects and morphisms in $\\mathtt{FinStoch}$, as they represent BNs (or at best CBNs). We need instead to step back to our SCM and use it to generate counterfactual models $\\mathcal{M}_{\\iota\\bar{\\iota}}$."
   ]
  },
  {
   "cell_type": "markdown",
   "id": "beb3bc5f",
   "metadata": {},
   "source": [
    "## Marginal counterfactual consistency\n",
    "\n",
    "In *marginal counterfactual consistency* we are interested in considering the alignment of a single-variable marginal in the abstracted model with respect to the (possibly multi-varied) marginal in the base model when we perform a counterfactual study.\n",
    "\n",
    "Here our focus is on: $P_{\\mathcal{M}_{\\iota\\bar{\\iota}}}(Y) = P_{\\mathcal{M'}_{do(\\mathbf{X})}}(Y \\vert do(\\bar{\\mathbf{X}}))$."
   ]
  },
  {
   "cell_type": "markdown",
   "id": "aea4c203",
   "metadata": {},
   "source": [
    "In this scenario we consider a single abstracted variable $Y$; in the factual world we have performed the intervention $do(\\mathbf{X})$ and observed $Y$; now we want to consider what would have been the effect $Y$ had we performed $do(\\bar{\\mathbf{X}})$. Notice that, despite the notation, $do(\\bar{\\mathbf{X}})$ should not be read as a Boolean negation of the intervention $do(\\mathbf{X})$; instead the set $\\bar{\\mathbf{X}}$ simply denotes a set of variables on which we want to evaluate a counterfactual intervention, such that some of the manipulations are in contradiction with the factual intervention $do(\\mathbf{X})$.\n",
    "\n",
    "To do our counterfactual evaluation, we first take an abduction step in $\\mathcal{M'}_{do(\\mathbf{X})}$: from the observed $Y$ we infer the distribution over the exogenous variables (this abduction may be exact or produce a distribution). Next, we fix these distributions and we perform the desired intervention $\\bar{\\iota}$, thus producing $\\mathcal{M'}_{\\iota'\\bar{\\iota'}}$. Finally we evaluate $P_{\\mathcal{M'}_{do(\\mathbf{X})}}(Y \\vert do(\\bar{\\mathbf{X}}))$.\n",
    "\n",
    "Via abstraction $a$, we have a corresponding counterfactual quantity in the low-level model. Let $\\mathbf{A}=a^{-1}(\\mathbf{X})$, $\\mathbf{\\bar{A}}=a^{-1}(\\mathbf{\\bar{X}})$, and $\\mathbf{B}=a^{-1}(Y)$. We start from an abduction in the factual base intervened model, by inferring the distribution over the exogenous variables; then we perform the intervention $do(\\mathbf{\\bar{A}})$; last we evaluate $P_{\\mathcal{M}_{do(\\mathbf{A})}}(\\mathbf{B} \\vert do(\\bar{\\mathbf{A}}))$.\n",
    "\n",
    "The diagram we are interested in is built from the counterfactual models $\\mathcal{M}_{\\iota\\bar{\\iota}}$ and $\\mathcal{M'}_{\\iota'\\bar{\\iota'}}$ as follows:\n",
    "\n",
    "$$\n",
    "\\begin{array}{ccc}\n",
    "\\{*\\}& \\overset{p_{\\mathcal{M}_{do(\\mathbf{A}),do(\\bar{\\mathbf{A}})}}(\\mathbf{B})}{\\rightarrow} & \\mathbf{B} \\\\\n",
    "& &\\alpha_{Y}{\\downarrow} \\\\\n",
    "\\{*\\}& \\overset{p_{\\mathcal{M'}_{do(\\mathbf{X}),do(\\bar{\\mathbf{X}})}}(Y)}{\\rightarrow} & Y\n",
    "\\end{array}\n",
    "$$\n",
    "where $p_{\\mathcal{M}_{do(\\mathbf{A}),do(\\bar{\\mathbf{A}})}}(\\mathbf{B})$ and $p_{\\mathcal{M'}_{do(\\mathbf{X}),do(\\bar{\\mathbf{X}})}}(Y)$ are matrices corresponding to the desired distributions computed from $\\mathcal{M}_{\\iota\\bar{\\iota}}$ and $\\mathcal{M'}_{\\iota'\\bar{\\iota'}}$. Consistency reduces to verifying:\n",
    "$$\\alpha_{Y} \\cdot p_{\\mathcal{M}_{do(\\mathbf{A}),do(\\bar{\\mathbf{A}})}}(\\mathbf{B}) = p_{\\mathcal{M'}_{do(\\mathbf{X}),do(\\bar{\\mathbf{X}})}}(Y).$$"
   ]
  },
  {
   "cell_type": "markdown",
   "id": "8cd7a491",
   "metadata": {},
   "source": [
    "Counterfactual quantities, like interventional ones, may be expressed in a different form.\n",
    "The two interventional quantities that we estimate on the post-intervened model may be expressed as quantities on the pre-interventional model using the $do$ notation:\n",
    "$$ p_{\\mathcal{M}_{do(\\mathbf{A}),do(\\bar{\\mathbf{A}})}}(\\mathbf{B}) = p_{\\mathcal{M}}(B\\vert do(\\mathbf{A}),do(\\bar{\\mathbf{A}})) $$\n",
    "$$ p_{\\mathcal{M'}_{do(\\mathbf{X}),do(\\bar{\\mathbf{X}})}}(Y) = p_{\\mathcal{M'}}(Y\\vert do(\\mathbf{X}),do(\\bar{\\mathbf{X}})).$$\n",
    "\n",
    "Representing in a single diagram the contradictory intervention in the conditioning part is however not very helpful."
   ]
  },
  {
   "cell_type": "markdown",
   "id": "aba79850",
   "metadata": {},
   "source": [
    "**Meaning of marginal counterfactual consistency.** If commutativity holds, this means that the following two operations produce the same statistical result:\n",
    "1. I can run the base model under intervention $do(\\mathbf{A})$, observe the result, compute what would have happened if I had done $do(\\bar{\\mathbf{A}})$, and then project to $Y$ via $\\alpha_Y$; or\n",
    "2. I can project the intervention $do(\\mathbf{A})$ onto $do(\\mathbf{X})$, perform the intervention on the abstracted model, observe the result, and compute what would have happened if I had done $do(\\bar{\\mathbf{X}})$.\n",
    "\n",
    "Counterfactual consistency means that the model not only guarantees a generic statistical behaviour (as in the case of observational and interventional consistency), but, more strictly, that results on units (or subjects) are (statistically) equivalent."
   ]
  },
  {
   "cell_type": "markdown",
   "id": "f90be45d",
   "metadata": {},
   "source": [
    "## Joint counterfactual consistency\n",
    "\n",
    "*Joint counterfactual consistency* simply extends marginal counterfactual consistency by taking into consideration subsets of variables in the abstracted model, partitioning them in target variables of interest, facutal intervened variables and counterfactual intervened variables.\n",
    "\n",
    "Here our focus is on: $P_{\\mathcal{M}_{\\iota\\bar{\\iota}}}(\\mathbf{Y}) = P_{\\mathcal{M'}_{do(\\mathbf{X})}}(\\mathbf{Y} \\vert do(\\bar{\\mathbf{X}}))$."
   ]
  },
  {
   "cell_type": "markdown",
   "id": "8abca5ac",
   "metadata": {},
   "source": [
    "Assume we divide all the variables in the abstracted model in three sets: a set of variables $\\mathbf{Y}$ on which we do not intervene, a set of variables $\\mathbf{X}$ on which we will factually intervene, and a set of variables $\\bar{\\mathbf{X}}$, which overlaps with ${\\mathbf{X}}$, on which we will counterfactually intervene. As always, the abstraction will allow us to compute corresponding counterfactual quantity via $a^{-1}$ in the base model.\n",
    "\n",
    "We can then build a diagram similar to the previous one:\n",
    "\n",
    "$$\n",
    "\\begin{array}{ccc}\n",
    "\\{*\\}& \\overset{p_{\\mathcal{M}_{do(\\mathbf{A}),do(\\bar{\\mathbf{A}})}}(\\mathbf{B})}{\\rightarrow} & \\mathbf{B} \\\\\n",
    "& &\\alpha_{\\mathbf{Y}}{\\downarrow} \\\\\n",
    "\\{*\\}& \\overset{p_{\\mathcal{M'}_{do(\\mathbf{X}),do(\\bar{\\mathbf{X}})}}(\\mathbf{Y})}{\\rightarrow} & \\mathbf{Y}\n",
    "\\end{array}\n",
    "$$\n",
    "where $p_{\\mathcal{M}_{do(\\mathbf{A}),do(\\bar{\\mathbf{A}})}}(\\mathbf{B})$ and $p_{\\mathcal{M'}_{do(\\mathbf{X}),do(\\bar{\\mathbf{X}})}}(\\mathbf{Y})$ are matrices corresponding to the desired distributions computed from $\\mathcal{M}_{\\iota\\bar{\\iota}}$ and $\\mathcal{M'}_{\\iota'\\bar{\\iota'}}$. Consistency reduces to verifying:\n",
    "$$\\alpha_{\\mathbf{Y}} \\cdot p_{\\mathcal{M}_{do(\\mathbf{A}),do(\\bar{\\mathbf{A}})}}(\\mathbf{B}) = p_{\\mathcal{M'}_{do(\\mathbf{X}),do(\\bar{\\mathbf{X}})}}(\\mathbf{Y}).$$"
   ]
  },
  {
   "cell_type": "markdown",
   "id": "409f9dd5",
   "metadata": {},
   "source": [
    "We can also try to express the counterfactual quantities via the following identities:\n",
    "$$ p_{\\mathcal{M}_{do(\\mathbf{A}),do(\\bar{\\mathbf{A}})}}(\\mathbf{B}) = p_{\\mathcal{M}}(\\mathbf{B}\\vert do(\\mathbf{A}),do(\\bar{\\mathbf{A}})) $$\n",
    "$$ p_{\\mathcal{M'}_{do(\\mathbf{X}),do(\\bar{\\mathbf{X}})}}(\\mathbf{Y}) = p_{\\mathcal{M'}}(\\mathbf{Y}\\vert do(\\mathbf{X}),do(\\bar{\\mathbf{X}})).$$"
   ]
  },
  {
   "cell_type": "markdown",
   "id": "d3ecffa8",
   "metadata": {},
   "source": [
    "**Meaning of joint counterfactual consistency.** If commutativity holds this means that the following two operations produce the same statistical result:\n",
    "1. I can run the base model under intervention $do(\\mathbf{A})$, observe the result, compute what would have happened if I had done $do(\\bar{\\mathbf{A}})$, and then project to $\\mathbf{Y}$ via $\\alpha_\\mathbf{Y}$; or\n",
    "2. I can project the intervention $do(\\mathbf{A})$ onto $do(\\mathbf{X})$, perform the intervention on the abstracted model, observe the result, and compute what would have happened if I had done $do(\\bar{\\mathbf{X}})$.\n",
    "\n",
    "Joint counterfactual consistency is then again analogous to marginal counterfactual consistency once we account for a multivariate distribution."
   ]
  },
  {
   "cell_type": "markdown",
   "id": "9d5ddcdf",
   "metadata": {},
   "source": [
    "## Conditional counterfactual consistency\n",
    "\n",
    "In *conditional counterfactual consistency* we are interested in considering the alignment of a set of variables conditioned on another set in the abstracted model with respect to the corresponding sets in the base model, under the performance of a counterfactual study.\n",
    "\n",
    "Here our focus is on: $P_{\\mathcal{M}_{\\iota\\bar{\\iota}}}(\\mathbf{Y}\\vert \\mathbf{Z}) = P_{\\mathcal{M'}_{do(\\mathbf{X})}}(\\mathbf{Y} \\vert do(\\bar{\\mathbf{X}}),\\mathbf{Z})$."
   ]
  },
  {
   "cell_type": "markdown",
   "id": "f7889628",
   "metadata": {},
   "source": [
    "In this scenario we have a set of variables $\\mathbf{Y}$ on which we do not intervene, a set of variables $\\mathbf{X}$ on which we will factually intervene, a set of variables $\\bar{\\mathbf{X}}$, which overlaps with ${\\mathbf{X}}$, on which we will counterfactually intervene, and a set of conditioning variables $\\mathbf{Z}$.\n",
    "\n",
    "Given the abstracted model, in the factual world we perform the intervention $do(\\mathbf{X})$ and we study $\\mathbf{Y}$ conditioned on $\\mathbf{Z}$; in the counterfactual study we perform the usual abduction step, we perform $do(\\bar{\\mathbf{X}})$, and we observe the counterfactual distribution on $\\mathbf{Y}$ conditioned on $\\mathbf{Z}$. The same evaluation mediated by the abstraction term $a$ happens on the base model.\n",
    "\n",
    "The diagram we are interested in is built from the counterfactual models $\\mathcal{M}_{\\iota\\bar{\\iota}}$ and $\\mathcal{M'}_{\\iota'\\bar{\\iota'}}$ as follows:\n",
    "\n",
    "$$\n",
    "\\begin{array}{ccc}\n",
    "\\mathbf{C}& \\overset{p_{\\mathcal{M}_{do(\\mathbf{A}),do(\\bar{\\mathbf{A}})}}(\\mathbf{B}\\vert\\mathbf{C})}{\\rightarrow} & \\mathbf{B} \\\\\n",
    "\\alpha_{\\mathbf{Z}}{\\downarrow}& &\\alpha_{\\mathbf{Y}}{\\downarrow} \\\\\n",
    "\\mathbf{Z}& \\overset{p_{\\mathcal{M'}_{do(\\mathbf{X}),do(\\bar{\\mathbf{X}})}}(\\mathbf{Y}\\vert\\mathbf{Z})}{\\rightarrow} & \\mathbf{Y}\n",
    "\\end{array}\n",
    "$$\n",
    "where $p_{\\mathcal{M}_{do(\\mathbf{A}),do(\\bar{\\mathbf{A}})}}(\\mathbf{B}\\vert\\mathbf{C})$ and $p_{\\mathcal{M'}_{do(\\mathbf{X}),do(\\bar{\\mathbf{X}})}}(\\mathbf{Y}\\vert\\mathbf{Z})$ are matrices corresponding to the desired distributions computed from $\\mathcal{M}_{\\iota\\bar{\\iota}}$ and $\\mathcal{M'}_{\\iota'\\bar{\\iota'}}$. Consistency reduces to verifying:\n",
    "$$\\alpha_{\\mathbf{Y}} \\cdot p_{\\mathcal{M}_{do(\\mathbf{A}),do(\\bar{\\mathbf{A}})}}(\\mathbf{B}\\vert\\mathbf{C}) = p_{\\mathcal{M'}_{do(\\mathbf{X}),do(\\bar{\\mathbf{X}})}}(\\mathbf{Y}\\vert\\mathbf{Z}) \\cdot \\alpha_{\\mathbf{Z}}.$$"
   ]
  },
  {
   "cell_type": "markdown",
   "id": "71340533",
   "metadata": {},
   "source": [
    "We can express the counterfactual quantities via the following identities:\n",
    "$$ p_{\\mathcal{M}_{do(\\mathbf{A}),do(\\bar{\\mathbf{A}})}}(\\mathbf{B}\\vert\\mathbf{C}) = p_{\\mathcal{M}}(\\mathbf{B}\\vert do(\\mathbf{A}),do(\\bar{\\mathbf{A}}),\\mathbf{C}) $$\n",
    "$$ p_{\\mathcal{M'}_{do(\\mathbf{X}),do(\\bar{\\mathbf{X}})}}(\\mathbf{Y}\\vert\\mathbf{Z}) = p_{\\mathcal{M'}}(\\mathbf{Y}\\vert do(\\mathbf{X}),do(\\bar{\\mathbf{X}}),\\mathbf{Z}).$$"
   ]
  },
  {
   "cell_type": "markdown",
   "id": "3fb73c20",
   "metadata": {},
   "source": [
    "**Meaning of conditional counterfactual consistency.** If commutativity holds, this means that the following two operations produce the same statistical result:\n",
    "1. I can run the base model under intervention $do(\\mathbf{A})$, observe the result conditioned on $\\mathbf{C}$, compute what would have happened if I had done $do(\\bar{\\mathbf{A}})$, predict $\\mathbf{B}$ conditioned on $\\mathbf{C}$, and then project the result via $\\alpha_\\mathbf{Y}$; or\n",
    "2. I can project the intervention $do(\\mathbf{A})$ onto $do(\\mathbf{X})$, perform the intervention on the abstracted model, observe the result conditioned on $\\mathbf{Z}$, compute what would have happened if I had done $do(\\bar{\\mathbf{X}})$, and finally predict $\\mathbf{Y}$ conditioned on $\\mathbf{Z}$.\n",
    "\n",
    "Conditional counterfactual consistency allows predicition and the evaluation of complex queries across contradictory worlds with the guarantee that results in the base and in the abstracted model will agree.\n",
    "\n",
    "Notice that while we have defined conditional counterfactual consistency in the most general way, we can have specific queries where conditioning may happen only on the factual or on the counterfactual world."
   ]
  },
  {
   "cell_type": "markdown",
   "id": "ceb188ac",
   "metadata": {},
   "source": [
    "# Simulations"
   ]
  },
  {
   "cell_type": "markdown",
   "id": "0d5ceec3",
   "metadata": {},
   "source": [
    "## Observational consistency vs interventional consistency\n",
    "\n",
    "First, we have a look at the simpler forms of observational consistency and interventional consistency. We instantiate a basic model ($\\mathcal{M}$) and several different abstracted models ($\\mathcal{M'}$). In every instance, we compute observational and interventional distributions of interest and compare them. "
   ]
  },
  {
   "cell_type": "markdown",
   "id": "6b253358",
   "metadata": {},
   "source": [
    "### Base model definition"
   ]
  },
  {
   "cell_type": "markdown",
   "id": "96fa9d0f",
   "metadata": {},
   "source": [
    "We start defining the base model. Differently from previous examples in other notebooks where we usually considered a chain model, we now instantiate a model with a confounder. This will make it easier to highlight the difference between observational and interventional consistency."
   ]
  },
  {
   "cell_type": "code",
   "execution_count": 5,
   "id": "4fdefd61",
   "metadata": {},
   "outputs": [
    {
     "data": {
      "text/plain": [
       "True"
      ]
     },
     "execution_count": 5,
     "metadata": {},
     "output_type": "execute_result"
    }
   ],
   "source": [
    "M0 = BN([('Env','Smoke'),('Env','Cancer'),('Smoke','Cancer')])\n",
    "\n",
    "cpdE = cpd(variable='Env',\n",
    "          variable_card=2,\n",
    "          values=[[.25],[.75]],\n",
    "          evidence=None,\n",
    "          evidence_card=None)\n",
    "cpdS = cpd(variable='Smoke',\n",
    "          variable_card=2,\n",
    "          values=[[.8,.6],[.2,.4]],\n",
    "          evidence=['Env'],\n",
    "          evidence_card=[2])\n",
    "cpdC = cpd(variable='Cancer',\n",
    "          variable_card=2,\n",
    "          values=[[.9,.8,.35,.3],[.1,.2,.65,.7]],\n",
    "          evidence=['Smoke','Env'],\n",
    "          evidence_card=[2,2])\n",
    "\n",
    "M0.add_cpds(cpdE,cpdS,cpdC)\n",
    "M0.check_model()"
   ]
  },
  {
   "cell_type": "markdown",
   "id": "b586bea7",
   "metadata": {},
   "source": [
    "Notice that, by definition, *pgmpy* forces us work with a BN (actually, a CBN since we can perform interventions); we can then easily use *pgmpy* objects for dealing with observational and interventional consistency, but they will not allow us to deal with counterfactual consistency in an immediate way."
   ]
  },
  {
   "cell_type": "markdown",
   "id": "0b97ed26",
   "metadata": {},
   "source": [
    "We then use *pgmpy* methods to evaluate distributions of interest."
   ]
  },
  {
   "cell_type": "code",
   "execution_count": 6,
   "id": "b5be61f1",
   "metadata": {},
   "outputs": [],
   "source": [
    "inferM0 = VariableElimination(M0)\n",
    "M0_P_ESC = inferM0.query(['Env','Smoke','Cancer'], show_progress=False)\n",
    "M0_P_SC = inferM0.query(['Smoke','Cancer'], show_progress=False)\n",
    "M0_P_S = inferM0.query(['Smoke'], show_progress=False)\n",
    "M0_P_C = inferM0.query(['Cancer'], show_progress=False)\n",
    "M0_P_C_givenS = M0_P_SC/M0_P_S\n",
    "\n",
    "M0do = M0.do(['Smoke'])\n",
    "infer0do = VariableElimination(M0do)\n",
    "M0_P_C_doS0 = infer0do.query(['Cancer'], evidence={'Smoke':0}, show_progress=False)\n",
    "M0_P_C_doS1 = infer0do.query(['Cancer'], evidence={'Smoke':1}, show_progress=False)"
   ]
  },
  {
   "cell_type": "markdown",
   "id": "dc946855",
   "metadata": {},
   "source": [
    "### Abstraction definition\n",
    "\n",
    "In the following we will define a series of abstracted models, each one guaranteeing different forms of consistency. For computational simplicity we will assume that all abstractions are identities."
   ]
  },
  {
   "cell_type": "markdown",
   "id": "ee98f247",
   "metadata": {},
   "source": [
    "We also define a simple helper function to compute abstracted mechanisms."
   ]
  },
  {
   "cell_type": "code",
   "execution_count": 7,
   "id": "bdbd8f8b",
   "metadata": {},
   "outputs": [],
   "source": [
    "def solve_eq(p00,p01,p10,p11):\n",
    "    lmbda = p00+p01\n",
    "    x = p00/lmbda\n",
    "    y = 1-x\n",
    "    z = p10 / (1-lmbda)\n",
    "    w = 1-z\n",
    "    \n",
    "    return np.array([[lmbda],[1-lmbda]]), np.array([[x,z],[y,w]])"
   ]
  },
  {
   "cell_type": "markdown",
   "id": "19f9082a",
   "metadata": {},
   "source": [
    "### Case 1\n",
    "\n",
    "- Joint/marginal observational consistency in $P(S',C')$, $P(S')$ and $P(C')$\n",
    "- Conditional observational consistency in $P(C'\\vert S')$\n",
    "- **No** joint/marginal interventional consistency in $P(C'\\vert do(S'))$"
   ]
  },
  {
   "cell_type": "code",
   "execution_count": 8,
   "id": "2d605f4c",
   "metadata": {},
   "outputs": [
    {
     "data": {
      "text/plain": [
       "True"
      ]
     },
     "execution_count": 8,
     "metadata": {},
     "output_type": "execute_result"
    }
   ],
   "source": [
    "s,c = solve_eq(0.54,0.11,0.1075,0.2425)\n",
    "\n",
    "M1 = BN([('Smoke','Cancer')])\n",
    "\n",
    "cpdS = cpd(variable='Smoke',\n",
    "          variable_card=2,\n",
    "          values=s,\n",
    "          evidence=None,\n",
    "          evidence_card=None)\n",
    "cpdC = cpd(variable='Cancer',\n",
    "          variable_card=2,\n",
    "          values=c,\n",
    "          evidence=['Smoke'],\n",
    "          evidence_card=[2])\n",
    "\n",
    "M1.add_cpds(cpdS,cpdC)\n",
    "M1.check_model()"
   ]
  },
  {
   "cell_type": "markdown",
   "id": "2ac40e1c",
   "metadata": {},
   "source": [
    "We evaluate distributions on the abstracted model using *pgmpy* methods, and compare them with the base model."
   ]
  },
  {
   "cell_type": "code",
   "execution_count": 9,
   "id": "60d57107",
   "metadata": {},
   "outputs": [],
   "source": [
    "inferM1 = VariableElimination(M1)\n",
    "M1_P_SC = inferM1.query(['Smoke','Cancer'], show_progress=False)\n",
    "M1_P_S = inferM1.query(['Smoke'], show_progress=False)\n",
    "M1_P_C = inferM1.query(['Cancer'], show_progress=False)\n",
    "M1_P_C_givenS = M1_P_SC/M1_P_S\n",
    "\n",
    "M1do = M1.do(['Smoke'])\n",
    "infer1do = VariableElimination(M1do)\n",
    "M1_P_C_doS0 = infer1do.query(['Cancer'], evidence={'Smoke':0}, show_progress=False)\n",
    "M1_P_C_doS1 = infer1do.query(['Cancer'], evidence={'Smoke':1}, show_progress=False)"
   ]
  },
  {
   "cell_type": "code",
   "execution_count": 10,
   "id": "a3aaffe3",
   "metadata": {},
   "outputs": [
    {
     "name": "stdout",
     "output_type": "stream",
     "text": [
      "Joint observational consistency on P(S,C): True\n"
     ]
    }
   ],
   "source": [
    "print('Joint observational consistency on P(S,C): {0}'.format(M0_P_SC == M1_P_SC))\n",
    "if verbose: print('{0} \\n {1}'.format(M0_P_SC,M1_P_SC))"
   ]
  },
  {
   "cell_type": "code",
   "execution_count": 11,
   "id": "54911f24",
   "metadata": {},
   "outputs": [
    {
     "name": "stdout",
     "output_type": "stream",
     "text": [
      "Joint observational consistency on P(S): True\n"
     ]
    }
   ],
   "source": [
    "print('Joint observational consistency on P(S): {0}'.format(M0_P_S == M1_P_S))\n",
    "if verbose: print('{0} \\n {1}'.format(M0_P_S,M1_P_S))"
   ]
  },
  {
   "cell_type": "code",
   "execution_count": 12,
   "id": "32f843bc",
   "metadata": {},
   "outputs": [
    {
     "name": "stdout",
     "output_type": "stream",
     "text": [
      "Joint observational consistency on P(C): True\n"
     ]
    }
   ],
   "source": [
    "print('Joint observational consistency on P(C): {0}'.format(M0_P_C == M1_P_C))\n",
    "if verbose: print('{0} \\n {1}'.format(M0_P_C,M1_P_C))"
   ]
  },
  {
   "cell_type": "code",
   "execution_count": 13,
   "id": "9bb32048",
   "metadata": {},
   "outputs": [
    {
     "name": "stdout",
     "output_type": "stream",
     "text": [
      "Conditional observational consistency on P(C|S): True\n"
     ]
    }
   ],
   "source": [
    "print('Conditional observational consistency on P(C|S): {0}'.format(M0_P_C_givenS == M1_P_C_givenS))\n",
    "if verbose: print('{0} \\n {1}'.format(M0_P_C_givenS,M1_P_C_givenS))"
   ]
  },
  {
   "cell_type": "code",
   "execution_count": 14,
   "id": "3f6d41fd",
   "metadata": {},
   "outputs": [
    {
     "name": "stdout",
     "output_type": "stream",
     "text": [
      "Joint interventional consistency on P(C|do(S=0)): False\n"
     ]
    }
   ],
   "source": [
    "print('Joint interventional consistency on P(C|do(S=0)): {0}'.format(M0_P_C_doS0 == M1_P_C_doS0))\n",
    "if verbose: print('{0} \\n {1}'.format(M0_P_C_doS0,M1_P_C_doS0))"
   ]
  },
  {
   "cell_type": "code",
   "execution_count": 15,
   "id": "8026f65d",
   "metadata": {},
   "outputs": [
    {
     "name": "stdout",
     "output_type": "stream",
     "text": [
      "Joint interventional consistency on P(C|do(S=1)): False\n"
     ]
    }
   ],
   "source": [
    "print('Joint interventional consistency on P(C|do(S=1)): {0}'.format(M0_P_C_doS1 == M1_P_C_doS1))\n",
    "if verbose: print('{0} \\n {1}'.format(M0_P_C_doS1,M1_P_C_doS1))"
   ]
  },
  {
   "cell_type": "markdown",
   "id": "46c5d0bd",
   "metadata": {},
   "source": [
    "### Case 2\n",
    "\n",
    "- **No** joint/marginal observational consistency in $P(S',C')$, $P(S')$ and $P(C')$\n",
    "- Conditional observational consistency in $P(C'\\vert S')$\n",
    "- **No** joint/marginal interventional consistency in $P(C'\\vert do(S'))$"
   ]
  },
  {
   "cell_type": "code",
   "execution_count": 16,
   "id": "5abca24b",
   "metadata": {},
   "outputs": [
    {
     "data": {
      "text/plain": [
       "True"
      ]
     },
     "execution_count": 16,
     "metadata": {},
     "output_type": "execute_result"
    }
   ],
   "source": [
    "M2 = BN([('Smoke','Cancer')])\n",
    "\n",
    "cpdS = cpd(variable='Smoke',\n",
    "          variable_card=2,\n",
    "          values=[[.5],[.5]],\n",
    "          evidence=None,\n",
    "          evidence_card=None)\n",
    "cpdC = cpd(variable='Cancer',\n",
    "          variable_card=2,\n",
    "          values=c,\n",
    "          evidence=['Smoke'],\n",
    "          evidence_card=[2])\n",
    "\n",
    "M2.add_cpds(cpdS,cpdC)\n",
    "M2.check_model()"
   ]
  },
  {
   "cell_type": "markdown",
   "id": "5c851d14",
   "metadata": {},
   "source": [
    "We evaluate distributions on the abstracted model using *pgmpy* methods, and compare them with the base model."
   ]
  },
  {
   "cell_type": "code",
   "execution_count": 17,
   "id": "8a586da4",
   "metadata": {},
   "outputs": [],
   "source": [
    "inferM2 = VariableElimination(M2)\n",
    "M2_P_SC = inferM2.query(['Smoke','Cancer'], show_progress=False)\n",
    "M2_P_S = inferM2.query(['Smoke'], show_progress=False)\n",
    "M2_P_C = inferM2.query(['Cancer'], show_progress=False)\n",
    "M2_P_C_givenS = M2_P_SC/M2_P_S\n",
    "\n",
    "M2do = M2.do(['Smoke'])\n",
    "infer2do = VariableElimination(M2do)\n",
    "M2_P_C_doS0 = infer2do.query(['Cancer'], evidence={'Smoke':0}, show_progress=False)\n",
    "M2_P_C_doS1 = infer2do.query(['Cancer'], evidence={'Smoke':1}, show_progress=False)"
   ]
  },
  {
   "cell_type": "code",
   "execution_count": 18,
   "id": "a2955d51",
   "metadata": {},
   "outputs": [
    {
     "name": "stdout",
     "output_type": "stream",
     "text": [
      "Joint observational consistency on P(S,C): False\n"
     ]
    }
   ],
   "source": [
    "print('Joint observational consistency on P(S,C): {0}'.format(M0_P_SC == M2_P_SC))\n",
    "if verbose: print('{0} \\n {1}'.format(M0_P_SC,M2_P_SC))"
   ]
  },
  {
   "cell_type": "code",
   "execution_count": 19,
   "id": "44fdeee5",
   "metadata": {},
   "outputs": [
    {
     "name": "stdout",
     "output_type": "stream",
     "text": [
      "Joint observational consistency on P(S): False\n"
     ]
    }
   ],
   "source": [
    "print('Joint observational consistency on P(S): {0}'.format(M0_P_S == M2_P_S))\n",
    "if verbose: print('{0} \\n {1}'.format(M0_P_S,M2_P_S))"
   ]
  },
  {
   "cell_type": "code",
   "execution_count": 20,
   "id": "dd9067c3",
   "metadata": {},
   "outputs": [
    {
     "name": "stdout",
     "output_type": "stream",
     "text": [
      "Joint observational consistency on P(C): False\n"
     ]
    }
   ],
   "source": [
    "print('Joint observational consistency on P(C): {0}'.format(M0_P_C == M2_P_C))\n",
    "if verbose: print('{0} \\n {1}'.format(M0_P_C,M2_P_C))"
   ]
  },
  {
   "cell_type": "code",
   "execution_count": 21,
   "id": "940664b4",
   "metadata": {},
   "outputs": [
    {
     "name": "stdout",
     "output_type": "stream",
     "text": [
      "Conditional observational consistency on P(C|S): True\n"
     ]
    }
   ],
   "source": [
    "print('Conditional observational consistency on P(C|S): {0}'.format(M0_P_C_givenS == M2_P_C_givenS))\n",
    "if verbose: print('{0} \\n {1}'.format(M0_P_C_givenS,M2_P_C_givenS))"
   ]
  },
  {
   "cell_type": "code",
   "execution_count": 22,
   "id": "dc69ba18",
   "metadata": {},
   "outputs": [
    {
     "name": "stdout",
     "output_type": "stream",
     "text": [
      "Joint interventional consistency on P(C|do(S=0)): False\n"
     ]
    }
   ],
   "source": [
    "print('Joint interventional consistency on P(C|do(S=0)): {0}'.format(M0_P_C_doS0 == M2_P_C_doS0))\n",
    "if verbose: print('{0} \\n {1}'.format(M0_P_C_doS0,M2_P_C_doS0))"
   ]
  },
  {
   "cell_type": "code",
   "execution_count": 23,
   "id": "b013a02d",
   "metadata": {},
   "outputs": [
    {
     "name": "stdout",
     "output_type": "stream",
     "text": [
      "Joint interventional consistency on P(C|do(S=1)): False\n"
     ]
    }
   ],
   "source": [
    "print('Joint interventional consistency on P(C|do(S=1)): {0}'.format(M0_P_C_doS1 == M2_P_C_doS1))\n",
    "if verbose: print('{0} \\n {1}'.format(M0_P_C_doS1,M2_P_C_doS1))"
   ]
  },
  {
   "cell_type": "markdown",
   "id": "088f7e6e",
   "metadata": {},
   "source": [
    "### Case 3\n",
    "\n",
    "- Joint/marginal observational consistency in $P(S')$\n",
    "- **No** joint/marginal observational consistency in $P(S',C')$ and $P(C')$\n",
    "- **No** conditional observational consistency in $P(C'\\vert S')$\n",
    "- **No** joint/marginal interventional consistency in $P(C'\\vert do(S'))$"
   ]
  },
  {
   "cell_type": "code",
   "execution_count": 24,
   "id": "204c735e",
   "metadata": {},
   "outputs": [
    {
     "data": {
      "text/plain": [
       "True"
      ]
     },
     "execution_count": 24,
     "metadata": {},
     "output_type": "execute_result"
    }
   ],
   "source": [
    "M3 = BN([('Smoke','Cancer')])\n",
    "\n",
    "cpdS = cpd(variable='Smoke',\n",
    "          variable_card=2,\n",
    "          values=s,\n",
    "          evidence=None,\n",
    "          evidence_card=None)\n",
    "cpdC = cpd(variable='Cancer',\n",
    "          variable_card=2,\n",
    "          values=[[.8,.4],[.2,.6]],\n",
    "          evidence=['Smoke'],\n",
    "          evidence_card=[2])\n",
    "\n",
    "M3.add_cpds(cpdS,cpdC)\n",
    "M3.check_model()"
   ]
  },
  {
   "cell_type": "markdown",
   "id": "3342c66f",
   "metadata": {},
   "source": [
    "We evaluate distributions on the abstracted model using *pgmpy* methods, and compare them with the base model."
   ]
  },
  {
   "cell_type": "code",
   "execution_count": 25,
   "id": "b0342138",
   "metadata": {},
   "outputs": [],
   "source": [
    "inferM3 = VariableElimination(M3)\n",
    "M3_P_SC = inferM3.query(['Smoke','Cancer'], show_progress=False)\n",
    "M3_P_S = inferM3.query(['Smoke'], show_progress=False)\n",
    "M3_P_C = inferM3.query(['Cancer'], show_progress=False)\n",
    "M3_P_C_givenS = M3_P_SC/M3_P_S\n",
    "\n",
    "M3do = M3.do(['Smoke'])\n",
    "infer3do = VariableElimination(M3do)\n",
    "M3_P_C_doS0 = infer3do.query(['Cancer'], evidence={'Smoke':0}, show_progress=False)\n",
    "M3_P_C_doS1 = infer3do.query(['Cancer'], evidence={'Smoke':1}, show_progress=False)"
   ]
  },
  {
   "cell_type": "code",
   "execution_count": 26,
   "id": "3921ae5e",
   "metadata": {},
   "outputs": [
    {
     "name": "stdout",
     "output_type": "stream",
     "text": [
      "Joint observational consistency on P(S,C): False\n"
     ]
    }
   ],
   "source": [
    "print('Joint observational consistency on P(S,C): {0}'.format(M0_P_SC == M3_P_SC))\n",
    "if verbose: print('{0} \\n {1}'.format(M0_P_SC,M3_P_SC))"
   ]
  },
  {
   "cell_type": "code",
   "execution_count": 27,
   "id": "b34a1144",
   "metadata": {},
   "outputs": [
    {
     "name": "stdout",
     "output_type": "stream",
     "text": [
      "Joint observational consistency on P(S): True\n"
     ]
    }
   ],
   "source": [
    "print('Joint observational consistency on P(S): {0}'.format(M0_P_S == M3_P_S))\n",
    "if verbose: print('{0} \\n {1}'.format(M0_P_S,M3_P_S))"
   ]
  },
  {
   "cell_type": "code",
   "execution_count": 28,
   "id": "810408a2",
   "metadata": {},
   "outputs": [
    {
     "name": "stdout",
     "output_type": "stream",
     "text": [
      "Joint observational consistency on P(C): False\n"
     ]
    }
   ],
   "source": [
    "print('Joint observational consistency on P(C): {0}'.format(M0_P_C == M3_P_C))\n",
    "if verbose: print('{0} \\n {1}'.format(M0_P_C,M3_P_C))"
   ]
  },
  {
   "cell_type": "code",
   "execution_count": 29,
   "id": "b4abbbd3",
   "metadata": {},
   "outputs": [
    {
     "name": "stdout",
     "output_type": "stream",
     "text": [
      "Conditional observational consistency on P(C|S): False\n"
     ]
    }
   ],
   "source": [
    "print('Conditional observational consistency on P(C|S): {0}'.format(M0_P_C_givenS == M3_P_C_givenS))\n",
    "if verbose: print('{0} \\n {1}'.format(M0_P_C_givenS,M3_P_C_givenS))"
   ]
  },
  {
   "cell_type": "code",
   "execution_count": 30,
   "id": "23a81a31",
   "metadata": {},
   "outputs": [
    {
     "name": "stdout",
     "output_type": "stream",
     "text": [
      "Joint interventional consistency on P(C|do(S=0)): False\n"
     ]
    }
   ],
   "source": [
    "print('Joint interventional consistency on P(C|do(S=0)): {0}'.format(M0_P_C_doS0 == M3_P_C_doS0))\n",
    "if verbose: print('{0} \\n {1}'.format(M0_P_C_doS0,M3_P_C_doS0))"
   ]
  },
  {
   "cell_type": "code",
   "execution_count": 31,
   "id": "269ed110",
   "metadata": {},
   "outputs": [
    {
     "name": "stdout",
     "output_type": "stream",
     "text": [
      "Joint interventional consistency on P(C|do(S=1)): False\n"
     ]
    }
   ],
   "source": [
    "print('Joint interventional consistency on P(C|do(S=1)): {0}'.format(M0_P_C_doS1 == M3_P_C_doS1))\n",
    "if verbose: print('{0} \\n {1}'.format(M0_P_C_doS1,M3_P_C_doS1))"
   ]
  },
  {
   "cell_type": "markdown",
   "id": "48aa60cf",
   "metadata": {},
   "source": [
    "### Case 4\n",
    "\n",
    "- Joint/marginal observational consistency in $P(S')$\n",
    "- **No** joint/marginal observational consistency in $P(S',C')$ and $P(C')$\n",
    "- **No** conditional observational consistency in $P(C'\\vert S')$\n",
    "- Joint/marginal interventional consistency in $P(C'\\vert do(S'))$"
   ]
  },
  {
   "cell_type": "code",
   "execution_count": 32,
   "id": "e88124cb",
   "metadata": {},
   "outputs": [
    {
     "data": {
      "text/plain": [
       "True"
      ]
     },
     "execution_count": 32,
     "metadata": {},
     "output_type": "execute_result"
    }
   ],
   "source": [
    "M4 = BN([('Smoke','Cancer')])\n",
    "\n",
    "cpdS = cpd(variable='Smoke',\n",
    "          variable_card=2,\n",
    "          values=s,\n",
    "          evidence=None,\n",
    "          evidence_card=None)\n",
    "cpdC = cpd(variable='Cancer',\n",
    "          variable_card=2,\n",
    "          values=[[.825,0.3125],[.175,0.6875]],\n",
    "          evidence=['Smoke'],\n",
    "          evidence_card=[2])\n",
    "\n",
    "M4.add_cpds(cpdS,cpdC)\n",
    "M4.check_model()"
   ]
  },
  {
   "cell_type": "markdown",
   "id": "3ef82020",
   "metadata": {},
   "source": [
    "We evaluate distributions on the abstracted model using *pgmpy* methods, and compare them with the base model."
   ]
  },
  {
   "cell_type": "code",
   "execution_count": 33,
   "id": "1f9b3d82",
   "metadata": {},
   "outputs": [],
   "source": [
    "inferM4 = VariableElimination(M4)\n",
    "M4_P_SC = inferM4.query(['Smoke','Cancer'], show_progress=False)\n",
    "M4_P_S = inferM4.query(['Smoke'], show_progress=False)\n",
    "M4_P_C = inferM4.query(['Cancer'], show_progress=False)\n",
    "M4_P_C_givenS = M4_P_SC/M4_P_S\n",
    "\n",
    "M4do = M4.do(['Smoke'])\n",
    "infer4do = VariableElimination(M4do)\n",
    "M4_P_C_doS0 = infer4do.query(['Cancer'], evidence={'Smoke':0}, show_progress=False)\n",
    "M4_P_C_doS1 = infer4do.query(['Cancer'], evidence={'Smoke':1}, show_progress=False)"
   ]
  },
  {
   "cell_type": "code",
   "execution_count": 34,
   "id": "2ad65f48",
   "metadata": {},
   "outputs": [
    {
     "name": "stdout",
     "output_type": "stream",
     "text": [
      "Joint observational consistency on P(S,C): False\n"
     ]
    }
   ],
   "source": [
    "print('Joint observational consistency on P(S,C): {0}'.format(M0_P_SC == M4_P_SC))\n",
    "if verbose: print('{0} \\n {1}'.format(M0_P_SC,M4_P_SC))"
   ]
  },
  {
   "cell_type": "code",
   "execution_count": 35,
   "id": "7198ade5",
   "metadata": {},
   "outputs": [
    {
     "name": "stdout",
     "output_type": "stream",
     "text": [
      "Joint observational consistency on P(S): True\n"
     ]
    }
   ],
   "source": [
    "print('Joint observational consistency on P(S): {0}'.format(M0_P_S == M4_P_S))\n",
    "if verbose: print('{0} \\n {1}'.format(M0_P_S,M4_P_S))"
   ]
  },
  {
   "cell_type": "code",
   "execution_count": 36,
   "id": "bbb32ec8",
   "metadata": {},
   "outputs": [
    {
     "name": "stdout",
     "output_type": "stream",
     "text": [
      "Joint observational consistency on P(C): False\n"
     ]
    }
   ],
   "source": [
    "print('Joint observational consistency on P(C): {0}'.format(M0_P_C == M4_P_C))\n",
    "if verbose: print('{0} \\n {1}'.format(M0_P_C,M4_P_C))"
   ]
  },
  {
   "cell_type": "code",
   "execution_count": 37,
   "id": "0a792849",
   "metadata": {},
   "outputs": [
    {
     "name": "stdout",
     "output_type": "stream",
     "text": [
      "Conditional observational consistency on P(C|S): False\n"
     ]
    }
   ],
   "source": [
    "print('Conditional observational consistency on P(C|S): {0}'.format(M0_P_C_givenS == M4_P_C_givenS))\n",
    "if verbose: print('{0} \\n {1}'.format(M0_P_C_givenS,M4_P_C_givenS))"
   ]
  },
  {
   "cell_type": "code",
   "execution_count": 38,
   "id": "18be2b48",
   "metadata": {},
   "outputs": [
    {
     "name": "stdout",
     "output_type": "stream",
     "text": [
      "Joint interventional consistency on P(C|do(S=0)): True\n"
     ]
    }
   ],
   "source": [
    "print('Joint interventional consistency on P(C|do(S=0)): {0}'.format(M0_P_C_doS0 == M4_P_C_doS0))\n",
    "if verbose: print('{0} \\n {1}'.format(M0_P_C_doS0,M4_P_C_doS0))"
   ]
  },
  {
   "cell_type": "code",
   "execution_count": 39,
   "id": "7744d549",
   "metadata": {},
   "outputs": [
    {
     "name": "stdout",
     "output_type": "stream",
     "text": [
      "Joint interventional consistency on P(C|do(S=1)): True\n"
     ]
    }
   ],
   "source": [
    "print('Joint interventional consistency on P(C|do(S=1)): {0}'.format(M0_P_C_doS1 == M4_P_C_doS1))\n",
    "if verbose: print('{0} \\n {1}'.format(M0_P_C_doS1,M4_P_C_doS1))"
   ]
  },
  {
   "cell_type": "markdown",
   "id": "fc14c5ea",
   "metadata": {},
   "source": [
    "## Counterfactual consistency\n",
    "\n",
    "Finally, let us run a few simulations to investigate counterfactual consistency. Instead of *pgmpy*, we will now use custom classes that will allow us to evaluate counterfactual distributions of interest."
   ]
  },
  {
   "cell_type": "markdown",
   "id": "7631a9d4",
   "metadata": {},
   "source": [
    "### Base model definition\n",
    "\n",
    "We now revert to the old chain model $\\mathcal{M}$ representing a simplified lung cancer model; for a full description, refer to the first notebook."
   ]
  },
  {
   "cell_type": "code",
   "execution_count": 40,
   "id": "7839b84d",
   "metadata": {},
   "outputs": [],
   "source": [
    "class M0():\n",
    "    def __init__(self):\n",
    "        self.scm = True\n",
    "        \n",
    "    def sample(self):\n",
    "        Us = scipy.random.binomial(1,.2)\n",
    "        Ut = scipy.random.binomial(1,.8)\n",
    "        Uc1 = scipy.random.binomial(1,.1)\n",
    "        Uc2 = scipy.random.binomial(1,.4)\n",
    "        \n",
    "        S = Us\n",
    "        T = S*Ut\n",
    "        C = Uc1*(1-T)+Uc2*T\n",
    "        \n",
    "        return S,T,C,Us,Ut,Uc1,Uc2\n",
    "    \n",
    "    def counterfactual_sample(self):\n",
    "        S,T,C,Us,Ut,Uc1,Uc2 = self.sample()\n",
    "        while not(np.logical_and(S==1,C==1)):\n",
    "            S,T,C,Us,Ut,Uc1,Uc2 = self.sample()\n",
    "            \n",
    "        S = 0\n",
    "        T = S*Ut\n",
    "        C = Uc1*(1-T)+Uc2*T\n",
    "        \n",
    "        return S,T,C        "
   ]
  },
  {
   "cell_type": "markdown",
   "id": "154cbdcb",
   "metadata": {},
   "source": [
    "Differently from the definition used in the previous notebooks, we have now implemented the model as a true SCM, complete with all the necessary exogenous variable. The form we have chosen for the distributions over exogenous nodes and the structural equations in the endogenous node must guarantee that the pushforward generates the conditional distributions we want, but it is otherwise arbitrary. "
   ]
  },
  {
   "cell_type": "markdown",
   "id": "d986dc6c",
   "metadata": {},
   "source": [
    "It is easy to show that the pushforward of the distributions over the exogenous nodes onto the endogenous nodes generates the distributions/mechanisms/stochastic matrices we want. For the variable $S$ we have:\n",
    "\n",
    "$$ P(S=1) = P(U_S=1) = .2, $$\n",
    "\n",
    "which entails the mechanism: $\\mathcal{M}[\\phi_S] = \\left[\\begin{array}{c}\n",
    "\t.8 \\\\\n",
    "\t.2\n",
    "\t\\end{array}\\right]$. For the variable $T$ we have:\n",
    "\n",
    "$$ P(T=1 \\vert S=0) = 0 $$\n",
    "\n",
    "$$ P(T=1 \\vert S=1) = P(U_T=1) = .8, $$\n",
    "\n",
    "which entails the mechanism: $\\mathcal{M}[\\phi_T] = \\left[\\begin{array}{cc}\n",
    "\t1 & .2\\\\\n",
    "\t0 & .8\n",
    "\t\\end{array}\\right]$. Finally for $C$ we can compute:\n",
    "    \n",
    "$$ P(C=1 \\vert T=0) = P(U_{c1}=1) = .1 $$\n",
    "\n",
    "$$ P(C=1 \\vert T=1) = P(U_{c2}=1) = .6, $$\n",
    "\n",
    "which correponds to the mechanism: $\\mathcal{M}[\\phi_C] = \\left[\\begin{array}{cc}\n",
    "\t.9 & .4\\\\\n",
    "\t.1 & .6\n",
    "\t\\end{array}\\right]$.\n",
    "    \n",
    "All the mechanisms do correspond to the desired ones (as we uded them in the previous notebooks)."
   ]
  },
  {
   "cell_type": "markdown",
   "id": "718804fd",
   "metadata": {},
   "source": [
    "Notice also that our class has an additional function: *counterfactual_sample()*. This function is supposed to be used to answer the question: *what would be the probability of not developing cancer ($C=0$) if a patient had not smoked ($S=0$) when, in fact, we observed that the patient smoked ($S=1$) and developed cancer ($C=1$)?*. Practically, what this function does is generating in a loop factual samples of smoking patients with cancer ($S=1,C=1$), record the value of the exogenous variables (equivalent to abduction), start a new simulation setting the value of the exogenous variables to the recorded value, intervene on the smoke variable $do(S=0)$, and observe the outcome ($C$). This is, of course, just one among many counterfactual quantities we may want to study."
   ]
  },
  {
   "cell_type": "markdown",
   "id": "6f3b2599",
   "metadata": {},
   "source": [
    "### Abstracted model\n",
    "\n",
    "Following again the standard example, we consider a smaller abstracted model $\\mathcal{M'}$ composed of just two variables; again, for a full description, refer to the first notebook."
   ]
  },
  {
   "cell_type": "code",
   "execution_count": 41,
   "id": "26f18822",
   "metadata": {},
   "outputs": [],
   "source": [
    "class M1():\n",
    "    def __init__(self):\n",
    "        self.scm = True\n",
    "        \n",
    "    def sample(self):\n",
    "        Us = scipy.random.binomial(1,.2)\n",
    "        Uc1 = scipy.random.binomial(1,.1)\n",
    "        Uc2 = scipy.random.binomial(1,.34)\n",
    "        \n",
    "        S = Us\n",
    "        C = Uc1*(1-S)+Uc2*S\n",
    "        \n",
    "        return S,C,Us,Uc1,Uc2\n",
    "    \n",
    "    def counterfactual_sample(self):\n",
    "        S,C,Us,Uc1,Uc2 = self.sample()\n",
    "        while not(np.logical_and(S==1,C==1)):\n",
    "            S,C,Us,Uc1,Uc2 = self.sample()\n",
    "            \n",
    "        S = 0\n",
    "        C = Uc1*(1-S)+Uc2*S\n",
    "        \n",
    "        return S,C        "
   ]
  },
  {
   "cell_type": "markdown",
   "id": "5be3c0d0",
   "metadata": {},
   "source": [
    "Again, this is a full SCM implementation with exogenous variables and their distributions, as well as endogenous variables and their structural functions."
   ]
  },
  {
   "cell_type": "markdown",
   "id": "fdc050f5",
   "metadata": {},
   "source": [
    "It is immediate to pushforward the distributions over the exogenous nodes and derive the distributions/mechanisms/stochastic matrices over the endogenous nodes. For the variable $S'$ we have:\n",
    "\n",
    "$$ P(S'=1) = P(U_{S'}=1) = .2, $$\n",
    "\n",
    "which entails the mechanism: $\\mathcal{M'}[\\phi_{S'}] = \\left[\\begin{array}{c}\n",
    "\t.8 \\\\\n",
    "\t.2\n",
    "\t\\end{array}\\right]$. For the variable $C'$ we get:\n",
    "    \n",
    "$$ P(C'=1 \\vert S'=0) = P(U_{c1'}=1) = .1 $$\n",
    "\n",
    "$$ P(C'=1 \\vert S'=1) = P(U_{c2'}=1) = .34, $$\n",
    "\n",
    "which correponds to the mechanism: $\\mathcal{M'}[\\phi_{C'}] = \\left[\\begin{array}{cc}\n",
    "\t.9 & .66\\\\\n",
    "\t.1 & .34\n",
    "\t\\end{array}\\right]$.\n",
    "    \n",
    "All the mechanisms are equal to the desired ones (as we seen in the previous notebooks)."
   ]
  },
  {
   "cell_type": "markdown",
   "id": "5c2d584e",
   "metadata": {},
   "source": [
    "Finally, we have the additional function *counterfactual_sample()* which is used to answer the corresponding question for the abstracted model: *what would be the probability of not developing cancer ($C'=0$) if a patient had not smoked ($S'=0$) when, in fact, we observed that the patient smoked ($S'=1$) and developed cancer ($C'=1$)?*. Following the same approach as before, this function generates in a loop factual samples of smoking patients with cancer ($S'=1,C'=1$), records the value of the exogenous variables (equivalent to abduction), starts a new simulation setting the value of the exogenous variables to the recorded value, intervenes on the smoke variable $do($S'=0$)$, and observes the outcome ($C$)."
   ]
  },
  {
   "cell_type": "markdown",
   "id": "4d318b82",
   "metadata": {},
   "source": [
    "### Abstraction definition\n",
    "\n",
    "We relate the two models with the standard abstaction made up of two identity matrices relating the variables $S$ and $S'$, and $C$ and $C'$; the complete definition of the abstraction in terms of $R$, $a$ and $\\alpha$ is available in the first notebook.\n",
    "\n",
    "Having abstractions that are simple identities simplifies once again the verification of consistency; it will be sufficient to compare stochastic matrices (distributions) from the two models without the need to explicitly multiply them by the alpha matrix."
   ]
  },
  {
   "cell_type": "markdown",
   "id": "b6ccac22",
   "metadata": {},
   "source": [
    "### Observational and Interventional consistency\n",
    "\n",
    "We already know that the two models $\\mathcal{M}$ and $\\mathcal{M'}$ are highly compatible; in particular we have seen that all the following consistencies hold:\n",
    "\n",
    "- Joint/marginal observational consistency in $P(S',C')$, $P(S')$ and $P(C')$\n",
    "- Conditional observational consistency in $P(C'\\vert S')$\n",
    "- Joint/marginal interventional consistency in $P(C'\\vert do(S'))$\n",
    "\n",
    "A demonstration of these consistencies is available in the first notebook. In the following we just give a further empirical confirmation."
   ]
  },
  {
   "cell_type": "markdown",
   "id": "2c9a6ff4",
   "metadata": {},
   "source": [
    "Let us sample from the base model:"
   ]
  },
  {
   "cell_type": "code",
   "execution_count": 42,
   "id": "9c6d6c52",
   "metadata": {},
   "outputs": [
    {
     "name": "stderr",
     "output_type": "stream",
     "text": [
      "100%|███████████████████████████████| 100000/100000 [00:00<00:00, 169360.35it/s]\n"
     ]
    }
   ],
   "source": [
    "m0 = M0()\n",
    "data_m0 = np.zeros((n_samples,7))\n",
    "\n",
    "for i in tqdm(range(n_samples)):\n",
    "    data_m0[i,:] = m0.sample()"
   ]
  },
  {
   "cell_type": "markdown",
   "id": "d5350304",
   "metadata": {},
   "source": [
    "And estimate a few distributions of interest."
   ]
  },
  {
   "cell_type": "code",
   "execution_count": 43,
   "id": "afff893b",
   "metadata": {},
   "outputs": [
    {
     "name": "stdout",
     "output_type": "stream",
     "text": [
      "Empirical distributions:\n",
      "m0: P(S=0) = 0.80079\n",
      "m0: P(S=1) = 0.19921\n",
      "\n",
      "m0: P(T=0|S=0) = 1.0\n",
      "m0: P(T=1|S=0) = 0.0\n",
      "m0: P(T=0|S=1) = 0.2015461071231364\n",
      "m0: P(T=1|S=1) = 0.7984538928768636\n",
      "\n",
      "m0: P(C=0|T=0) = 0.899160463291079\n",
      "m0: P(C=1|T=0) = 0.10083953670892097\n",
      "m0: P(C=0|T=1) = 0.6042373946938262\n",
      "m0: P(C=1|T=1) = 0.3957626053061738\n",
      "\n",
      "m0: P(C=0|S=0) = 0.8993993431486407\n",
      "m0: P(C=1|S=0) = 0.10060065685135929\n",
      "m0: P(C=0|S=1) = 0.6627177350534612\n",
      "m0: P(C=1|S=1) = 0.33728226494653885\n"
     ]
    }
   ],
   "source": [
    "print('Empirical distributions:')\n",
    "print('m0: P(S=0) = {0}'.format(np.sum(data_m0[:,0]==0)/n_samples))\n",
    "print('m0: P(S=1) = {0}'.format(np.sum(data_m0[:,0])/n_samples))\n",
    "\n",
    "print('\\nm0: P(T=0|S=0) = {0}'.format(np.sum(np.logical_and(data_m0[:,1]==0,data_m0[:,0]==0))/np.sum(data_m0[:,0]==0)))\n",
    "print('m0: P(T=1|S=0) = {0}'.format(np.sum(np.logical_and(data_m0[:,1]==1,data_m0[:,0]==0))/np.sum(data_m0[:,0]==0)))\n",
    "print('m0: P(T=0|S=1) = {0}'.format(np.sum(np.logical_and(data_m0[:,1]==0,data_m0[:,0]==1))/np.sum(data_m0[:,0]==1)))\n",
    "print('m0: P(T=1|S=1) = {0}'.format(np.sum(np.logical_and(data_m0[:,1]==1,data_m0[:,0]==1))/np.sum(data_m0[:,0]==1)))\n",
    "\n",
    "print('\\nm0: P(C=0|T=0) = {0}'.format(np.sum(np.logical_and(data_m0[:,2]==0,data_m0[:,1]==0))/np.sum(data_m0[:,1]==0)))\n",
    "print('m0: P(C=1|T=0) = {0}'.format(np.sum(np.logical_and(data_m0[:,2]==1,data_m0[:,1]==0))/np.sum(data_m0[:,1]==0)))\n",
    "print('m0: P(C=0|T=1) = {0}'.format(np.sum(np.logical_and(data_m0[:,2]==0,data_m0[:,1]==1))/np.sum(data_m0[:,1]==1)))\n",
    "print('m0: P(C=1|T=1) = {0}'.format(np.sum(np.logical_and(data_m0[:,2]==1,data_m0[:,1]==1))/np.sum(data_m0[:,1]==1)))\n",
    "\n",
    "print('\\nm0: P(C=0|S=0) = {0}'.format(np.sum(np.logical_and(data_m0[:,2]==0,data_m0[:,0]==0))/np.sum(data_m0[:,0]==0)))\n",
    "print('m0: P(C=1|S=0) = {0}'.format(np.sum(np.logical_and(data_m0[:,2]==1,data_m0[:,0]==0))/np.sum(data_m0[:,0]==0)))\n",
    "print('m0: P(C=0|S=1) = {0}'.format(np.sum(np.logical_and(data_m0[:,2]==0,data_m0[:,0]==1))/np.sum(data_m0[:,0]==1)))\n",
    "print('m0: P(C=1|S=1) = {0}'.format(np.sum(np.logical_and(data_m0[:,2]==1,data_m0[:,0]==1))/np.sum(data_m0[:,0]==1)))"
   ]
  },
  {
   "cell_type": "markdown",
   "id": "65cd1c40",
   "metadata": {},
   "source": [
    "Notice, in particular, that the conditional distributions correspond (within sampling approximation) to the desired mechanisms."
   ]
  },
  {
   "cell_type": "markdown",
   "id": "1fdaa9fb",
   "metadata": {},
   "source": [
    "We do an analogous sampling for the abstracted model."
   ]
  },
  {
   "cell_type": "code",
   "execution_count": 44,
   "id": "600f839f",
   "metadata": {},
   "outputs": [
    {
     "name": "stderr",
     "output_type": "stream",
     "text": [
      "100%|███████████████████████████████| 100000/100000 [00:00<00:00, 225848.95it/s]\n"
     ]
    }
   ],
   "source": [
    "m1 = M1()\n",
    "data_m1 = np.zeros((n_samples,5))\n",
    "\n",
    "for i in tqdm(range(n_samples)):\n",
    "    data_m1[i,:] = m1.sample()"
   ]
  },
  {
   "cell_type": "markdown",
   "id": "862ce81f",
   "metadata": {},
   "source": [
    "And take a look to some reference distributions:"
   ]
  },
  {
   "cell_type": "code",
   "execution_count": 45,
   "id": "835f9a64",
   "metadata": {},
   "outputs": [
    {
     "name": "stdout",
     "output_type": "stream",
     "text": [
      "Empirical distributions:\n",
      "m1: P(S'=0) = 0.79915\n",
      "m1: P(S'=1) = 0.20085\n",
      "\n",
      "m1: P(C'=0|S'=0) = 0.9022961897015579\n",
      "m1: P(C'=1|S'=0) = 0.09770381029844209\n",
      "m1: P(C'=0|S'=1) = 0.6580532735872542\n",
      "m1: P(C'=1|S'=1) = 0.3419467264127458\n"
     ]
    }
   ],
   "source": [
    "print('Empirical distributions:')\n",
    "print(\"m1: P(S'=0) = {0}\".format(np.sum(data_m1[:,0]==0)/n_samples))\n",
    "print(\"m1: P(S'=1) = {0}\".format(np.sum(data_m1[:,0])/n_samples))\n",
    "\n",
    "print(\"\\nm1: P(C'=0|S'=0) = {0}\".format(np.sum(np.logical_and(data_m1[:,1]==0,data_m1[:,0]==0))/np.sum(data_m1[:,0]==0)))\n",
    "print(\"m1: P(C'=1|S'=0) = {0}\".format(np.sum(np.logical_and(data_m1[:,1]==1,data_m1[:,0]==0))/np.sum(data_m1[:,0]==0)))\n",
    "print(\"m1: P(C'=0|S'=1) = {0}\".format(np.sum(np.logical_and(data_m1[:,1]==0,data_m1[:,0]==1))/np.sum(data_m1[:,0]==1)))\n",
    "print(\"m1: P(C'=1|S'=1) = {0}\".format(np.sum(np.logical_and(data_m1[:,1]==1,data_m1[:,0]==1))/np.sum(data_m1[:,0]==1)))"
   ]
  },
  {
   "cell_type": "markdown",
   "id": "76f684b6",
   "metadata": {},
   "source": [
    "Notice that the conditional distributions match the desired mechanisms. Also, the interventional distribution on $\\mathcal{M}$ and $\\mathcal{M'}$ (which in this case is the same as the conditional distribution) agree, thus satisfying interventional consistency."
   ]
  },
  {
   "cell_type": "markdown",
   "id": "db9b1721",
   "metadata": {},
   "source": [
    "### Counterfactual consistency\n",
    "\n",
    "To evaluate whether the models satisfy (at least some form of) counterfactual consistency, we consider one specific query: *what would be the probability of not developing cancer ($C=0$) if a patient had not smoked ($S=0$) when, in fact, we observed that the patient smoked ($S=1$) and developed cancer ($C=1$)?*. This corresponds to: \n",
    "$$P_{\\mathcal{M}_{S=1,C=1}}(C=0 \\vert do(S=0))$$\n",
    "and\n",
    "$$P_{\\mathcal{M'}_{S'=1,C'=1}}(C'=0 \\vert do(S'=0))$$"
   ]
  },
  {
   "cell_type": "markdown",
   "id": "966f938c",
   "metadata": {},
   "source": [
    "**Model $\\mathcal{M}$.** Let us start with the first SCM, and consider its state when we observe $S=1,C=1$. From this state we want to infer the distribution of probability over the exogenous variables $U_S, U_T, U_{C1}, U_{C2}$ (abduction). To do so, we take the slightly long but illustrative approach from [Darwiche] of listing all possible worlds."
   ]
  },
  {
   "cell_type": "markdown",
   "id": "a9fa42b4",
   "metadata": {},
   "source": [
    "| U_S | U_T | U_C1 | U_C2 | S | T | C |   P     |\n",
    "|:---:|:---:|:----:|:----:|:-:|:-:|:-:|:-------:|\n",
    "| 0   | 0   | 0    | 0    | 0 | 0 | 0 |  0.0864 |\n",
    "| 0   | 0   | 0    | 1    | 0 | 0 | 0 |  0.0576 |\n",
    "| 0   | 0   | 1    | 0    | 0 | 0 | 1 |  0.0096 |\n",
    "| 0   | 0   | 1    | 1    | 0 | 0 | 1 |  0.0064 |\n",
    "| 0   | 1   | 0    | 0    | 0 | 0 | 0 |  0.3456 |\n",
    "| 0   | 1   | 0    | 1    | 0 | 0 | 0 |  0.2304 |\n",
    "| 0   | 1   | 1    | 0    | 0 | 0 | 1 |  0.0384 |\n",
    "| 0   | 1   | 1    | 1    | 0 | 0 | 1 |  0.0256 |\n",
    "| 1   | 0   | 0    | 0    | 1 | 0 | 0 |  0.0216 |\n",
    "| 1   | 0   | 0    | 1    | 1 | 0 | 0 |  0.0144 |\n",
    "| 1   | 0   | 1    | 0    | 1 | 0 | 1 |  0.0024 |\n",
    "| 1   | 0   | 1    | 1    | 1 | 0 | 1 |  0.0016 |\n",
    "| 1   | 1   | 0    | 0    | 1 | 1 | 0 |  0.0864 |\n",
    "| 1   | 1   | 0    | 1    | 1 | 1 | 1 |  0.0576 |\n",
    "| 1   | 1   | 1    | 0    | 1 | 1 | 0 |  0.0096 |\n",
    "| 1   | 1   | 1    | 1    | 1 | 1 | 1 |  0.0064 |"
   ]
  },
  {
   "cell_type": "markdown",
   "id": "a1d53568",
   "metadata": {},
   "source": [
    "We have a table of 16 lines because of the sixteen possible combinations of the four exogenous variables $U_S, U_T, U_{C1}, U_{C2}$; endogenous variables $S,T,C$ are then deterministically set. The last column reports the probability of each setting, which, because of independence, is just the product of the probability of the outcome of each single exogenous variable.\n",
    "\n",
    "Now, we want to consider only those worlds in which $S=1,C=1$, that is, the four lines:"
   ]
  },
  {
   "cell_type": "markdown",
   "id": "c7e85c22",
   "metadata": {},
   "source": [
    "| U_S | U_T | U_C1 | U_C2 | S | T | C |   P     |\n",
    "|:---:|:---:|:----:|:----:|:-:|:-:|:-:|:-------:|\n",
    "| 1   | 0   | 1    | 0    | 1 | 0 | 1 |  0.0024 |\n",
    "| 1   | 0   | 1    | 1    | 1 | 0 | 1 |  0.0016 |\n",
    "| 1   | 1   | 0    | 1    | 1 | 1 | 1 |  0.0576 |\n",
    "| 1   | 1   | 1    | 1    | 1 | 1 | 1 |  0.0064 |"
   ]
  },
  {
   "cell_type": "markdown",
   "id": "a62dc724",
   "metadata": {},
   "source": [
    "From this, we can easily perform our abduction step for estimating the probability of the exogenous variables. In particular we get:\n",
    "\n",
    "$$P(U_S = 1) = 1$$\n",
    "\n",
    "$$P(U_T = 1) = \\frac{0.0576+0.0064}{Z}$$\n",
    "\n",
    "$$P(U_{C1} = 1) = \\frac{0.0024+0.0016+0.0064}{Z}$$\n",
    "\n",
    "$$P(U_{C2} = 1) = \\frac{0.0016+0.0576+0.0064}{Z}$$ \n",
    "\n",
    "where $Z$ is just the normalization factor given by ${0.0024+0.0016+0.0576+0.0064}$. "
   ]
  },
  {
   "cell_type": "markdown",
   "id": "58632100",
   "metadata": {},
   "source": [
    "Having completed the abduction step, let us now perform the intervention of interest, that is $do(S=0)$. This has several effects. First, it cuts out the effects of $U_S$, so that we can just ignore this exogenous variable now. Second, the structural equation in $T$ is virtually reduced to $0$, since the product of $U_T$ with the intervened $S$ is identically zero. Third, the structural equation in $C$ also virtually simplifies to $U_{C1}$ because $T$ is now always zero. Thus:\n",
    "\n",
    "$$P_{\\mathcal{M}_{S=1,C=1}}(C=0 \\vert do(S=0)) = P(U_{C1}=0) = 1 - \\frac{0.0024+0.0016+0.0064}{Z}.$$\n",
    "\n",
    "Numerically:"
   ]
  },
  {
   "cell_type": "code",
   "execution_count": 46,
   "id": "65a8d551",
   "metadata": {},
   "outputs": [],
   "source": [
    "Z = (0.0576 + 0.0064 + 0.0024 + 0.0016)\n",
    "P_Uc1 = (0.0024 + 0.0064 + 0.0016) / Z\n",
    "cfP = 1 - P_Uc1"
   ]
  },
  {
   "cell_type": "code",
   "execution_count": 47,
   "id": "d32cc96e",
   "metadata": {},
   "outputs": [
    {
     "data": {
      "text/plain": [
       "0.8470588235294118"
      ]
     },
     "execution_count": 47,
     "metadata": {},
     "output_type": "execute_result"
    }
   ],
   "source": [
    "cfP"
   ]
  },
  {
   "cell_type": "markdown",
   "id": "040ad4cf",
   "metadata": {},
   "source": [
    "Empirically:"
   ]
  },
  {
   "cell_type": "code",
   "execution_count": 48,
   "id": "f81ae3b7",
   "metadata": {
    "scrolled": true
   },
   "outputs": [
    {
     "name": "stderr",
     "output_type": "stream",
     "text": [
      "100%|████████████████████████████████| 100000/100000 [00:08<00:00, 12378.87it/s]\n"
     ]
    }
   ],
   "source": [
    "cf_data_m0 = np.zeros((n_samples,3))\n",
    "\n",
    "for i in tqdm(range(n_samples)):\n",
    "    cf_data_m0[i,:] = m0.counterfactual_sample()"
   ]
  },
  {
   "cell_type": "code",
   "execution_count": 49,
   "id": "ec8f1cda",
   "metadata": {},
   "outputs": [
    {
     "name": "stdout",
     "output_type": "stream",
     "text": [
      "Counterfactual distributions:\n",
      "cf_m0: P(C=0 | S=0) = 0.84476\n"
     ]
    }
   ],
   "source": [
    "print('Counterfactual distributions:')\n",
    "print('cf_m0: P(C=0 | S=0) = {0}'.format(np.sum(cf_data_m0[:,2]==0)/n_samples))"
   ]
  },
  {
   "cell_type": "markdown",
   "id": "6bde36a9",
   "metadata": {},
   "source": [
    "The numerical and emprical results for the counterfactual probability on $\\mathcal{M}$ agree."
   ]
  },
  {
   "cell_type": "markdown",
   "id": "55031f7d",
   "metadata": {},
   "source": [
    "**Model for $\\mathcal{M}_{\\iota\\bar{\\iota}}$.** We derived the counterfactual quantity of interest for $\\mathcal{M}$ using two methods: (i) via *enumeration of possible worlds*, and (ii) via *simulation*.\n",
    "\n",
    "We could indeed setup a *counterfactual model* $\\mathcal{M}_{\\iota\\bar{\\iota}}$, similarly to the way in which we instantiate an *interventional model* $\\mathcal{M}_{\\iota}$ after an intervention $\\iota$. The counterfactual model $\\mathcal{M}_{\\iota\\bar{\\iota}}$ would have the following form:"
   ]
  },
  {
   "cell_type": "markdown",
   "id": "d44ef2e8",
   "metadata": {},
   "source": [
    "<div style=\"max-width:400px;\">\n",
    "    <img src=\"img/counterfactual1.png\" height=\"100px\">\n",
    "</div>"
   ]
  },
  {
   "cell_type": "markdown",
   "id": "c2584173",
   "metadata": {},
   "source": [
    "Perfroming a pushfoward of the distributions, we can then derive our usual simplified model, which we can embed in $\\mathtt{FinStoch}$:"
   ]
  },
  {
   "cell_type": "markdown",
   "id": "d87bda68",
   "metadata": {},
   "source": [
    "<div style=\"max-width:600px;\">\n",
    "    <img src=\"img/counterfactual2.png\" height=\"100px\">\n",
    "</div>"
   ]
  },
  {
   "cell_type": "markdown",
   "id": "ba5ccbb5",
   "metadata": {},
   "source": [
    "**Model $\\mathcal{M'}$.** Let us follow the same approch for the abstracted model. Let us evaluate all the possible worlds, which now depends on three exogenous variables $U_{S'},U_{C1'},U_{C2'}$ and two endogenous variables $S',C'$."
   ]
  },
  {
   "cell_type": "markdown",
   "id": "ff432484",
   "metadata": {},
   "source": [
    "| U_S'| U_C1'| U_C2'| S'| C'|   P     |\n",
    "|:---:|:----:|:----:|:-:|:-:|:-------:|\n",
    "| 0   | 0    | 0    | 0 | 0 |  0.4752 |\n",
    "| 0   | 0    | 1    | 0 | 0 |  0.2448 |\n",
    "| 0   | 1    | 0    | 0 | 1 |  0.0528 |\n",
    "| 0   | 1    | 1    | 0 | 1 |  0.0272 |\n",
    "| 1   | 0    | 0    | 1 | 0 |  0.1188 |\n",
    "| 1   | 0    | 1    | 1 | 1 |  0.0612 |\n",
    "| 1   | 1    | 0    | 1 | 0 |  0.0132 |\n",
    "| 1   | 1    | 1    | 1 | 1 |  0.0068 |"
   ]
  },
  {
   "cell_type": "markdown",
   "id": "2e29cf7d",
   "metadata": {},
   "source": [
    "We now have 8 lines because of the possible combinations of the three exogenous variables $U_{S'}, U_{C1}, U_{C2}$. Endogenous variables $S',C'$ are deterministically computed. Thanks to independence, the probability of each world is simply the product of the probability of the outcome of each single exogenous variable.\n",
    "\n",
    "Let us restrict our attention to those worlds where $S'=1,C'=1$. We have only two worlds:"
   ]
  },
  {
   "cell_type": "markdown",
   "id": "533c37cd",
   "metadata": {},
   "source": [
    "| U_S'| U_C1'| U_C2'| S'| C'|   P     |\n",
    "|:---:|:----:|:----:|:-:|:-:|:-------:|\n",
    "| 1   | 0    | 1    | 1 | 1 |  0.0612 |\n",
    "| 1   | 1    | 1    | 1 | 1 |  0.0068 |"
   ]
  },
  {
   "cell_type": "markdown",
   "id": "6b72757e",
   "metadata": {},
   "source": [
    "From this two lines of the table we can perform our abduction step for the estimation of the probability of the exogenous variables:\n",
    "\n",
    "$$P(U_{S'} = 1) = 1$$\n",
    "\n",
    "$$P(U_{C1'} = 1) = \\frac{0.0068}{Z}$$\n",
    "\n",
    "$$P(U_{C2'} = 1) = 1$$\n",
    "\n",
    "where $Z$ is just the normalization factor given by ${0.0068+0.0612}$. "
   ]
  },
  {
   "cell_type": "markdown",
   "id": "b809e5ef",
   "metadata": {},
   "source": [
    "After the abduction step, we perform our counterfactual intervention $do(S'=0)$. First of all, the effects of $U_{S'}$ are excluded, and this exogenous variable ends up being irrelevant. Once $S'$ is identically zero, then the structural equation of $C'$ is reduced to $U_{C1'}$, further excluding the effect of the other exogenous variable $U_{C2'}$. Consequently we have that:\n",
    "\n",
    "$$P_{\\mathcal{M'}_{S'=1,C'=1}}(C'=0 \\vert do(S'=0)) = P(U_{C1'}=0) = 1 - \\frac{0.0068}{Z}.$$\n",
    "\n",
    "Numerically:"
   ]
  },
  {
   "cell_type": "code",
   "execution_count": 50,
   "id": "64093b19",
   "metadata": {},
   "outputs": [],
   "source": [
    "Z_ = (0.0068+0.0612)\n",
    "P_Uc1_ = (0.0068) / Z_\n",
    "cfP_ = 1 - P_Uc1_"
   ]
  },
  {
   "cell_type": "code",
   "execution_count": 51,
   "id": "5fbc0c59",
   "metadata": {},
   "outputs": [
    {
     "data": {
      "text/plain": [
       "0.9"
      ]
     },
     "execution_count": 51,
     "metadata": {},
     "output_type": "execute_result"
    }
   ],
   "source": [
    "cfP_"
   ]
  },
  {
   "cell_type": "markdown",
   "id": "0d4bce9f",
   "metadata": {},
   "source": [
    "Empirically:"
   ]
  },
  {
   "cell_type": "code",
   "execution_count": 52,
   "id": "d47b2822",
   "metadata": {},
   "outputs": [
    {
     "name": "stderr",
     "output_type": "stream",
     "text": [
      "100%|████████████████████████████████| 100000/100000 [00:06<00:00, 15962.44it/s]\n"
     ]
    }
   ],
   "source": [
    "cf_data_m1 = np.zeros((n_samples,2))\n",
    "\n",
    "for i in tqdm(range(n_samples)):\n",
    "    cf_data_m1[i,:] = m1.counterfactual_sample()"
   ]
  },
  {
   "cell_type": "code",
   "execution_count": 53,
   "id": "187ce311",
   "metadata": {},
   "outputs": [
    {
     "name": "stdout",
     "output_type": "stream",
     "text": [
      "Counterfactual distributions:\n",
      "cf_m1: P(C'=0 | S'=0) = 0.90168\n"
     ]
    }
   ],
   "source": [
    "print('Counterfactual distributions:')\n",
    "print(\"cf_m1: P(C'=0 | S'=0) = {0}\".format(np.sum(cf_data_m1[:,1]==0)/n_samples))"
   ]
  },
  {
   "cell_type": "markdown",
   "id": "9e9c11dc",
   "metadata": {},
   "source": [
    "The numerical and emprical results for the counterfactual probability on $\\mathcal{M'}$ agree."
   ]
  },
  {
   "cell_type": "markdown",
   "id": "a92fbf1d",
   "metadata": {},
   "source": [
    "**Model for $\\mathcal{M'}_{\\iota'\\bar{\\iota'}}$.** After having derived the counterfactual quantity of interest for $\\mathcal{M'}$ in two ways, (i) via *enumeration of possible worlds*, and (ii) via *simulation*, we can setup the *counterfactual model* $\\mathcal{M'}_{\\iota'\\bar{\\iota'}}$:"
   ]
  },
  {
   "cell_type": "markdown",
   "id": "8ea642a0",
   "metadata": {},
   "source": [
    "<div style=\"max-width:300px;\">\n",
    "    <img src=\"img/counterfactual3.png\" height=\"100px\">\n",
    "</div>"
   ]
  },
  {
   "cell_type": "markdown",
   "id": "5b397f05",
   "metadata": {},
   "source": [
    "Perfroming a pushfoward of the distributions, we can then derive our usual simplified model, which we can embed in $\\mathtt{FinStoch}$:"
   ]
  },
  {
   "cell_type": "markdown",
   "id": "50868a4a",
   "metadata": {},
   "source": [
    "<div style=\"max-width:400px;\">\n",
    "    <img src=\"img/counterfactual4.png\" height=\"100px\">\n",
    "</div>"
   ]
  },
  {
   "cell_type": "markdown",
   "id": "81dc4c9a",
   "metadata": {},
   "source": [
    "**Consistency diagram.** We can now use the models we have derived, $\\mathcal{M}_{\\iota\\bar{\\iota}}$ and $\\mathcal{M'}_{\\iota'\\bar{\\iota'}}$, and the usual identity abstractions $\\alpha_{S'}$ and $\\alpha_{C'}$ to set up our commuting diagram:"
   ]
  },
  {
   "cell_type": "markdown",
   "id": "f83c8351",
   "metadata": {},
   "source": [
    "<div style=\"max-width:400px;\">\n",
    "    <img src=\"img/counterfactual5.png\" height=\"100px\">\n",
    "</div>"
   ]
  },
  {
   "cell_type": "markdown",
   "id": "effa61fe",
   "metadata": {},
   "source": [
    "which, clearly, does not commute. Therefore the two models are not counterfactually consistent with respect to the query we considered."
   ]
  },
  {
   "cell_type": "markdown",
   "id": "4c756efa",
   "metadata": {},
   "source": [
    "A few observation on this result: (i) as expected, observational and interventional consistency do not guarantee counterfactual consistency, as all these quantities are defined on different models; (ii) there exists a large number of counterfactual statements that we may want to consider, while we have examined a single and pretty straightforward counterfactual quantity in our simulation."
   ]
  },
  {
   "cell_type": "markdown",
   "id": "03435076",
   "metadata": {},
   "source": [
    "# Conclusion\n",
    "\n",
    "In this notebook we have formally reviewed different forms of consistency that may hold between a base and an abstracted model. We have analyzed consistencies according to the model on which they are evaluated (observational, interventional, counterfactual) and the distributions we were interested into (marginal, joint, conditional). \n",
    "\n",
    "Our approach has been to always reduce our SCM model to a simple Bayes networks which we could embed in $\\mathtt{FinStoch}$ and on which we could evaluate commutativity. This meant that interventions and counterfactual statements were used to generate the corresponding Bayes network from the given SCM. This has allowed us to easily work with very different (and possibly convoluted) interventional or counterfactual statements, while, at the same time, always evaluating consistency on simple diagrams. The ensuing simulations showed how SCMs related via abstractions may guarantee different forms of consistency."
   ]
  },
  {
   "cell_type": "markdown",
   "id": "f3e1f3c8",
   "metadata": {},
   "source": [
    "## Bibliography\n",
    "\n",
    "[Rischel2021] Rischel, Eigil F., and Sebastian Weichwald. \"Compositional Abstraction Error and a Category of Causal Models.\" arXiv preprint arXiv:2103.15758 (2021).\n",
    "\n",
    "[Rischel2020] Rischel, Eigil Fjeldgren. \"The Category Theory of Causal Models.\" (2020).\n",
    "\n",
    "[Rubenstein2017] Rubenstein, Paul K., et al. \"Causal consistency of structural equation models.\" arXiv preprint arXiv:1707.00819 (2017).\n",
    "\n",
    "[Pearl2009] Pearl, Judea. Causality. Cambridge university press, 2009.\n",
    "\n",
    "[Peters2017] Peters, Jonas, Dominik Janzing, and Bernhard Schölkopf. Elements of causal inference: foundations and learning algorithms. The MIT Press, 2017.\n",
    "\n",
    "[Spivak2014] Spivak, David I. Category theory for the sciences. MIT Press, 2014.\n",
    "\n",
    "[Fong2018] Fong, Brendan, and David I. Spivak. \"Seven sketches in compositionality: An invitation to applied category theory.\" arXiv preprint arXiv:1803.05316 (2018).\n",
    "\n",
    "[Bareinboim2022] Bareinboim, Elias, et al. \"On pearl’s hierarchy and the foundations of causal inference.\" Probabilistic and Causal Inference: The Works of Judea Pearl. 2022. 507-556.\n",
    "\n",
    "[Darwiche2022] Darwiche, Adnan. [Counterfactuals](http://web.cs.ucla.edu/~darwiche/causality/)."
   ]
  }
 ],
 "metadata": {
  "kernelspec": {
   "display_name": "Python 3 (ipykernel)",
   "language": "python",
   "name": "python3"
  },
  "language_info": {
   "codemirror_mode": {
    "name": "ipython",
    "version": 3
   },
   "file_extension": ".py",
   "mimetype": "text/x-python",
   "name": "python",
   "nbconvert_exporter": "python",
   "pygments_lexer": "ipython3",
   "version": "3.9.10"
  },
  "toc": {
   "base_numbering": 1,
   "nav_menu": {},
   "number_sections": true,
   "sideBar": true,
   "skip_h1_title": false,
   "title_cell": "Table of Contents",
   "title_sidebar": "Contents",
   "toc_cell": false,
   "toc_position": {
    "height": "calc(100% - 180px)",
    "left": "10px",
    "top": "150px",
    "width": "261.896px"
   },
   "toc_section_display": true,
   "toc_window_display": true
  }
 },
 "nbformat": 4,
 "nbformat_minor": 5
}
