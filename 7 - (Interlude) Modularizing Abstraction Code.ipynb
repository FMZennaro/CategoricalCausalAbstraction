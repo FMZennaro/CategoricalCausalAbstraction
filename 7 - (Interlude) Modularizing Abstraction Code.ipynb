{
 "cells": [
  {
   "cell_type": "markdown",
   "id": "1a9afbc8",
   "metadata": {},
   "source": [
    "# (Interlude) Modularizing Abstraction Code\n",
    "\n",
    "This notebook is a brief *interlude*: we suspend for the moment our discussion of abstraction to concentrate on coding aspects. The results of this reflections will lay the architecture of the code which will be the bedrock of future work."
   ]
  },
  {
   "cell_type": "markdown",
   "id": "59d0f759",
   "metadata": {},
   "source": [
    "## SCMMappings_1_0\n",
    "\n",
    "So far, we have been implemented code to instantiate abstraction, analyze them, provide insights into them, compute abstraction errors as well as other measures. One by one we have integrated all these functions in a single monolithic class $\\mathtt{Abstraction}$ in the *src/SCMMappings.py* file. "
   ]
  },
  {
   "cell_type": "markdown",
   "id": "2ec42a85",
   "metadata": {},
   "source": [
    "The structure of code looks as follows:"
   ]
  },
  {
   "cell_type": "markdown",
   "id": "3d368df3",
   "metadata": {},
   "source": [
    "<div style=\"max-width:600px;\">\n",
    "    <img src=\"img/UML_SCMMappings_1_0.png\" height=\"100px\">\n",
    "</div>"
   ]
  },
  {
   "cell_type": "markdown",
   "id": "9877118f",
   "metadata": {},
   "source": [
    "where we have a three classes:\n"
   ]
  },
  {
   "cell_type": "markdown",
   "id": "6944f6ca",
   "metadata": {},
   "source": [
    "- **SCMMapping**: the parent class representing a generic SCM mapping. It has two SCMs ($\\mathtt{M0},\\mathtt{M1}$) as attributes. Its methods include:\n",
    "    - *outputting functions:* a set of functions  to output and inspect the causal models [list\\_\\*(), print\\_\\*(), plot\\_\\*()] "
   ]
  },
  {
   "cell_type": "markdown",
   "id": "bfcae676",
   "metadata": {},
   "source": [
    "- **Abstraction**: a class for $(R,a,\\alpha)$ abstraction, inheriting from *SCMMapping*. Its attributes are $\\mathtt{R,a,alphas}$. A long list of methods is available, including:\n",
    "    - *verification functions* used to assess an abstraction is correctly defined [\\_are\\_()]\n",
    "    - *property functions* used to access the attributes of an object [is\\_\\*()]\n",
    "    - *copying functions* used to duplicare abstractions [copy()]\n",
    "    - *utility functions* used to perform manipulations on the abstraction [invert\\_a(), \\_tensorize\\_\\*(), compute_\\*()]\n",
    "    - *outputting functions:* used to output and inspect the abstraction [list\\_\\*(), print\\_\\*(), plot\\_\\*()] .\n",
    "    - *evaluating functions:* used to compute quantities related to the abstraction, such as the abstraction error [compute\\_\\*()]"
   ]
  },
  {
   "cell_type": "markdown",
   "id": "3346ce68",
   "metadata": {},
   "source": [
    "- **TauOmegaAbstraction**: a preliminary class for $(\\tau,\\omega)$ abstraction [Rubenstein2017], inheriting from *SCMMapping*. Its attributes are the functions $\\mathtt{tau,omega}$ and the intervention sets $\\mathtt{I0,I1}$. A few methods have been defined:\n",
    "    - *verification functions* used to assess an abstraction is correctly defined [_is_order_preserving()]\n",
    "    - *utility functions* used to perform manipulations on the abstraction [_build_poset()]"
   ]
  },
  {
   "cell_type": "markdown",
   "id": "ba90747f",
   "metadata": {},
   "source": [
    "## SCMMappings_1_1\n",
    "\n",
    "Starting from the previous implementation, we refactored the code by externalizing all those functions that are not essential to the various abstraction classes. The classes $\\mathtt{SCMMapping}$ and $\\mathtt{Abstraction}$ are reduced to the essential functions used to access properties and perform internal manipulations. A few functions are made generic and exported into a *src/utils.py* file. Printing and evaluating functions are externalized in classes that will take care of these functions; these new classes are defined in *src/printing.py* and *src/evaluating.py*, respectively."
   ]
  },
  {
   "cell_type": "markdown",
   "id": "fef3c5aa",
   "metadata": {},
   "source": [
    "The new structure of code looks as follows:"
   ]
  },
  {
   "cell_type": "markdown",
   "id": "9908b131",
   "metadata": {},
   "source": [
    "<div style=\"max-width:900px;\">\n",
    "    <img src=\"img/UML_SCMMappings_1_1.png\" height=\"100px\">\n",
    "</div>"
   ]
  },
  {
   "cell_type": "markdown",
   "id": "475e6a68",
   "metadata": {},
   "source": [
    "where we have three main sections:"
   ]
  },
  {
   "cell_type": "markdown",
   "id": "807fba8a",
   "metadata": {},
   "source": [
    "- **SCMMapping** and the descendants **Abstraction** and **TauOmegaAbstraction** instantiate the abstraction objects, encapsulate the key properties, and include the verification, property, and copying functions."
   ]
  },
  {
   "cell_type": "markdown",
   "id": "cd16bc09",
   "metadata": {},
   "source": [
    "- **SCMMappingPrinter** and the descendant **AbstractionPrinter** receive an abstraction object, and they provide outputting functions."
   ]
  },
  {
   "cell_type": "markdown",
   "id": "4bfa0565",
   "metadata": {},
   "source": [
    "- **SCMMappingEvaluator** and the descendant **AbstractionEvaluator** receive an abstraction object, and they provide functions for measuring abstraction quality. Concrete subclasses are **AbstractionErrorEvaluator** (computing the standard abstraction error), **AbstractionInfoLossEvaluator**, and **AbstractionEIEvaluator**."
   ]
  },
  {
   "cell_type": "markdown",
   "id": "44f89bc5",
   "metadata": {},
   "source": [
    "All the functions are substantially identical, only the overall architecture of the project has changes."
   ]
  },
  {
   "cell_type": "markdown",
   "id": "0115c42b",
   "metadata": {},
   "source": [
    "## Testing\n",
    "\n",
    "We run here a few tests to check the compatibility between the two implementations.\n",
    "\n",
    "Let us import basic libraries:"
   ]
  },
  {
   "cell_type": "code",
   "execution_count": 1,
   "id": "ff5fe536",
   "metadata": {
    "scrolled": true
   },
   "outputs": [],
   "source": [
    "import numpy as np\n",
    "\n",
    "from src.legacy.SCMMappings_1_0 import Abstraction as legacyAbs\n",
    "from src.SCMMappings_1_1 import Abstraction as newAbs\n",
    "from src.printing import AbstractionPrinter\n",
    "from src.evaluating import AbstractionErrorEvaluator\n",
    "from src.evaluating import AbstractionInfoLossEvaluator\n",
    "from src.evaluating import AbstractionEffectiveInformationEvaluator\n",
    "\n",
    "from src.examples import smokingmodels as ex\n",
    "\n",
    "import sys,io"
   ]
  },
  {
   "cell_type": "markdown",
   "id": "8df6acf2",
   "metadata": {},
   "source": [
    "### Example1"
   ]
  },
  {
   "cell_type": "markdown",
   "id": "21133ad9",
   "metadata": {},
   "source": [
    "We first testing the identity of printing and evaluation functions in our standard smoking toy example."
   ]
  },
  {
   "cell_type": "code",
   "execution_count": 2,
   "id": "a12155b6",
   "metadata": {},
   "outputs": [],
   "source": [
    "M0,M1,R,a,alphas = ex.standardA_M0chainSTC_M1chainSC()"
   ]
  },
  {
   "cell_type": "markdown",
   "id": "dbd24c35",
   "metadata": {},
   "source": [
    "We instantiate a model using the legacy code."
   ]
  },
  {
   "cell_type": "code",
   "execution_count": 3,
   "id": "108cd962",
   "metadata": {},
   "outputs": [],
   "source": [
    "Al = legacyAbs(M0,M1,R,a,alphas)"
   ]
  },
  {
   "cell_type": "markdown",
   "id": "d0d37136",
   "metadata": {},
   "source": [
    "And a model using the new code."
   ]
  },
  {
   "cell_type": "code",
   "execution_count": 4,
   "id": "f4fac8b0",
   "metadata": {},
   "outputs": [],
   "source": [
    "An = newAbs(M0,M1,R,a,alphas)"
   ]
  },
  {
   "cell_type": "markdown",
   "id": "89dd59e9",
   "metadata": {},
   "source": [
    "We now move on to assess the equality of the printing functions. Notice that for the new model we need to instantiate an *AbstractionPrinter* object."
   ]
  },
  {
   "cell_type": "code",
   "execution_count": 5,
   "id": "b6374ca0",
   "metadata": {},
   "outputs": [],
   "source": [
    "Ap = AbstractionPrinter(An)"
   ]
  },
  {
   "cell_type": "code",
   "execution_count": 6,
   "id": "518d8532",
   "metadata": {},
   "outputs": [],
   "source": [
    "allmethods = dir(AbstractionPrinter)\n",
    "methods = [m for m in allmethods if (m[0:2]!='__' and m[0:4]!='plot')]\n",
    "\n",
    "old_stdout = sys.stdout\n",
    "for m in methods:\n",
    "    sys.stdout = io.StringIO()\n",
    "    getattr(Al,m)()\n",
    "    output1 = sys.stdout.getvalue()\n",
    "    sys.stdout = io.StringIO()\n",
    "    getattr(Ap,m)()\n",
    "    output2 = sys.stdout.getvalue()\n",
    "    \n",
    "    assert(output1==output2)\n",
    "    \n",
    "sys.stdout = old_stdout"
   ]
  },
  {
   "cell_type": "markdown",
   "id": "796ca36a",
   "metadata": {},
   "source": [
    "Next we assess the equality in the evaluating functions. As before, for the new model, we instantiate a specific *AbstractionEvaluator* object."
   ]
  },
  {
   "cell_type": "code",
   "execution_count": 7,
   "id": "60eda188",
   "metadata": {},
   "outputs": [],
   "source": [
    "Ae = AbstractionErrorEvaluator(An)"
   ]
  },
  {
   "cell_type": "code",
   "execution_count": 8,
   "id": "461cffe3",
   "metadata": {},
   "outputs": [],
   "source": [
    "assert(Al.evaluate_abstraction_error() == Ae.evaluate_abstraction_errors())"
   ]
  },
  {
   "cell_type": "markdown",
   "id": "abae361e",
   "metadata": {},
   "source": [
    "The two objects behave in the same way."
   ]
  },
  {
   "cell_type": "markdown",
   "id": "1b248a82",
   "metadata": {},
   "source": [
    "### Example2\n",
    "\n",
    "For further confirmation, we run the test on another smoking toy model."
   ]
  },
  {
   "cell_type": "code",
   "execution_count": 9,
   "id": "287ef13d",
   "metadata": {},
   "outputs": [],
   "source": [
    "M0,M1,R,a,alphas = ex.standardA_M0chainSC_M1indepSC()"
   ]
  },
  {
   "cell_type": "markdown",
   "id": "a3df0418",
   "metadata": {},
   "source": [
    "We instantiate old and new objects."
   ]
  },
  {
   "cell_type": "code",
   "execution_count": 10,
   "id": "441227e8",
   "metadata": {},
   "outputs": [],
   "source": [
    "Al = legacyAbs(M0,M1,R,a,alphas)"
   ]
  },
  {
   "cell_type": "code",
   "execution_count": 11,
   "id": "f6f8eec2",
   "metadata": {},
   "outputs": [],
   "source": [
    "An = newAbs(M0,M1,R,a,alphas)"
   ]
  },
  {
   "cell_type": "markdown",
   "id": "10feec19",
   "metadata": {},
   "source": [
    "We verify the identity for printing functions."
   ]
  },
  {
   "cell_type": "code",
   "execution_count": 12,
   "id": "9f2bdd26",
   "metadata": {},
   "outputs": [],
   "source": [
    "Ap = AbstractionPrinter(An)"
   ]
  },
  {
   "cell_type": "code",
   "execution_count": 13,
   "id": "a968b059",
   "metadata": {},
   "outputs": [],
   "source": [
    "allmethods = dir(AbstractionPrinter)\n",
    "methods = [m for m in allmethods if (m[0:2]!='__' and m[0:4]!='plot')]\n",
    "\n",
    "for m in methods:\n",
    "    sys.stdout = io.StringIO()\n",
    "    getattr(Al,m)()\n",
    "    output1 = sys.stdout.getvalue()\n",
    "    sys.stdout = io.StringIO()\n",
    "    getattr(Ap,m)()\n",
    "    output2 = sys.stdout.getvalue()\n",
    "    \n",
    "    assert(output1==output2)\n",
    "    \n",
    "sys.stdout = old_stdout"
   ]
  },
  {
   "cell_type": "markdown",
   "id": "b70b887f",
   "metadata": {},
   "source": [
    "We verify the identity for evaluating functions."
   ]
  },
  {
   "cell_type": "code",
   "execution_count": 14,
   "id": "4ca2b2f6",
   "metadata": {},
   "outputs": [],
   "source": [
    "Ae = AbstractionErrorEvaluator(An)"
   ]
  },
  {
   "cell_type": "code",
   "execution_count": 15,
   "id": "394a533a",
   "metadata": {
    "scrolled": true
   },
   "outputs": [],
   "source": [
    "assert(Al.evaluate_abstraction_error() == Ae.evaluate_abstraction_errors())"
   ]
  },
  {
   "cell_type": "markdown",
   "id": "da7c4083",
   "metadata": {},
   "source": [
    "The two objects behave in the same way."
   ]
  },
  {
   "cell_type": "markdown",
   "id": "39be596f",
   "metadata": {},
   "source": [
    "## Conclusion\n",
    "\n",
    "We have reorganized the code to manage our abstraction in a more modular way. The old code will still be available as legacy code in *src/legacy/SCMMappings_1_0.py*. The new code will be available in *src/SCMMappings_1_1.py*."
   ]
  },
  {
   "cell_type": "markdown",
   "id": "8cb4ffb2",
   "metadata": {},
   "source": [
    "## Bibliography\n",
    "\n",
    "[Rischel2020] Rischel, Eigil Fjeldgren. \"The Category Theory of Causal Models.\" (2020).\n",
    "\n",
    "[Rubenstein2017] Rubenstein, Paul K., et al. \"Causal consistency of structural equation models.\" arXiv preprint arXiv:1707.00819 (2017)."
   ]
  },
  {
   "cell_type": "code",
   "execution_count": null,
   "id": "5b0cf646",
   "metadata": {},
   "outputs": [],
   "source": []
  }
 ],
 "metadata": {
  "kernelspec": {
   "display_name": "Python 3 (ipykernel)",
   "language": "python",
   "name": "python3"
  },
  "language_info": {
   "codemirror_mode": {
    "name": "ipython",
    "version": 3
   },
   "file_extension": ".py",
   "mimetype": "text/x-python",
   "name": "python",
   "nbconvert_exporter": "python",
   "pygments_lexer": "ipython3",
   "version": "3.9.10"
  },
  "toc": {
   "base_numbering": 1,
   "nav_menu": {},
   "number_sections": true,
   "sideBar": true,
   "skip_h1_title": false,
   "title_cell": "Table of Contents",
   "title_sidebar": "Contents",
   "toc_cell": false,
   "toc_position": {},
   "toc_section_display": true,
   "toc_window_display": false
  }
 },
 "nbformat": 4,
 "nbformat_minor": 5
}
