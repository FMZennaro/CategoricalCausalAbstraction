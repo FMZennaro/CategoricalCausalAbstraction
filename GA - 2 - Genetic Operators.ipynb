{
 "cells": [
  {
   "cell_type": "markdown",
   "metadata": {},
   "source": [
    "# Genetic Algorithm"
   ]
  },
  {
   "cell_type": "markdown",
   "metadata": {},
   "source": [
    "This notebook analyzes more closely possible genetic operators for the GA designed to solve the problem of *learning abstractions*. A detailed description of the problem is given in the previous notebook; here we just run a few empiricial analyses and present some theoretical considerations."
   ]
  },
  {
   "cell_type": "markdown",
   "metadata": {},
   "source": [
    "## Setup\n",
    "\n",
    "We import the basic libraries."
   ]
  },
  {
   "cell_type": "code",
   "execution_count": 1,
   "metadata": {},
   "outputs": [],
   "source": [
    "import numpy as np\n",
    "import matplotlib.pyplot as plt\n",
    "import itertools\n",
    "\n",
    "from tqdm.notebook import tqdm\n",
    "\n",
    "import src.utils as ut\n",
    "import src.geneticalgorithm as ga\n",
    "import src.learning as lng"
   ]
  },
  {
   "cell_type": "markdown",
   "metadata": {},
   "source": [
    "We first set reproducibility and output constants."
   ]
  },
  {
   "cell_type": "code",
   "execution_count": 2,
   "metadata": {},
   "outputs": [],
   "source": [
    "np.random.seed(1985)\n",
    "\n",
    "np.set_printoptions(precision=4,suppress=True)"
   ]
  },
  {
   "cell_type": "markdown",
   "metadata": {},
   "source": [
    "We also define some problem specific setting, taken from the previous notebook. Specifically we consider a population where each individual encodes three binary surjective matrices with the following dimensions."
   ]
  },
  {
   "cell_type": "code",
   "execution_count": 3,
   "metadata": {},
   "outputs": [],
   "source": [
    "MATRICES = [[3,4],[2,3],[2,2]]\n",
    "\n",
    "N_ITER = 10**5"
   ]
  },
  {
   "cell_type": "markdown",
   "metadata": {},
   "source": [
    "## Formal introduction\n",
    "\n",
    "In this notebook we want to analyze how genetic operators allow us to explore the space of solutions. We will start focusing on the main operator of *mutation*."
   ]
  },
  {
   "cell_type": "markdown",
   "metadata": {},
   "source": [
    "### Mutation operator\n",
    "\n",
    "We define a mutation operator $\\mathbf{M}$ as a unary individual-level operator that transforms one solution into another solution. Formally: \n",
    "\n",
    "$$\n",
    "\\mathbf{M}: \\mathcal{X} \\rightarrow \\mathcal{X},\n",
    "$$\n",
    "\n",
    "where $\\mathcal{X}$ is the solution space. We are interested in examining the behaviour of the iterative application of this operator:\n",
    "\n",
    "$$\n",
    "\\mathbf{M}^n(x) = \\mathbf{M}(\\mathbf{M}(....\\mathbf{M}(x)...))),\n",
    "$$\n",
    "\n",
    "for $x \\in \\mathcal{X}$. This chain defines a random walk in the solution space. We may be interested in different properties:\n",
    "1. Does the walk cover the whole space uniformly?\n",
    "2. Is the walk sensitive to the starting point?"
   ]
  },
  {
   "cell_type": "markdown",
   "metadata": {},
   "source": [
    "A couple of remarks:\n",
    "- In general it may not be desirable for a whole genetic algorithm to perform a uniform sampling in the solution space. However, the sampling probability distribution can be transformed and biased via fitness evaluation. Without fitness and selection, it may be reasonable to require the mutation operator itself to be uniform.\n",
    "- A genetic algorithm instantiates a population of individuals. Applying the mutation operator to a population boils down to the application of the unary operator to multiple individuals in parallel. However, notice that this may change the statistical properties of the exploration. For instance, if the mutation operator perform a highly localized walk, having multiple distributed starting point may significantly improve the coverage of the procedure."
   ]
  },
  {
   "cell_type": "markdown",
   "metadata": {},
   "source": [
    "## Simulations for mutation operators"
   ]
  },
  {
   "cell_type": "markdown",
   "metadata": {},
   "source": [
    "We run a few simulations to observe how the random walk implied by a mutation operator cover the solution space."
   ]
  },
  {
   "cell_type": "markdown",
   "metadata": {},
   "source": [
    "To do this, we first define a couple of support data structure.\n",
    "\n",
    "We first define *sample_space*, an indexable list to efficiently sample admissible solutions."
   ]
  },
  {
   "cell_type": "code",
   "execution_count": 4,
   "metadata": {},
   "outputs": [],
   "source": [
    "sets = []\n",
    "for m in MATRICES:\n",
    "    all_surj_matrices = lng.get_all_surjective_matrices(m[1], m[0])\n",
    "    all_surj_vectors = [ut.map_matrix2vect(i) for i in all_surj_matrices]\n",
    "    sets.append(all_surj_vectors)\n",
    "sample_space = list(itertools.product(*sets))\n",
    "sample_space_dim = len(sample_space)"
   ]
  },
  {
   "cell_type": "markdown",
   "metadata": {},
   "source": [
    "Next we define *flat_sample_space*, a set of hashable flattened solutions that we will use to verify containment and to access a counter dictionary. We provide also a small helper function, *vectors_to_set()*, that transforms a solution (list of array) inot a dictionary key (a flattened tuple)."
   ]
  },
  {
   "cell_type": "code",
   "execution_count": 5,
   "metadata": {},
   "outputs": [],
   "source": [
    "def vectors_to_set(vs):\n",
    "    return tuple(np.concatenate(vs))"
   ]
  },
  {
   "cell_type": "code",
   "execution_count": 6,
   "metadata": {},
   "outputs": [],
   "source": [
    "flat_sample_space = set([vectors_to_set(i) for i in sample_space])"
   ]
  },
  {
   "cell_type": "markdown",
   "metadata": {},
   "source": [
    "We also define a function to get an empty counter and the dimension of the sample space. Notice that our statistics account for non-admissible solution in an additional bin."
   ]
  },
  {
   "cell_type": "code",
   "execution_count": 7,
   "metadata": {},
   "outputs": [],
   "source": [
    "def get_counter():\n",
    "    counter = dict.fromkeys(flat_sample_space,0)\n",
    "    counter['Not Admissible'] = 0\n",
    "    return counter\n",
    "\n",
    "sample_space_dim = len(sample_space)"
   ]
  },
  {
   "cell_type": "markdown",
   "metadata": {},
   "source": [
    "### Mutation 0: Pure sampling\n",
    "\n",
    "The first mutation operator is a basic uniform sampling from $\\mathcal{X}$. This mutation operator is not very meaningful because (i) normally we can not sample uniformly from $\\mathcal{X}$; (ii) the implied random walk is trivially uniform. Yet, this simulation will work as a failsafe experiment."
   ]
  },
  {
   "cell_type": "code",
   "execution_count": 8,
   "metadata": {},
   "outputs": [
    {
     "data": {
      "application/vnd.jupyter.widget-view+json": {
       "model_id": "5842f89dbfa042cfbe22788fa00110f7",
       "version_major": 2,
       "version_minor": 0
      },
      "text/plain": [
       "  0%|          | 0/100000 [00:00<?, ?it/s]"
      ]
     },
     "metadata": {},
     "output_type": "display_data"
    }
   ],
   "source": [
    "counter = get_counter()\n",
    "for i in tqdm(range(N_ITER)):\n",
    "    sample = sample_space[np.random.choice(sample_space_dim)]    \n",
    "    counter[vectors_to_set(sample)] += 1"
   ]
  },
  {
   "cell_type": "code",
   "execution_count": 9,
   "metadata": {},
   "outputs": [
    {
     "name": "stdout",
     "output_type": "stream",
     "text": [
      "Non-admissible solution considered: 0\n",
      "Solution never considered: 0 (0.0%)\n",
      "Theoretical expected value: 231.4814814814815\n",
      "Empirical mean and std: 231.4814814814815 +- 15.524909185326013\n",
      "Empirical min and max: 185 --- 285\n"
     ]
    },
    {
     "data": {
      "image/png": "[encoded data removed]",
      "text/plain": [
       "<Figure size 432x288 with 1 Axes>"
      ]
     },
     "metadata": {
      "needs_background": "light"
     },
     "output_type": "display_data"
    }
   ],
   "source": [
    "vals = list(counter.values())[0:-1]\n",
    "print('Non-admissible solution considered: {0}'.format(counter['Not Admissible']))\n",
    "print('Solution never considered: {0} ({1}%)'.format(np.sum(np.array(vals)==0), np.sum(np.array(vals)==0)*100/sample_space_dim))\n",
    "\n",
    "plt.bar(np.arange(sample_space_dim), vals)\n",
    "\n",
    "plt.hlines(N_ITER/sample_space_dim,0,sample_space_dim,color='red',linestyles='solid')\n",
    "print('Theoretical expected value: {0}'.format(N_ITER/sample_space_dim))\n",
    "\n",
    "plt.hlines(np.mean(vals),0,sample_space_dim,color='green',linestyles='solid')\n",
    "plt.hlines(np.mean(vals)+np.std(vals),0,sample_space_dim,color='green',linestyles='dashed')\n",
    "plt.hlines(np.mean(vals)-np.std(vals),0,sample_space_dim,color='green',linestyles='dashed')\n",
    "print('Empirical mean and std: {0} +- {1}'.format(np.mean(vals),np.std(vals)))\n",
    "print('Empirical min and max: {0} --- {1}'.format(np.min(vals),np.max(vals)))"
   ]
  },
  {
   "cell_type": "markdown",
   "metadata": {},
   "source": [
    "Of course, the distribution is noisy but vaguely uniform (the solid line defines the expected value under the uniform distribution)."
   ]
  },
  {
   "cell_type": "markdown",
   "metadata": {},
   "source": [
    "### Mutation 1: Random variation\n",
    "\n",
    "We now consider the basic mutation operator we have used before, where with a small probability ($MUTATION\\_RATE$) an entry in an individual is randomly changed. This mutation changes an entry arbitrarily, without taking into account the constraint of surjectivity."
   ]
  },
  {
   "cell_type": "code",
   "execution_count": 10,
   "metadata": {},
   "outputs": [],
   "source": [
    "MUTATION_RATE = .1"
   ]
  },
  {
   "cell_type": "code",
   "execution_count": 11,
   "metadata": {},
   "outputs": [],
   "source": [
    "def mutate(x,verbose=False):\n",
    "    for i in range(len(MATRICES)):\n",
    "        for j in range(len(x[i])):\n",
    "            if np.random.rand() < MUTATION_RATE:\n",
    "                x[i][j] = np.random.randint(MATRICES[i][0])   \n",
    "    return x"
   ]
  },
  {
   "cell_type": "markdown",
   "metadata": {},
   "source": [
    "We run our sampling and plot the results."
   ]
  },
  {
   "cell_type": "code",
   "execution_count": 12,
   "metadata": {},
   "outputs": [
    {
     "data": {
      "application/vnd.jupyter.widget-view+json": {
       "model_id": "4a28b71c184e4e0aa23148a0170fc628",
       "version_major": 2,
       "version_minor": 0
      },
      "text/plain": [
       "  0%|          | 0/100000 [00:00<?, ?it/s]"
      ]
     },
     "metadata": {},
     "output_type": "display_data"
    }
   ],
   "source": [
    "x = ga.generate_random_population(1,MATRICES)[0]\n",
    "counter = get_counter()\n",
    "\n",
    "for i in tqdm(range(N_ITER)):\n",
    "    x = mutate(x)\n",
    "    if vectors_to_set(x) in flat_sample_space:\n",
    "        counter[vectors_to_set(x)] += 1\n",
    "    else:\n",
    "        counter['Not Admissible'] += 1"
   ]
  },
  {
   "cell_type": "code",
   "execution_count": 13,
   "metadata": {},
   "outputs": [
    {
     "name": "stdout",
     "output_type": "stream",
     "text": [
      "Non-admissible solution considered: 83333 (83.333%)\n",
      "Solution never considered: 0 (0.0%)\n",
      "Empirical mean and std: 38.58101851851852 +- 12.40381179761964\n",
      "Empirical min and max: 6 --- 77\n"
     ]
    },
    {
     "data": {
      "image/png": "[encoded data removed]",
      "text/plain": [
       "<Figure size 432x288 with 1 Axes>"
      ]
     },
     "metadata": {
      "needs_background": "light"
     },
     "output_type": "display_data"
    }
   ],
   "source": [
    "vals = list(counter.values())[0:-1]\n",
    "print('Non-admissible solution considered: {0} ({1}%)'.format(counter['Not Admissible'], counter['Not Admissible']*100/N_ITER))\n",
    "print('Solution never considered: {0} ({1}%)'.format(np.sum(np.array(vals)==0), np.sum(np.array(vals)==0)*100/sample_space_dim))\n",
    "\n",
    "plt.bar(np.arange(sample_space_dim), vals)\n",
    "\n",
    "plt.hlines(np.mean(vals),0,sample_space_dim,color='green',linestyles='solid')\n",
    "plt.hlines(np.mean(vals)+np.std(vals),0,sample_space_dim,color='green',linestyles='dashed')\n",
    "plt.hlines(np.mean(vals)-np.std(vals),0,sample_space_dim,color='green',linestyles='dashed')\n",
    "print('Empirical mean and std: {0} +- {1}'.format(np.mean(vals),np.std(vals)))\n",
    "print('Empirical min and max: {0} --- {1}'.format(np.min(vals),np.max(vals)))"
   ]
  },
  {
   "cell_type": "markdown",
   "metadata": {},
   "source": [
    "A first striking observation is that this operator leads us to spend most of the time ($\\sim 83\\%$) outside the space of admissible solutions. On the positive side, though, all solutions are explored. However, the sample is too small to assess whether the random walk is uniform."
   ]
  },
  {
   "cell_type": "markdown",
   "metadata": {},
   "source": [
    "### Mutation 2: Random variation with repair\n",
    "\n",
    "We now try to patch the wasteful mutation operator with a *repair* loop: every time a mutation is proposed, if the mutation generates a non-admissible solution, an alternative mutation is requested."
   ]
  },
  {
   "cell_type": "code",
   "execution_count": 14,
   "metadata": {},
   "outputs": [],
   "source": [
    "def is_individual_admissible(x):\n",
    "    for i in range(len(x)):\n",
    "        xmatrix = ut.map_vect2matrix(x[i],MATRICES[i][0])\n",
    "        if not ut.is_matrix_surjective(xmatrix):\n",
    "            return False\n",
    "    return True"
   ]
  },
  {
   "cell_type": "code",
   "execution_count": 15,
   "metadata": {},
   "outputs": [],
   "source": [
    "def mutate_with_repair(x,verbose=False):\n",
    "    for i in range(len(MATRICES)):\n",
    "        for j in range(len(x[i])):\n",
    "            if np.random.rand() < MUTATION_RATE:\n",
    "                x[i][j] = np.random.randint(MATRICES[i][0])\n",
    "                while(not is_individual_admissible(x)):\n",
    "                    x[i][j] = np.random.randint(MATRICES[i][0])\n",
    "    return x"
   ]
  },
  {
   "cell_type": "markdown",
   "metadata": {},
   "source": [
    "We run the simulation and plot the results."
   ]
  },
  {
   "cell_type": "code",
   "execution_count": 16,
   "metadata": {},
   "outputs": [
    {
     "data": {
      "application/vnd.jupyter.widget-view+json": {
       "model_id": "ffcb549aa3c6459ab761e22aa38305e5",
       "version_major": 2,
       "version_minor": 0
      },
      "text/plain": [
       "  0%|          | 0/100000 [00:00<?, ?it/s]"
      ]
     },
     "metadata": {},
     "output_type": "display_data"
    }
   ],
   "source": [
    "x = ga.generate_random_population(1,MATRICES)[0]\n",
    "while(not is_individual_admissible(x)):\n",
    "    x = ga.generate_random_population(1,MATRICES)[0]\n",
    "counter = get_counter()\n",
    "\n",
    "for i in tqdm(range(N_ITER)):\n",
    "    x = mutate_with_repair(x)\n",
    "    if vectors_to_set(x) in flat_sample_space:\n",
    "        counter[vectors_to_set(x)] += 1\n",
    "    else:\n",
    "        counter['Not Admissible'] += 1"
   ]
  },
  {
   "cell_type": "code",
   "execution_count": 17,
   "metadata": {},
   "outputs": [
    {
     "name": "stdout",
     "output_type": "stream",
     "text": [
      "Non-admissible solution considered: 0 (0.0%)\n",
      "Solution never considered: 216 (50.0%)\n",
      "Empirical min and max: 0 --- 700\n",
      "Empirical mean and std: 231.4814814814815 +- 238.13606760442968\n"
     ]
    },
    {
     "data": {
      "image/png": "[encoded data removed]",
      "text/plain": [
       "<Figure size 432x288 with 1 Axes>"
      ]
     },
     "metadata": {
      "needs_background": "light"
     },
     "output_type": "display_data"
    }
   ],
   "source": [
    "vals = list(counter.values())[0:-1]\n",
    "print('Non-admissible solution considered: {0} ({1}%)'.format(counter['Not Admissible'], counter['Not Admissible']*100/N_ITER))\n",
    "print('Solution never considered: {0} ({1}%)'.format(np.sum(np.array(vals)==0), np.sum(np.array(vals)==0)*100/sample_space_dim))\n",
    "print('Empirical min and max: {0} --- {1}'.format(np.min(vals),np.max(vals)))\n",
    "\n",
    "plt.bar(np.arange(sample_space_dim), vals)\n",
    "\n",
    "plt.hlines(np.mean(vals),0,sample_space_dim,color='green',linestyles='solid')\n",
    "plt.hlines(np.mean(vals)+np.std(vals),0,sample_space_dim,color='green',linestyles='dashed')\n",
    "plt.hlines(np.mean(vals)-np.std(vals),0,sample_space_dim,color='green',linestyles='dashed')\n",
    "print('Empirical mean and std: {0} +- {1}'.format(np.mean(vals),np.std(vals)))"
   ]
  },
  {
   "cell_type": "markdown",
   "metadata": {},
   "source": [
    "This new solution avoids generating non-admissible solution; however, the truth is that the algorithm still generates non-admissible solution, it just avoids passing them on until a good one is found. This looping cycle causes the mutation operators to be significantly slower (see the time output of *tqdm*: less than a second for the original operator and more than $10$ seconds for the operator with repair).\n",
    "\n",
    "The other striking feature is that a large number of solution (exactly half) are never considered. This may be surprising at first, but it is actually due to the presence of a square matrix: no single entry change in a square matrix may be introduced without causing it to be non-surjective. Thus the last matrix, with shape $2 \\times 2$ is never modified."
   ]
  },
  {
   "cell_type": "markdown",
   "metadata": {},
   "source": [
    "Two conclusions are of interest:\n",
    "- We want to design mutation and repair together in a smart way. Our solution does not reduce complexity: it trades sample efficiency (number of admissible solution) with time efficiency (running time).\n",
    "- We want to design repair so that it does not prevent the exploration of the solution space."
   ]
  },
  {
   "cell_type": "markdown",
   "metadata": {},
   "source": [
    "### Mutation 3: Random variation with constraint-awareness\n",
    "\n",
    "We now implement a mutation that, every time a mutation occurs, select one among two routines that preserve surjectivity: (i) swapping of two values; (ii) random substitution of a repeated entry."
   ]
  },
  {
   "cell_type": "code",
   "execution_count": 18,
   "metadata": {},
   "outputs": [],
   "source": [
    "def swap(v): \n",
    "    idxs = np.random.choice(len(v),size=2,replace=False)\n",
    "    \n",
    "    tmp = v[idxs[0]]\n",
    "    v[idxs[0]] = v[idxs[1]]\n",
    "    v[idxs[1]] = tmp\n",
    "    \n",
    "    return v"
   ]
  },
  {
   "cell_type": "code",
   "execution_count": 19,
   "metadata": {},
   "outputs": [],
   "source": [
    "def substitute(v,dom):\n",
    "    repeated_elements = list(set([x for x in v if list(v).count(x) > 1]))\n",
    "    if repeated_elements:\n",
    "        element_to_subst = repeated_elements[np.random.choice(len(repeated_elements))]\n",
    "        idx_element_to_subst = np.random.choice(np.argwhere(v==element_to_subst).flatten())\n",
    "        v[idx_element_to_subst] = np.random.randint(dom)\n",
    "    return v"
   ]
  },
  {
   "cell_type": "code",
   "execution_count": 20,
   "metadata": {},
   "outputs": [],
   "source": [
    "def mutate_with_constraint(x,verbose=False):\n",
    "    for i in range(len(MATRICES)):\n",
    "        if np.random.rand() < MUTATION_RATE:\n",
    "            if np.random.rand() < .5:\n",
    "                swap(x[i])\n",
    "            else:\n",
    "                substitute(x[i], MATRICES[i][0])\n",
    "    return x"
   ]
  },
  {
   "cell_type": "markdown",
   "metadata": {},
   "source": [
    "We run the simulation and plot the results."
   ]
  },
  {
   "cell_type": "code",
   "execution_count": 21,
   "metadata": {},
   "outputs": [
    {
     "data": {
      "application/vnd.jupyter.widget-view+json": {
       "model_id": "aece9165531244a9b3567a3181625d5e",
       "version_major": 2,
       "version_minor": 0
      },
      "text/plain": [
       "  0%|          | 0/100000 [00:00<?, ?it/s]"
      ]
     },
     "metadata": {},
     "output_type": "display_data"
    }
   ],
   "source": [
    "x = ga.generate_random_population(1,MATRICES)[0]\n",
    "while(not is_individual_admissible(x)):\n",
    "    x = ga.generate_random_population(1,MATRICES)[0]\n",
    "counter = get_counter()\n",
    "\n",
    "for i in tqdm(range(N_ITER)):\n",
    "    x = mutate_with_constraint(x)\n",
    "    if vectors_to_set(x) in flat_sample_space:\n",
    "        counter[vectors_to_set(x)] += 1\n",
    "    else:\n",
    "        counter['Not Admissible'] += 1"
   ]
  },
  {
   "cell_type": "code",
   "execution_count": 22,
   "metadata": {},
   "outputs": [
    {
     "name": "stdout",
     "output_type": "stream",
     "text": [
      "Non-admissible solution considered: 0 (0.0%)\n",
      "Solution never considered: 0 (0.0%)\n",
      "Empirical min and max: 88 --- 420\n",
      "Empirical mean and std: 231.4814814814815 +- 54.43267698479598\n"
     ]
    },
    {
     "data": {
      "image/png": "[encoded data removed]",
      "text/plain": [
       "<Figure size 432x288 with 1 Axes>"
      ]
     },
     "metadata": {
      "needs_background": "light"
     },
     "output_type": "display_data"
    }
   ],
   "source": [
    "vals = list(counter.values())[0:-1]\n",
    "print('Non-admissible solution considered: {0} ({1}%)'.format(counter['Not Admissible'], counter['Not Admissible']*100/N_ITER))\n",
    "print('Solution never considered: {0} ({1}%)'.format(np.sum(np.array(vals)==0), np.sum(np.array(vals)==0)*100/sample_space_dim))\n",
    "print('Empirical min and max: {0} --- {1}'.format(np.min(vals),np.max(vals)))\n",
    "\n",
    "plt.bar(np.arange(sample_space_dim), vals)\n",
    "\n",
    "plt.hlines(np.mean(vals),0,sample_space_dim,color='green',linestyles='solid')\n",
    "plt.hlines(np.mean(vals)+np.std(vals),0,sample_space_dim,color='green',linestyles='dashed')\n",
    "plt.hlines(np.mean(vals)-np.std(vals),0,sample_space_dim,color='green',linestyles='dashed')\n",
    "print('Empirical mean and std: {0} +- {1}'.format(np.mean(vals),np.std(vals)))"
   ]
  },
  {
   "cell_type": "markdown",
   "metadata": {},
   "source": [
    "This solution improves on the trade-off described above in the sense that it generates only admissible solutions in  a more reasonable amount of time ($\\sim 3$ seconds). \n",
    "\n",
    "Although all solutions are explored, the distribution looks less uniform, due to two routines (*swap()* and *substitute()*) that do not generate new solutions evenly. Assessing this distribution, or considering how these two routines could be improved may be of interest."
   ]
  },
  {
   "cell_type": "markdown",
   "metadata": {},
   "source": [
    "## More formal rantings...\n",
    "\n",
    "The second key genetic operator we want to design is *crossover*. A couple of considerations are worth of notice:\n",
    "\n",
    "- Our definition of crossover probabily meets the *building block hypothesis* well: by swapping entire matrices we indeed exploit a high-level structure.\n",
    "- Crossover introduces a second-order modification in our individuals, which we try to formalize next."
   ]
  },
  {
   "cell_type": "markdown",
   "metadata": {},
   "source": [
    "### Crossover (and selection) operator\n",
    "\n",
    "We define a crossover operator $\\mathbf{C}$ as a binary population-level operator that combines two solutions into a new solution. Normally such an operator may be formalized as: \n",
    "\n",
    "$$\n",
    "\\mathbf{C_0}: \\mathcal{X} \\times \\mathcal{X} \\rightarrow \\mathcal{X}.\n",
    "$$\n",
    "\n",
    "However, let us redefine the cross-over as:\n",
    "\n",
    "$$\n",
    "\\mathbf{C}(x,x')=(f_{1}(x,x',\\mathbf{c}(x,x')),f_{2}(x,x',\\mathbf{c}(x,x')))\n",
    "$$\n",
    "\n",
    "where $f_1$ and $f_2$ are two fitness function selecting the best among the inputs, and $\\mathbf{c}$ is the actual cross-over. This expression has some advantages:\n",
    "\n",
    "- It preserves the actual cross-over $\\mathbf{C_0}$ in the signature of $\\mathbf{c}: \\mathcal{X} \\times \\mathcal{X} \\rightarrow \\mathcal{X}$;\n",
    "- It allows $\\mathbf{C}: \\mathcal{X} \\times \\mathcal{X} \\rightarrow \\mathcal{X} \\times \\mathcal{X}$ to have equal input and output space; this in turn allows (i) preservation of the population size, and (ii) iterative application of the operator;\n",
    "- It allows to rely on two (potentially different) criteria for the evolution of the population;\n",
    "- If mutation is applied after $\\mathbf{C}$, the fitness of the mutation will be assessed on the successive iteration.\n",
    "\n",
    "Let us futher consider a sample operator that selects two individuals $x,x'$ from a population $\\mathbf{x}$:\n",
    "\n",
    "$$\n",
    "\\sigma: \\mathcal{X}^N  \\rightarrow \\mathcal{X} \\times \\mathcal{X}.\n",
    "$$\n",
    "\n",
    "We can now introduce the specification of a general genetic operator $\\mathbf{GA}$ given by the following composition:\n",
    "\n",
    "$$\n",
    "\\mathbf{GA} = \\mathbf{M} \\circ \\mathbf{C} \\circ \\sigma: \\mathcal{X}^N \\rightarrow \\mathcal{X} \\times \\mathcal{X}.\n",
    "$$ \n",
    "\n",
    "This operator can now be applied iteratively to a population $\\mathcal{x}$ and we can study how the ensemble of solution move in the solution space."
   ]
  },
  {
   "cell_type": "markdown",
   "metadata": {},
   "source": [
    "## Bibliography\n",
    "\n",
    "[Rischel2020] Rischel, Eigil Fjeldgren. \"The Category Theory of Causal Models.\" (2020).\n",
    "\n",
    "[Zennaro2022a] Zennaro, Fabio Massimo, Paolo Turrini, and Theo Damoulas. \"Towards Computing an Optimal Abstraction for Structural Causal Models.\" UAI 2022 Workshop on Causal Representation Learning."
   ]
  },
  {
   "cell_type": "code",
   "execution_count": null,
   "metadata": {},
   "outputs": [],
   "source": []
  }
 ],
 "metadata": {
  "kernelspec": {
   "display_name": "Python 3 (ipykernel)",
   "language": "python",
   "name": "python3"
  },
  "language_info": {
   "codemirror_mode": {
    "name": "ipython",
    "version": 3
   },
   "file_extension": ".py",
   "mimetype": "text/x-python",
   "name": "python",
   "nbconvert_exporter": "python",
   "pygments_lexer": "ipython3",
   "version": "3.9.10"
  },
  "toc": {
   "base_numbering": 1,
   "nav_menu": {},
   "number_sections": true,
   "sideBar": true,
   "skip_h1_title": false,
   "title_cell": "Table of Contents",
   "title_sidebar": "Contents",
   "toc_cell": false,
   "toc_position": {
    "height": "calc(100% - 180px)",
    "left": "10px",
    "top": "150px",
    "width": "165px"
   },
   "toc_section_display": true,
   "toc_window_display": true
  }
 },
 "nbformat": 4,
 "nbformat_minor": 2
}
